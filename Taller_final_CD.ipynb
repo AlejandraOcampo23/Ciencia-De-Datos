{
  "nbformat": 4,
  "nbformat_minor": 0,
  "metadata": {
    "colab": {
      "provenance": [],
      "include_colab_link": true
    },
    "kernelspec": {
      "name": "python3",
      "display_name": "Python 3"
    },
    "language_info": {
      "name": "python"
    }
  },
  "cells": [
    {
      "cell_type": "markdown",
      "metadata": {
        "id": "view-in-github",
        "colab_type": "text"
      },
      "source": [
        "<a href=\"https://colab.research.google.com/github/AlejandraOcampo23/Ciencia-De-Datos/blob/main/Taller_final_CD.ipynb\" target=\"_parent\"><img src=\"https://colab.research.google.com/assets/colab-badge.svg\" alt=\"Open In Colab\"/></a>"
      ]
    },
    {
      "cell_type": "markdown",
      "source": [
        "**UEC**\n",
        "\n",
        "\n",
        "**Finanzas y Relaciones Internacionales**\n",
        "\n",
        "**Trabajo Final Ciencia de Datos**\n",
        "\n",
        "\n",
        "\n",
        "\n",
        "**Catalina Naranjo**\n",
        "\n",
        "\n",
        "\n",
        "\n",
        "**Alejandra Ocampo, Valentina Malagon, Mariangel Mantilla.**\n",
        "\n",
        "\n",
        "\n",
        "\n"
      ],
      "metadata": {
        "id": "Wc8zykzHZOjm"
      }
    },
    {
      "cell_type": "markdown",
      "source": [
        "# **Contexto y entendimiento del problema**\n"
      ],
      "metadata": {
        "id": "4hjcbtN2acvP"
      }
    },
    {
      "cell_type": "markdown",
      "source": [
        "En principio lo que se busca en la elaboracion de este trabajo es predecir el tiempo de entrega de un paquete en pequeñas camionetas, las cuales fueron adquiridas por una compañía de transporte. Para poder realizar lo anterior se tienen algunas caracteristicas claves: \n",
        "\n",
        "1. El tiempo comienza a correr cuando todos los paquetes ya están dentro de la camioneta y el conductor enciende el motor.\n",
        "2. El tiempo se detiene cuando el conductor llega a su destino para entregar el paquete.\n",
        "\n",
        "En este sentido, para realizar las predicciones de tiempo de entrega se tienen las siguientes bases de datos: \n",
        "\n",
        "\n",
        "\n",
        "*   Train_principal\n",
        "*   Train_info_geo\n",
        "*   Train_clima\n",
        "*   Test_principal\n",
        "*   Test_info_geo\n",
        "*   Test_clima\n",
        "\n",
        "Por tanto, este trabajo contempla el objetivo de implementar todo lo visto en clase mediante el analisis de la informacion, el tratamiento de los datos, su transformacion, la aplicacion de modelos y el mejoramiento de los mismo mediente tecnicas de ajuste, con la finalidad de tener un valor de predicción correcto del tiempo de entrega de los paquetes.\n",
        "\n",
        "\n",
        "\n",
        "\n",
        "\n",
        "\n",
        "\n",
        "\n"
      ],
      "metadata": {
        "id": "pkUHC-bSa3nz"
      }
    },
    {
      "cell_type": "code",
      "source": [
        "#Importamos las librerias y los datasets \n",
        "import pandas as pd\n",
        "import numpy as np\n",
        "import seaborn as sns\n",
        "import matplotlib.pyplot as plt\n",
        "import datetime as dt\n",
        "import math \n",
        "import re\n",
        "import warnings\n",
        "from datetime import timedelta\n",
        "from sklearn.model_selection import GridSearchCV\n",
        "from sklearn.metrics import mean_absolute_error\n",
        "import time\n",
        "from sklearn.preprocessing import MinMaxScaler\n",
        "import itertools\n",
        "from sklearn.metrics import confusion_matrix,accuracy_score\n",
        "from sklearn.model_selection import cross_val_score\n",
        "from sklearn import linear_model\n",
        "from sklearn.preprocessing import LabelEncoder\n",
        "from sklearn.tree import DecisionTreeClassifier\n",
        "from sklearn.tree import plot_tree\n",
        "from sklearn.model_selection import train_test_split\n",
        "from sklearn.ensemble import RandomForestClassifier\n",
        "from geopy.distance import distance\n",
        "!pip install dataprep\n",
        "from dataprep.eda import create_report\n",
        "from google.colab import files \n",
        "plt.style.use('fivethirtyeight')\n",
        "pd.set_option('display.max_columns', None)\n",
        "festivos=pd.read_csv(\"https://raw.githubusercontent.com/mariangelmantilla2008/Base-de-datos-taller-final-/main/festivos.csv\")\n",
        "test_clima=pd.read_csv(\"https://raw.githubusercontent.com/mariangelmantilla2008/Base-de-datos-taller-final-/main/test_clima.csv\")\n",
        "train_clima=pd.read_csv(\"https://raw.githubusercontent.com/mariangelmantilla2008/Base-de-datos-taller-final-/main/train_clima.csv\")\n",
        "test_info_geo=pd.read_csv(\"https://raw.githubusercontent.com/mariangelmantilla2008/Base-de-datos-taller-final-/main/test_info_geo.csv\")\n",
        "test_principal=pd.read_csv(\"https://raw.githubusercontent.com/mariangelmantilla2008/Base-de-datos-taller-final-/main/test_principal.csv\")\n",
        "train_principal=pd.read_csv(\"https://raw.githubusercontent.com/mariangelmantilla2008/Base-de-datos-taller-final-/main/train_principal.csv\")\n",
        "train_info_geo=pd.read_csv(\"https://raw.githubusercontent.com/mariangelmantilla2008/Base-de-datos-taller-final-/main/train_info_geo.csv\")"
      ],
      "metadata": {
        "id": "-5RY7oeinHL_",
        "colab": {
          "base_uri": "https://localhost:8080/"
        },
        "outputId": "3a822796-f466-405a-bdfc-56b6ead7bf7e"
      },
      "execution_count": null,
      "outputs": [
        {
          "output_type": "stream",
          "name": "stdout",
          "text": [
            "Looking in indexes: https://pypi.org/simple, https://us-python.pkg.dev/colab-wheels/public/simple/\n",
            "Requirement already satisfied: dataprep in /usr/local/lib/python3.10/dist-packages (0.4.5)\n",
            "Requirement already satisfied: aiohttp<4.0,>=3.6 in /usr/local/lib/python3.10/dist-packages (from dataprep) (3.8.4)\n",
            "Requirement already satisfied: bokeh<3,>=2 in /usr/local/lib/python3.10/dist-packages (from dataprep) (2.4.3)\n",
            "Requirement already satisfied: dask[array,dataframe,delayed]>=2022.3.0 in /usr/local/lib/python3.10/dist-packages (from dataprep) (2022.12.1)\n",
            "Requirement already satisfied: flask<3,>=2 in /usr/local/lib/python3.10/dist-packages (from dataprep) (2.2.4)\n",
            "Requirement already satisfied: flask_cors<4.0.0,>=3.0.10 in /usr/local/lib/python3.10/dist-packages (from dataprep) (3.0.10)\n",
            "Requirement already satisfied: ipywidgets<8.0,>=7.5 in /usr/local/lib/python3.10/dist-packages (from dataprep) (7.7.1)\n",
            "Requirement already satisfied: jinja2<3.1,>=3.0 in /usr/local/lib/python3.10/dist-packages (from dataprep) (3.0.3)\n",
            "Requirement already satisfied: jsonpath-ng<2.0,>=1.5 in /usr/local/lib/python3.10/dist-packages (from dataprep) (1.5.3)\n",
            "Requirement already satisfied: metaphone<0.7,>=0.6 in /usr/local/lib/python3.10/dist-packages (from dataprep) (0.6)\n",
            "Requirement already satisfied: nltk<4.0.0,>=3.6.7 in /usr/local/lib/python3.10/dist-packages (from dataprep) (3.8.1)\n",
            "Requirement already satisfied: numpy<2.0,>=1.21 in /usr/local/lib/python3.10/dist-packages (from dataprep) (1.22.4)\n",
            "Requirement already satisfied: pandas<2.0,>=1.1 in /usr/local/lib/python3.10/dist-packages (from dataprep) (1.5.3)\n",
            "Requirement already satisfied: pydantic<2.0,>=1.6 in /usr/local/lib/python3.10/dist-packages (from dataprep) (1.10.7)\n",
            "Requirement already satisfied: pydot<2.0.0,>=1.4.2 in /usr/local/lib/python3.10/dist-packages (from dataprep) (1.4.2)\n",
            "Requirement already satisfied: python-crfsuite==0.9.8 in /usr/local/lib/python3.10/dist-packages (from dataprep) (0.9.8)\n",
            "Requirement already satisfied: python-stdnum<2.0,>=1.16 in /usr/local/lib/python3.10/dist-packages (from dataprep) (1.18)\n",
            "Requirement already satisfied: rapidfuzz<3.0.0,>=2.1.2 in /usr/local/lib/python3.10/dist-packages (from dataprep) (2.15.1)\n",
            "Requirement already satisfied: regex<2022.0.0,>=2021.8.3 in /usr/local/lib/python3.10/dist-packages (from dataprep) (2021.11.10)\n",
            "Requirement already satisfied: scipy<2.0,>=1.8 in /usr/local/lib/python3.10/dist-packages (from dataprep) (1.10.1)\n",
            "Requirement already satisfied: sqlalchemy==1.3.24 in /usr/local/lib/python3.10/dist-packages (from dataprep) (1.3.24)\n",
            "Requirement already satisfied: tqdm<5.0,>=4.48 in /usr/local/lib/python3.10/dist-packages (from dataprep) (4.65.0)\n",
            "Requirement already satisfied: varname<0.9.0,>=0.8.1 in /usr/local/lib/python3.10/dist-packages (from dataprep) (0.8.3)\n",
            "Requirement already satisfied: wordcloud<2.0,>=1.8 in /usr/local/lib/python3.10/dist-packages (from dataprep) (1.8.2.2)\n",
            "Requirement already satisfied: attrs>=17.3.0 in /usr/local/lib/python3.10/dist-packages (from aiohttp<4.0,>=3.6->dataprep) (23.1.0)\n",
            "Requirement already satisfied: charset-normalizer<4.0,>=2.0 in /usr/local/lib/python3.10/dist-packages (from aiohttp<4.0,>=3.6->dataprep) (2.0.12)\n",
            "Requirement already satisfied: multidict<7.0,>=4.5 in /usr/local/lib/python3.10/dist-packages (from aiohttp<4.0,>=3.6->dataprep) (6.0.4)\n",
            "Requirement already satisfied: async-timeout<5.0,>=4.0.0a3 in /usr/local/lib/python3.10/dist-packages (from aiohttp<4.0,>=3.6->dataprep) (4.0.2)\n",
            "Requirement already satisfied: yarl<2.0,>=1.0 in /usr/local/lib/python3.10/dist-packages (from aiohttp<4.0,>=3.6->dataprep) (1.9.2)\n",
            "Requirement already satisfied: frozenlist>=1.1.1 in /usr/local/lib/python3.10/dist-packages (from aiohttp<4.0,>=3.6->dataprep) (1.3.3)\n",
            "Requirement already satisfied: aiosignal>=1.1.2 in /usr/local/lib/python3.10/dist-packages (from aiohttp<4.0,>=3.6->dataprep) (1.3.1)\n",
            "Requirement already satisfied: packaging>=16.8 in /usr/local/lib/python3.10/dist-packages (from bokeh<3,>=2->dataprep) (23.1)\n",
            "Requirement already satisfied: pillow>=7.1.0 in /usr/local/lib/python3.10/dist-packages (from bokeh<3,>=2->dataprep) (8.4.0)\n",
            "Requirement already satisfied: PyYAML>=3.10 in /usr/local/lib/python3.10/dist-packages (from bokeh<3,>=2->dataprep) (6.0)\n",
            "Requirement already satisfied: tornado>=5.1 in /usr/local/lib/python3.10/dist-packages (from bokeh<3,>=2->dataprep) (6.2)\n",
            "Requirement already satisfied: typing-extensions>=3.10.0 in /usr/local/lib/python3.10/dist-packages (from bokeh<3,>=2->dataprep) (4.5.0)\n",
            "Requirement already satisfied: click>=7.0 in /usr/local/lib/python3.10/dist-packages (from dask[array,dataframe,delayed]>=2022.3.0->dataprep) (8.1.3)\n",
            "Requirement already satisfied: cloudpickle>=1.1.1 in /usr/local/lib/python3.10/dist-packages (from dask[array,dataframe,delayed]>=2022.3.0->dataprep) (2.2.1)\n",
            "Requirement already satisfied: fsspec>=0.6.0 in /usr/local/lib/python3.10/dist-packages (from dask[array,dataframe,delayed]>=2022.3.0->dataprep) (2023.4.0)\n",
            "Requirement already satisfied: partd>=0.3.10 in /usr/local/lib/python3.10/dist-packages (from dask[array,dataframe,delayed]>=2022.3.0->dataprep) (1.4.0)\n",
            "Requirement already satisfied: toolz>=0.8.2 in /usr/local/lib/python3.10/dist-packages (from dask[array,dataframe,delayed]>=2022.3.0->dataprep) (0.12.0)\n",
            "Requirement already satisfied: Werkzeug>=2.2.2 in /usr/local/lib/python3.10/dist-packages (from flask<3,>=2->dataprep) (2.3.0)\n",
            "Requirement already satisfied: itsdangerous>=2.0 in /usr/local/lib/python3.10/dist-packages (from flask<3,>=2->dataprep) (2.1.2)\n",
            "Requirement already satisfied: Six in /usr/local/lib/python3.10/dist-packages (from flask_cors<4.0.0,>=3.0.10->dataprep) (1.16.0)\n",
            "Requirement already satisfied: ipykernel>=4.5.1 in /usr/local/lib/python3.10/dist-packages (from ipywidgets<8.0,>=7.5->dataprep) (5.5.6)\n",
            "Requirement already satisfied: ipython-genutils~=0.2.0 in /usr/local/lib/python3.10/dist-packages (from ipywidgets<8.0,>=7.5->dataprep) (0.2.0)\n",
            "Requirement already satisfied: traitlets>=4.3.1 in /usr/local/lib/python3.10/dist-packages (from ipywidgets<8.0,>=7.5->dataprep) (5.7.1)\n",
            "Requirement already satisfied: widgetsnbextension~=3.6.0 in /usr/local/lib/python3.10/dist-packages (from ipywidgets<8.0,>=7.5->dataprep) (3.6.4)\n",
            "Requirement already satisfied: ipython>=4.0.0 in /usr/local/lib/python3.10/dist-packages (from ipywidgets<8.0,>=7.5->dataprep) (7.34.0)\n",
            "Requirement already satisfied: jupyterlab-widgets>=1.0.0 in /usr/local/lib/python3.10/dist-packages (from ipywidgets<8.0,>=7.5->dataprep) (3.0.7)\n",
            "Requirement already satisfied: MarkupSafe>=2.0 in /usr/local/lib/python3.10/dist-packages (from jinja2<3.1,>=3.0->dataprep) (2.1.2)\n",
            "Requirement already satisfied: ply in /usr/local/lib/python3.10/dist-packages (from jsonpath-ng<2.0,>=1.5->dataprep) (3.11)\n",
            "Requirement already satisfied: decorator in /usr/local/lib/python3.10/dist-packages (from jsonpath-ng<2.0,>=1.5->dataprep) (4.4.2)\n",
            "Requirement already satisfied: joblib in /usr/local/lib/python3.10/dist-packages (from nltk<4.0.0,>=3.6.7->dataprep) (1.2.0)\n",
            "Requirement already satisfied: python-dateutil>=2.8.1 in /usr/local/lib/python3.10/dist-packages (from pandas<2.0,>=1.1->dataprep) (2.8.2)\n",
            "Requirement already satisfied: pytz>=2020.1 in /usr/local/lib/python3.10/dist-packages (from pandas<2.0,>=1.1->dataprep) (2022.7.1)\n",
            "Requirement already satisfied: pyparsing>=2.1.4 in /usr/local/lib/python3.10/dist-packages (from pydot<2.0.0,>=1.4.2->dataprep) (3.0.9)\n",
            "Requirement already satisfied: asttokens<3.0.0,>=2.0.0 in /usr/local/lib/python3.10/dist-packages (from varname<0.9.0,>=0.8.1->dataprep) (2.2.1)\n",
            "Requirement already satisfied: executing<0.9.0,>=0.8.3 in /usr/local/lib/python3.10/dist-packages (from varname<0.9.0,>=0.8.1->dataprep) (0.8.3)\n",
            "Requirement already satisfied: pure_eval<1.0.0 in /usr/local/lib/python3.10/dist-packages (from varname<0.9.0,>=0.8.1->dataprep) (0.2.2)\n",
            "Requirement already satisfied: matplotlib in /usr/local/lib/python3.10/dist-packages (from wordcloud<2.0,>=1.8->dataprep) (3.7.1)\n",
            "Requirement already satisfied: jupyter-client in /usr/local/lib/python3.10/dist-packages (from ipykernel>=4.5.1->ipywidgets<8.0,>=7.5->dataprep) (6.1.12)\n",
            "Requirement already satisfied: setuptools>=18.5 in /usr/local/lib/python3.10/dist-packages (from ipython>=4.0.0->ipywidgets<8.0,>=7.5->dataprep) (67.7.2)\n",
            "Requirement already satisfied: jedi>=0.16 in /usr/local/lib/python3.10/dist-packages (from ipython>=4.0.0->ipywidgets<8.0,>=7.5->dataprep) (0.18.2)\n",
            "Requirement already satisfied: pickleshare in /usr/local/lib/python3.10/dist-packages (from ipython>=4.0.0->ipywidgets<8.0,>=7.5->dataprep) (0.7.5)\n",
            "Requirement already satisfied: prompt-toolkit!=3.0.0,!=3.0.1,<3.1.0,>=2.0.0 in /usr/local/lib/python3.10/dist-packages (from ipython>=4.0.0->ipywidgets<8.0,>=7.5->dataprep) (3.0.38)\n",
            "Requirement already satisfied: pygments in /usr/local/lib/python3.10/dist-packages (from ipython>=4.0.0->ipywidgets<8.0,>=7.5->dataprep) (2.14.0)\n",
            "Requirement already satisfied: backcall in /usr/local/lib/python3.10/dist-packages (from ipython>=4.0.0->ipywidgets<8.0,>=7.5->dataprep) (0.2.0)\n",
            "Requirement already satisfied: matplotlib-inline in /usr/local/lib/python3.10/dist-packages (from ipython>=4.0.0->ipywidgets<8.0,>=7.5->dataprep) (0.1.6)\n",
            "Requirement already satisfied: pexpect>4.3 in /usr/local/lib/python3.10/dist-packages (from ipython>=4.0.0->ipywidgets<8.0,>=7.5->dataprep) (4.8.0)\n",
            "Requirement already satisfied: locket in /usr/local/lib/python3.10/dist-packages (from partd>=0.3.10->dask[array,dataframe,delayed]>=2022.3.0->dataprep) (1.0.0)\n",
            "Requirement already satisfied: notebook>=4.4.1 in /usr/local/lib/python3.10/dist-packages (from widgetsnbextension~=3.6.0->ipywidgets<8.0,>=7.5->dataprep) (6.4.8)\n",
            "Requirement already satisfied: idna>=2.0 in /usr/local/lib/python3.10/dist-packages (from yarl<2.0,>=1.0->aiohttp<4.0,>=3.6->dataprep) (3.4)\n",
            "Requirement already satisfied: contourpy>=1.0.1 in /usr/local/lib/python3.10/dist-packages (from matplotlib->wordcloud<2.0,>=1.8->dataprep) (1.0.7)\n",
            "Requirement already satisfied: cycler>=0.10 in /usr/local/lib/python3.10/dist-packages (from matplotlib->wordcloud<2.0,>=1.8->dataprep) (0.11.0)\n",
            "Requirement already satisfied: fonttools>=4.22.0 in /usr/local/lib/python3.10/dist-packages (from matplotlib->wordcloud<2.0,>=1.8->dataprep) (4.39.3)\n",
            "Requirement already satisfied: kiwisolver>=1.0.1 in /usr/local/lib/python3.10/dist-packages (from matplotlib->wordcloud<2.0,>=1.8->dataprep) (1.4.4)\n",
            "Requirement already satisfied: parso<0.9.0,>=0.8.0 in /usr/local/lib/python3.10/dist-packages (from jedi>=0.16->ipython>=4.0.0->ipywidgets<8.0,>=7.5->dataprep) (0.8.3)\n",
            "Requirement already satisfied: pyzmq>=17 in /usr/local/lib/python3.10/dist-packages (from notebook>=4.4.1->widgetsnbextension~=3.6.0->ipywidgets<8.0,>=7.5->dataprep) (23.2.1)\n",
            "Requirement already satisfied: argon2-cffi in /usr/local/lib/python3.10/dist-packages (from notebook>=4.4.1->widgetsnbextension~=3.6.0->ipywidgets<8.0,>=7.5->dataprep) (21.3.0)\n",
            "Requirement already satisfied: jupyter-core>=4.6.1 in /usr/local/lib/python3.10/dist-packages (from notebook>=4.4.1->widgetsnbextension~=3.6.0->ipywidgets<8.0,>=7.5->dataprep) (5.3.0)\n",
            "Requirement already satisfied: nbformat in /usr/local/lib/python3.10/dist-packages (from notebook>=4.4.1->widgetsnbextension~=3.6.0->ipywidgets<8.0,>=7.5->dataprep) (5.8.0)\n",
            "Requirement already satisfied: nbconvert in /usr/local/lib/python3.10/dist-packages (from notebook>=4.4.1->widgetsnbextension~=3.6.0->ipywidgets<8.0,>=7.5->dataprep) (6.5.4)\n",
            "Requirement already satisfied: nest-asyncio>=1.5 in /usr/local/lib/python3.10/dist-packages (from notebook>=4.4.1->widgetsnbextension~=3.6.0->ipywidgets<8.0,>=7.5->dataprep) (1.5.6)\n",
            "Requirement already satisfied: Send2Trash>=1.8.0 in /usr/local/lib/python3.10/dist-packages (from notebook>=4.4.1->widgetsnbextension~=3.6.0->ipywidgets<8.0,>=7.5->dataprep) (1.8.0)\n",
            "Requirement already satisfied: terminado>=0.8.3 in /usr/local/lib/python3.10/dist-packages (from notebook>=4.4.1->widgetsnbextension~=3.6.0->ipywidgets<8.0,>=7.5->dataprep) (0.17.1)\n",
            "Requirement already satisfied: prometheus-client in /usr/local/lib/python3.10/dist-packages (from notebook>=4.4.1->widgetsnbextension~=3.6.0->ipywidgets<8.0,>=7.5->dataprep) (0.16.0)\n",
            "Requirement already satisfied: ptyprocess>=0.5 in /usr/local/lib/python3.10/dist-packages (from pexpect>4.3->ipython>=4.0.0->ipywidgets<8.0,>=7.5->dataprep) (0.7.0)\n",
            "Requirement already satisfied: wcwidth in /usr/local/lib/python3.10/dist-packages (from prompt-toolkit!=3.0.0,!=3.0.1,<3.1.0,>=2.0.0->ipython>=4.0.0->ipywidgets<8.0,>=7.5->dataprep) (0.2.6)\n",
            "Requirement already satisfied: platformdirs>=2.5 in /usr/local/lib/python3.10/dist-packages (from jupyter-core>=4.6.1->notebook>=4.4.1->widgetsnbextension~=3.6.0->ipywidgets<8.0,>=7.5->dataprep) (3.3.0)\n",
            "Requirement already satisfied: argon2-cffi-bindings in /usr/local/lib/python3.10/dist-packages (from argon2-cffi->notebook>=4.4.1->widgetsnbextension~=3.6.0->ipywidgets<8.0,>=7.5->dataprep) (21.2.0)\n",
            "Requirement already satisfied: lxml in /usr/local/lib/python3.10/dist-packages (from nbconvert->notebook>=4.4.1->widgetsnbextension~=3.6.0->ipywidgets<8.0,>=7.5->dataprep) (4.9.2)\n",
            "Requirement already satisfied: beautifulsoup4 in /usr/local/lib/python3.10/dist-packages (from nbconvert->notebook>=4.4.1->widgetsnbextension~=3.6.0->ipywidgets<8.0,>=7.5->dataprep) (4.11.2)\n",
            "Requirement already satisfied: bleach in /usr/local/lib/python3.10/dist-packages (from nbconvert->notebook>=4.4.1->widgetsnbextension~=3.6.0->ipywidgets<8.0,>=7.5->dataprep) (6.0.0)\n",
            "Requirement already satisfied: defusedxml in /usr/local/lib/python3.10/dist-packages (from nbconvert->notebook>=4.4.1->widgetsnbextension~=3.6.0->ipywidgets<8.0,>=7.5->dataprep) (0.7.1)\n",
            "Requirement already satisfied: entrypoints>=0.2.2 in /usr/local/lib/python3.10/dist-packages (from nbconvert->notebook>=4.4.1->widgetsnbextension~=3.6.0->ipywidgets<8.0,>=7.5->dataprep) (0.4)\n",
            "Requirement already satisfied: jupyterlab-pygments in /usr/local/lib/python3.10/dist-packages (from nbconvert->notebook>=4.4.1->widgetsnbextension~=3.6.0->ipywidgets<8.0,>=7.5->dataprep) (0.2.2)\n",
            "Requirement already satisfied: mistune<2,>=0.8.1 in /usr/local/lib/python3.10/dist-packages (from nbconvert->notebook>=4.4.1->widgetsnbextension~=3.6.0->ipywidgets<8.0,>=7.5->dataprep) (0.8.4)\n",
            "Requirement already satisfied: nbclient>=0.5.0 in /usr/local/lib/python3.10/dist-packages (from nbconvert->notebook>=4.4.1->widgetsnbextension~=3.6.0->ipywidgets<8.0,>=7.5->dataprep) (0.7.4)\n",
            "Requirement already satisfied: pandocfilters>=1.4.1 in /usr/local/lib/python3.10/dist-packages (from nbconvert->notebook>=4.4.1->widgetsnbextension~=3.6.0->ipywidgets<8.0,>=7.5->dataprep) (1.5.0)\n",
            "Requirement already satisfied: tinycss2 in /usr/local/lib/python3.10/dist-packages (from nbconvert->notebook>=4.4.1->widgetsnbextension~=3.6.0->ipywidgets<8.0,>=7.5->dataprep) (1.2.1)\n",
            "Requirement already satisfied: fastjsonschema in /usr/local/lib/python3.10/dist-packages (from nbformat->notebook>=4.4.1->widgetsnbextension~=3.6.0->ipywidgets<8.0,>=7.5->dataprep) (2.16.3)\n",
            "Requirement already satisfied: jsonschema>=2.6 in /usr/local/lib/python3.10/dist-packages (from nbformat->notebook>=4.4.1->widgetsnbextension~=3.6.0->ipywidgets<8.0,>=7.5->dataprep) (4.3.3)\n",
            "Requirement already satisfied: pyrsistent!=0.17.0,!=0.17.1,!=0.17.2,>=0.14.0 in /usr/local/lib/python3.10/dist-packages (from jsonschema>=2.6->nbformat->notebook>=4.4.1->widgetsnbextension~=3.6.0->ipywidgets<8.0,>=7.5->dataprep) (0.19.3)\n",
            "Requirement already satisfied: cffi>=1.0.1 in /usr/local/lib/python3.10/dist-packages (from argon2-cffi-bindings->argon2-cffi->notebook>=4.4.1->widgetsnbextension~=3.6.0->ipywidgets<8.0,>=7.5->dataprep) (1.15.1)\n",
            "Requirement already satisfied: soupsieve>1.2 in /usr/local/lib/python3.10/dist-packages (from beautifulsoup4->nbconvert->notebook>=4.4.1->widgetsnbextension~=3.6.0->ipywidgets<8.0,>=7.5->dataprep) (2.4.1)\n",
            "Requirement already satisfied: webencodings in /usr/local/lib/python3.10/dist-packages (from bleach->nbconvert->notebook>=4.4.1->widgetsnbextension~=3.6.0->ipywidgets<8.0,>=7.5->dataprep) (0.5.1)\n",
            "Requirement already satisfied: pycparser in /usr/local/lib/python3.10/dist-packages (from cffi>=1.0.1->argon2-cffi-bindings->argon2-cffi->notebook>=4.4.1->widgetsnbextension~=3.6.0->ipywidgets<8.0,>=7.5->dataprep) (2.21)\n"
          ]
        }
      ]
    },
    {
      "cell_type": "markdown",
      "source": [
        "# Revision de los train"
      ],
      "metadata": {
        "id": "Y59xo0ZKwIWU"
      }
    },
    {
      "cell_type": "code",
      "source": [
        "train_principal.shape"
      ],
      "metadata": {
        "id": "K_lACOFcwM1r",
        "colab": {
          "base_uri": "https://localhost:8080/"
        },
        "outputId": "74443230-8205-4050-be62-a8d4d9b4f63e"
      },
      "execution_count": null,
      "outputs": [
        {
          "output_type": "execute_result",
          "data": {
            "text/plain": [
              "(7220, 5)"
            ]
          },
          "metadata": {},
          "execution_count": 361
        }
      ]
    },
    {
      "cell_type": "code",
      "source": [
        "train_principal.head()"
      ],
      "metadata": {
        "colab": {
          "base_uri": "https://localhost:8080/",
          "height": 206
        },
        "id": "g7oryqN7wdlP",
        "outputId": "b419575f-d866-4a92-a272-9f5a42e5f000"
      },
      "execution_count": null,
      "outputs": [
        {
          "output_type": "execute_result",
          "data": {
            "text/plain": [
              "   id      inicio_trayecto modelo_camioneta  num_paquetes  tiempo_entrega\n",
              "0   1  2016/04/14 20:53:00         modelo_1             3             448\n",
              "1   2  2016/05/30 23:12:00         modelo_2             1             784\n",
              "2   3  2016/03/03 11:54:00         modelo_2             1             844\n",
              "3   4  2016/05/02 12:34:00         modelo_1             1            2076\n",
              "4   5  2016/03/02 15:53:00         modelo_1             1            1289"
            ],
            "text/html": [
              "\n",
              "  <div id=\"df-a199133c-4759-4ed2-a90f-0311c3955913\">\n",
              "    <div class=\"colab-df-container\">\n",
              "      <div>\n",
              "<style scoped>\n",
              "    .dataframe tbody tr th:only-of-type {\n",
              "        vertical-align: middle;\n",
              "    }\n",
              "\n",
              "    .dataframe tbody tr th {\n",
              "        vertical-align: top;\n",
              "    }\n",
              "\n",
              "    .dataframe thead th {\n",
              "        text-align: right;\n",
              "    }\n",
              "</style>\n",
              "<table border=\"1\" class=\"dataframe\">\n",
              "  <thead>\n",
              "    <tr style=\"text-align: right;\">\n",
              "      <th></th>\n",
              "      <th>id</th>\n",
              "      <th>inicio_trayecto</th>\n",
              "      <th>modelo_camioneta</th>\n",
              "      <th>num_paquetes</th>\n",
              "      <th>tiempo_entrega</th>\n",
              "    </tr>\n",
              "  </thead>\n",
              "  <tbody>\n",
              "    <tr>\n",
              "      <th>0</th>\n",
              "      <td>1</td>\n",
              "      <td>2016/04/14 20:53:00</td>\n",
              "      <td>modelo_1</td>\n",
              "      <td>3</td>\n",
              "      <td>448</td>\n",
              "    </tr>\n",
              "    <tr>\n",
              "      <th>1</th>\n",
              "      <td>2</td>\n",
              "      <td>2016/05/30 23:12:00</td>\n",
              "      <td>modelo_2</td>\n",
              "      <td>1</td>\n",
              "      <td>784</td>\n",
              "    </tr>\n",
              "    <tr>\n",
              "      <th>2</th>\n",
              "      <td>3</td>\n",
              "      <td>2016/03/03 11:54:00</td>\n",
              "      <td>modelo_2</td>\n",
              "      <td>1</td>\n",
              "      <td>844</td>\n",
              "    </tr>\n",
              "    <tr>\n",
              "      <th>3</th>\n",
              "      <td>4</td>\n",
              "      <td>2016/05/02 12:34:00</td>\n",
              "      <td>modelo_1</td>\n",
              "      <td>1</td>\n",
              "      <td>2076</td>\n",
              "    </tr>\n",
              "    <tr>\n",
              "      <th>4</th>\n",
              "      <td>5</td>\n",
              "      <td>2016/03/02 15:53:00</td>\n",
              "      <td>modelo_1</td>\n",
              "      <td>1</td>\n",
              "      <td>1289</td>\n",
              "    </tr>\n",
              "  </tbody>\n",
              "</table>\n",
              "</div>\n",
              "      <button class=\"colab-df-convert\" onclick=\"convertToInteractive('df-a199133c-4759-4ed2-a90f-0311c3955913')\"\n",
              "              title=\"Convert this dataframe to an interactive table.\"\n",
              "              style=\"display:none;\">\n",
              "        \n",
              "  <svg xmlns=\"http://www.w3.org/2000/svg\" height=\"24px\"viewBox=\"0 0 24 24\"\n",
              "       width=\"24px\">\n",
              "    <path d=\"M0 0h24v24H0V0z\" fill=\"none\"/>\n",
              "    <path d=\"M18.56 5.44l.94 2.06.94-2.06 2.06-.94-2.06-.94-.94-2.06-.94 2.06-2.06.94zm-11 1L8.5 8.5l.94-2.06 2.06-.94-2.06-.94L8.5 2.5l-.94 2.06-2.06.94zm10 10l.94 2.06.94-2.06 2.06-.94-2.06-.94-.94-2.06-.94 2.06-2.06.94z\"/><path d=\"M17.41 7.96l-1.37-1.37c-.4-.4-.92-.59-1.43-.59-.52 0-1.04.2-1.43.59L10.3 9.45l-7.72 7.72c-.78.78-.78 2.05 0 2.83L4 21.41c.39.39.9.59 1.41.59.51 0 1.02-.2 1.41-.59l7.78-7.78 2.81-2.81c.8-.78.8-2.07 0-2.86zM5.41 20L4 18.59l7.72-7.72 1.47 1.35L5.41 20z\"/>\n",
              "  </svg>\n",
              "      </button>\n",
              "      \n",
              "  <style>\n",
              "    .colab-df-container {\n",
              "      display:flex;\n",
              "      flex-wrap:wrap;\n",
              "      gap: 12px;\n",
              "    }\n",
              "\n",
              "    .colab-df-convert {\n",
              "      background-color: #E8F0FE;\n",
              "      border: none;\n",
              "      border-radius: 50%;\n",
              "      cursor: pointer;\n",
              "      display: none;\n",
              "      fill: #1967D2;\n",
              "      height: 32px;\n",
              "      padding: 0 0 0 0;\n",
              "      width: 32px;\n",
              "    }\n",
              "\n",
              "    .colab-df-convert:hover {\n",
              "      background-color: #E2EBFA;\n",
              "      box-shadow: 0px 1px 2px rgba(60, 64, 67, 0.3), 0px 1px 3px 1px rgba(60, 64, 67, 0.15);\n",
              "      fill: #174EA6;\n",
              "    }\n",
              "\n",
              "    [theme=dark] .colab-df-convert {\n",
              "      background-color: #3B4455;\n",
              "      fill: #D2E3FC;\n",
              "    }\n",
              "\n",
              "    [theme=dark] .colab-df-convert:hover {\n",
              "      background-color: #434B5C;\n",
              "      box-shadow: 0px 1px 3px 1px rgba(0, 0, 0, 0.15);\n",
              "      filter: drop-shadow(0px 1px 2px rgba(0, 0, 0, 0.3));\n",
              "      fill: #FFFFFF;\n",
              "    }\n",
              "  </style>\n",
              "\n",
              "      <script>\n",
              "        const buttonEl =\n",
              "          document.querySelector('#df-a199133c-4759-4ed2-a90f-0311c3955913 button.colab-df-convert');\n",
              "        buttonEl.style.display =\n",
              "          google.colab.kernel.accessAllowed ? 'block' : 'none';\n",
              "\n",
              "        async function convertToInteractive(key) {\n",
              "          const element = document.querySelector('#df-a199133c-4759-4ed2-a90f-0311c3955913');\n",
              "          const dataTable =\n",
              "            await google.colab.kernel.invokeFunction('convertToInteractive',\n",
              "                                                     [key], {});\n",
              "          if (!dataTable) return;\n",
              "\n",
              "          const docLinkHtml = 'Like what you see? Visit the ' +\n",
              "            '<a target=\"_blank\" href=https://colab.research.google.com/notebooks/data_table.ipynb>data table notebook</a>'\n",
              "            + ' to learn more about interactive tables.';\n",
              "          element.innerHTML = '';\n",
              "          dataTable['output_type'] = 'display_data';\n",
              "          await google.colab.output.renderOutput(dataTable, element);\n",
              "          const docLink = document.createElement('div');\n",
              "          docLink.innerHTML = docLinkHtml;\n",
              "          element.appendChild(docLink);\n",
              "        }\n",
              "      </script>\n",
              "    </div>\n",
              "  </div>\n",
              "  "
            ]
          },
          "metadata": {},
          "execution_count": 362
        }
      ]
    },
    {
      "cell_type": "code",
      "source": [
        "#Distribucion de la variable objetivo\n",
        "train_principal['tiempo_entrega'].astype(int).plot.hist();"
      ],
      "metadata": {
        "colab": {
          "base_uri": "https://localhost:8080/",
          "height": 449
        },
        "id": "q1zzs4pwwXIF",
        "outputId": "78b3dfc9-2def-410e-ef71-d7c0cdfc0526"
      },
      "execution_count": null,
      "outputs": [
        {
          "output_type": "display_data",
          "data": {
            "text/plain": [
              "<Figure size 640x480 with 1 Axes>"
            ],
            "image/png": "[encoded data removed]"
          },
          "metadata": {}
        }
      ]
    },
    {
      "cell_type": "markdown",
      "source": [
        "En primer lugar podemos visualizar que la variable objetivo tiene una gran cantidad de datos entre 0 y 500; pero la mayoria de los datos estan entre 500 y 1000. Ahora bien la distribucion de esta variable objetivo tiene los datos concentrados hacia un costado presentando curtosis y una distibucion parecida a la Log-normal . "
      ],
      "metadata": {
        "id": "lgoOlzsyWr2x"
      }
    },
    {
      "cell_type": "code",
      "source": [
        "#Unimos los dos dataframes para trabajarlos al mismo tiempo\n",
        "train_principal['dataset'] = 'train'\n",
        "test_principal['dataset'] = 'test'\n",
        "# El ID único de cada cliente, por lo que lo vamos a setear como índice de cada dataframe\n",
        "train_principal.set_index('id', inplace=True)\n",
        "test_principal.set_index('id', inplace=True)\n",
        "# Unimos los dos df con append\n",
        "train_test_principal = train_principal.append(test_principal) #Pegar algo por debajo \n",
        "\n",
        "train_test_principal.tail(1)"
      ],
      "metadata": {
        "id": "X6F1eRyrnQSb",
        "colab": {
          "base_uri": "https://localhost:8080/",
          "height": 166
        },
        "outputId": "8ee0570b-ddb0-4e1d-cda6-f0eedc9c800b"
      },
      "execution_count": null,
      "outputs": [
        {
          "output_type": "stream",
          "name": "stderr",
          "text": [
            "<ipython-input-364-0aa4f9ca7655>:8: FutureWarning: The frame.append method is deprecated and will be removed from pandas in a future version. Use pandas.concat instead.\n",
            "  train_test_principal = train_principal.append(test_principal) #Pegar algo por debajo\n"
          ]
        },
        {
          "output_type": "execute_result",
          "data": {
            "text/plain": [
              "          inicio_trayecto modelo_camioneta  num_paquetes  tiempo_entrega  \\\n",
              "id                                                                         \n",
              "7578  2016/03/19 12:53:00         modelo_1             1             NaN   \n",
              "\n",
              "     dataset  \n",
              "id            \n",
              "7578    test  "
            ],
            "text/html": [
              "\n",
              "  <div id=\"df-f733d6ef-f588-4cae-a493-a8119f2080a3\">\n",
              "    <div class=\"colab-df-container\">\n",
              "      <div>\n",
              "<style scoped>\n",
              "    .dataframe tbody tr th:only-of-type {\n",
              "        vertical-align: middle;\n",
              "    }\n",
              "\n",
              "    .dataframe tbody tr th {\n",
              "        vertical-align: top;\n",
              "    }\n",
              "\n",
              "    .dataframe thead th {\n",
              "        text-align: right;\n",
              "    }\n",
              "</style>\n",
              "<table border=\"1\" class=\"dataframe\">\n",
              "  <thead>\n",
              "    <tr style=\"text-align: right;\">\n",
              "      <th></th>\n",
              "      <th>inicio_trayecto</th>\n",
              "      <th>modelo_camioneta</th>\n",
              "      <th>num_paquetes</th>\n",
              "      <th>tiempo_entrega</th>\n",
              "      <th>dataset</th>\n",
              "    </tr>\n",
              "    <tr>\n",
              "      <th>id</th>\n",
              "      <th></th>\n",
              "      <th></th>\n",
              "      <th></th>\n",
              "      <th></th>\n",
              "      <th></th>\n",
              "    </tr>\n",
              "  </thead>\n",
              "  <tbody>\n",
              "    <tr>\n",
              "      <th>7578</th>\n",
              "      <td>2016/03/19 12:53:00</td>\n",
              "      <td>modelo_1</td>\n",
              "      <td>1</td>\n",
              "      <td>NaN</td>\n",
              "      <td>test</td>\n",
              "    </tr>\n",
              "  </tbody>\n",
              "</table>\n",
              "</div>\n",
              "      <button class=\"colab-df-convert\" onclick=\"convertToInteractive('df-f733d6ef-f588-4cae-a493-a8119f2080a3')\"\n",
              "              title=\"Convert this dataframe to an interactive table.\"\n",
              "              style=\"display:none;\">\n",
              "        \n",
              "  <svg xmlns=\"http://www.w3.org/2000/svg\" height=\"24px\"viewBox=\"0 0 24 24\"\n",
              "       width=\"24px\">\n",
              "    <path d=\"M0 0h24v24H0V0z\" fill=\"none\"/>\n",
              "    <path d=\"M18.56 5.44l.94 2.06.94-2.06 2.06-.94-2.06-.94-.94-2.06-.94 2.06-2.06.94zm-11 1L8.5 8.5l.94-2.06 2.06-.94-2.06-.94L8.5 2.5l-.94 2.06-2.06.94zm10 10l.94 2.06.94-2.06 2.06-.94-2.06-.94-.94-2.06-.94 2.06-2.06.94z\"/><path d=\"M17.41 7.96l-1.37-1.37c-.4-.4-.92-.59-1.43-.59-.52 0-1.04.2-1.43.59L10.3 9.45l-7.72 7.72c-.78.78-.78 2.05 0 2.83L4 21.41c.39.39.9.59 1.41.59.51 0 1.02-.2 1.41-.59l7.78-7.78 2.81-2.81c.8-.78.8-2.07 0-2.86zM5.41 20L4 18.59l7.72-7.72 1.47 1.35L5.41 20z\"/>\n",
              "  </svg>\n",
              "      </button>\n",
              "      \n",
              "  <style>\n",
              "    .colab-df-container {\n",
              "      display:flex;\n",
              "      flex-wrap:wrap;\n",
              "      gap: 12px;\n",
              "    }\n",
              "\n",
              "    .colab-df-convert {\n",
              "      background-color: #E8F0FE;\n",
              "      border: none;\n",
              "      border-radius: 50%;\n",
              "      cursor: pointer;\n",
              "      display: none;\n",
              "      fill: #1967D2;\n",
              "      height: 32px;\n",
              "      padding: 0 0 0 0;\n",
              "      width: 32px;\n",
              "    }\n",
              "\n",
              "    .colab-df-convert:hover {\n",
              "      background-color: #E2EBFA;\n",
              "      box-shadow: 0px 1px 2px rgba(60, 64, 67, 0.3), 0px 1px 3px 1px rgba(60, 64, 67, 0.15);\n",
              "      fill: #174EA6;\n",
              "    }\n",
              "\n",
              "    [theme=dark] .colab-df-convert {\n",
              "      background-color: #3B4455;\n",
              "      fill: #D2E3FC;\n",
              "    }\n",
              "\n",
              "    [theme=dark] .colab-df-convert:hover {\n",
              "      background-color: #434B5C;\n",
              "      box-shadow: 0px 1px 3px 1px rgba(0, 0, 0, 0.15);\n",
              "      filter: drop-shadow(0px 1px 2px rgba(0, 0, 0, 0.3));\n",
              "      fill: #FFFFFF;\n",
              "    }\n",
              "  </style>\n",
              "\n",
              "      <script>\n",
              "        const buttonEl =\n",
              "          document.querySelector('#df-f733d6ef-f588-4cae-a493-a8119f2080a3 button.colab-df-convert');\n",
              "        buttonEl.style.display =\n",
              "          google.colab.kernel.accessAllowed ? 'block' : 'none';\n",
              "\n",
              "        async function convertToInteractive(key) {\n",
              "          const element = document.querySelector('#df-f733d6ef-f588-4cae-a493-a8119f2080a3');\n",
              "          const dataTable =\n",
              "            await google.colab.kernel.invokeFunction('convertToInteractive',\n",
              "                                                     [key], {});\n",
              "          if (!dataTable) return;\n",
              "\n",
              "          const docLinkHtml = 'Like what you see? Visit the ' +\n",
              "            '<a target=\"_blank\" href=https://colab.research.google.com/notebooks/data_table.ipynb>data table notebook</a>'\n",
              "            + ' to learn more about interactive tables.';\n",
              "          element.innerHTML = '';\n",
              "          dataTable['output_type'] = 'display_data';\n",
              "          await google.colab.output.renderOutput(dataTable, element);\n",
              "          const docLink = document.createElement('div');\n",
              "          docLink.innerHTML = docLinkHtml;\n",
              "          element.appendChild(docLink);\n",
              "        }\n",
              "      </script>\n",
              "    </div>\n",
              "  </div>\n",
              "  "
            ]
          },
          "metadata": {},
          "execution_count": 364
        }
      ]
    },
    {
      "cell_type": "code",
      "source": [
        "#Unimos los dos dataframes para trabajarlos al mismo tiempo\n",
        "train_clima['dataset'] = 'train'\n",
        "test_clima['dataset'] = 'test'\n",
        "# El ID único de cada cliente, por lo que lo vamos a setear como índice de cada dataframe\n",
        "train_clima.set_index('id', inplace=True)\n",
        "test_clima.set_index('id', inplace=True)\n",
        "# Unimos los dos df con append\n",
        "train_test_clima = train_clima.append(test_clima) #Pegar algo por debajo \n",
        "\n",
        "train_test_clima.tail(1)"
      ],
      "metadata": {
        "colab": {
          "base_uri": "https://localhost:8080/",
          "height": 210
        },
        "id": "bRMwLGGcigTe",
        "outputId": "6cd12dc4-1164-444a-ad12-bb808032e0c6"
      },
      "execution_count": null,
      "outputs": [
        {
          "output_type": "stream",
          "name": "stderr",
          "text": [
            "<ipython-input-365-bde2c203442e>:8: FutureWarning: The frame.append method is deprecated and will be removed from pandas in a future version. Use pandas.concat instead.\n",
            "  train_test_clima = train_clima.append(test_clima) #Pegar algo por debajo\n"
          ]
        },
        {
          "output_type": "execute_result",
          "data": {
            "text/plain": [
              "     condiciones_clima  temperatura  temp_rocio  humedad  vel_viento  \\\n",
              "id                                                                     \n",
              "4403             bruma         11.7         8.9     83.0         NaN   \n",
              "\n",
              "      dir_viento  visibilidad  presion  precipitacion niebla lluvia nieve  \\\n",
              "id                                                                          \n",
              "4403           0          9.7     29.7            0.3     No     No    No   \n",
              "\n",
              "     dataset  \n",
              "id            \n",
              "4403    test  "
            ],
            "text/html": [
              "\n",
              "  <div id=\"df-bb007459-fd4e-42c7-99f0-f8fed1fcc9c6\">\n",
              "    <div class=\"colab-df-container\">\n",
              "      <div>\n",
              "<style scoped>\n",
              "    .dataframe tbody tr th:only-of-type {\n",
              "        vertical-align: middle;\n",
              "    }\n",
              "\n",
              "    .dataframe tbody tr th {\n",
              "        vertical-align: top;\n",
              "    }\n",
              "\n",
              "    .dataframe thead th {\n",
              "        text-align: right;\n",
              "    }\n",
              "</style>\n",
              "<table border=\"1\" class=\"dataframe\">\n",
              "  <thead>\n",
              "    <tr style=\"text-align: right;\">\n",
              "      <th></th>\n",
              "      <th>condiciones_clima</th>\n",
              "      <th>temperatura</th>\n",
              "      <th>temp_rocio</th>\n",
              "      <th>humedad</th>\n",
              "      <th>vel_viento</th>\n",
              "      <th>dir_viento</th>\n",
              "      <th>visibilidad</th>\n",
              "      <th>presion</th>\n",
              "      <th>precipitacion</th>\n",
              "      <th>niebla</th>\n",
              "      <th>lluvia</th>\n",
              "      <th>nieve</th>\n",
              "      <th>dataset</th>\n",
              "    </tr>\n",
              "    <tr>\n",
              "      <th>id</th>\n",
              "      <th></th>\n",
              "      <th></th>\n",
              "      <th></th>\n",
              "      <th></th>\n",
              "      <th></th>\n",
              "      <th></th>\n",
              "      <th></th>\n",
              "      <th></th>\n",
              "      <th></th>\n",
              "      <th></th>\n",
              "      <th></th>\n",
              "      <th></th>\n",
              "      <th></th>\n",
              "    </tr>\n",
              "  </thead>\n",
              "  <tbody>\n",
              "    <tr>\n",
              "      <th>4403</th>\n",
              "      <td>bruma</td>\n",
              "      <td>11.7</td>\n",
              "      <td>8.9</td>\n",
              "      <td>83.0</td>\n",
              "      <td>NaN</td>\n",
              "      <td>0</td>\n",
              "      <td>9.7</td>\n",
              "      <td>29.7</td>\n",
              "      <td>0.3</td>\n",
              "      <td>No</td>\n",
              "      <td>No</td>\n",
              "      <td>No</td>\n",
              "      <td>test</td>\n",
              "    </tr>\n",
              "  </tbody>\n",
              "</table>\n",
              "</div>\n",
              "      <button class=\"colab-df-convert\" onclick=\"convertToInteractive('df-bb007459-fd4e-42c7-99f0-f8fed1fcc9c6')\"\n",
              "              title=\"Convert this dataframe to an interactive table.\"\n",
              "              style=\"display:none;\">\n",
              "        \n",
              "  <svg xmlns=\"http://www.w3.org/2000/svg\" height=\"24px\"viewBox=\"0 0 24 24\"\n",
              "       width=\"24px\">\n",
              "    <path d=\"M0 0h24v24H0V0z\" fill=\"none\"/>\n",
              "    <path d=\"M18.56 5.44l.94 2.06.94-2.06 2.06-.94-2.06-.94-.94-2.06-.94 2.06-2.06.94zm-11 1L8.5 8.5l.94-2.06 2.06-.94-2.06-.94L8.5 2.5l-.94 2.06-2.06.94zm10 10l.94 2.06.94-2.06 2.06-.94-2.06-.94-.94-2.06-.94 2.06-2.06.94z\"/><path d=\"M17.41 7.96l-1.37-1.37c-.4-.4-.92-.59-1.43-.59-.52 0-1.04.2-1.43.59L10.3 9.45l-7.72 7.72c-.78.78-.78 2.05 0 2.83L4 21.41c.39.39.9.59 1.41.59.51 0 1.02-.2 1.41-.59l7.78-7.78 2.81-2.81c.8-.78.8-2.07 0-2.86zM5.41 20L4 18.59l7.72-7.72 1.47 1.35L5.41 20z\"/>\n",
              "  </svg>\n",
              "      </button>\n",
              "      \n",
              "  <style>\n",
              "    .colab-df-container {\n",
              "      display:flex;\n",
              "      flex-wrap:wrap;\n",
              "      gap: 12px;\n",
              "    }\n",
              "\n",
              "    .colab-df-convert {\n",
              "      background-color: #E8F0FE;\n",
              "      border: none;\n",
              "      border-radius: 50%;\n",
              "      cursor: pointer;\n",
              "      display: none;\n",
              "      fill: #1967D2;\n",
              "      height: 32px;\n",
              "      padding: 0 0 0 0;\n",
              "      width: 32px;\n",
              "    }\n",
              "\n",
              "    .colab-df-convert:hover {\n",
              "      background-color: #E2EBFA;\n",
              "      box-shadow: 0px 1px 2px rgba(60, 64, 67, 0.3), 0px 1px 3px 1px rgba(60, 64, 67, 0.15);\n",
              "      fill: #174EA6;\n",
              "    }\n",
              "\n",
              "    [theme=dark] .colab-df-convert {\n",
              "      background-color: #3B4455;\n",
              "      fill: #D2E3FC;\n",
              "    }\n",
              "\n",
              "    [theme=dark] .colab-df-convert:hover {\n",
              "      background-color: #434B5C;\n",
              "      box-shadow: 0px 1px 3px 1px rgba(0, 0, 0, 0.15);\n",
              "      filter: drop-shadow(0px 1px 2px rgba(0, 0, 0, 0.3));\n",
              "      fill: #FFFFFF;\n",
              "    }\n",
              "  </style>\n",
              "\n",
              "      <script>\n",
              "        const buttonEl =\n",
              "          document.querySelector('#df-bb007459-fd4e-42c7-99f0-f8fed1fcc9c6 button.colab-df-convert');\n",
              "        buttonEl.style.display =\n",
              "          google.colab.kernel.accessAllowed ? 'block' : 'none';\n",
              "\n",
              "        async function convertToInteractive(key) {\n",
              "          const element = document.querySelector('#df-bb007459-fd4e-42c7-99f0-f8fed1fcc9c6');\n",
              "          const dataTable =\n",
              "            await google.colab.kernel.invokeFunction('convertToInteractive',\n",
              "                                                     [key], {});\n",
              "          if (!dataTable) return;\n",
              "\n",
              "          const docLinkHtml = 'Like what you see? Visit the ' +\n",
              "            '<a target=\"_blank\" href=https://colab.research.google.com/notebooks/data_table.ipynb>data table notebook</a>'\n",
              "            + ' to learn more about interactive tables.';\n",
              "          element.innerHTML = '';\n",
              "          dataTable['output_type'] = 'display_data';\n",
              "          await google.colab.output.renderOutput(dataTable, element);\n",
              "          const docLink = document.createElement('div');\n",
              "          docLink.innerHTML = docLinkHtml;\n",
              "          element.appendChild(docLink);\n",
              "        }\n",
              "      </script>\n",
              "    </div>\n",
              "  </div>\n",
              "  "
            ]
          },
          "metadata": {},
          "execution_count": 365
        }
      ]
    },
    {
      "cell_type": "code",
      "source": [
        "#Unimos los dos dataframes para trabajarlos al mismo tiempo\n",
        "train_info_geo['dataset'] = 'train'\n",
        "test_info_geo['dataset'] = 'test'\n",
        "# El ID único de cada cliente, por lo que lo vamos a setear como índice de cada dataframe\n",
        "train_info_geo.set_index('id', inplace=True)\n",
        "test_info_geo.set_index('id', inplace=True)\n",
        "# Unimos los dos df con append\n",
        "train_test_info_geo = train_info_geo.append(test_info_geo) #Pegar algo por debajo \n",
        "\n",
        "train_test_info_geo.tail(1)"
      ],
      "metadata": {
        "colab": {
          "base_uri": "https://localhost:8080/",
          "height": 166
        },
        "id": "knC7WPbjixC7",
        "outputId": "5fdbb08b-61d4-4352-82a8-1fcecbe2803d"
      },
      "execution_count": null,
      "outputs": [
        {
          "output_type": "stream",
          "name": "stderr",
          "text": [
            "<ipython-input-366-edb8de1217ff>:8: FutureWarning: The frame.append method is deprecated and will be removed from pandas in a future version. Use pandas.concat instead.\n",
            "  train_test_info_geo = train_info_geo.append(test_info_geo) #Pegar algo por debajo\n"
          ]
        },
        {
          "output_type": "execute_result",
          "data": {
            "text/plain": [
              "          ciudad  longitud_inicio  latitud_inicio  longitud_final  \\\n",
              "id                                                                  \n",
              "1147  Nueva York       -73.986427       40.767189      -73.983398   \n",
              "\n",
              "      latitud_final dataset  \n",
              "id                           \n",
              "1147      40.760872    test  "
            ],
            "text/html": [
              "\n",
              "  <div id=\"df-4e1adc3d-2a7a-4f74-8fa4-92aeee4cf05b\">\n",
              "    <div class=\"colab-df-container\">\n",
              "      <div>\n",
              "<style scoped>\n",
              "    .dataframe tbody tr th:only-of-type {\n",
              "        vertical-align: middle;\n",
              "    }\n",
              "\n",
              "    .dataframe tbody tr th {\n",
              "        vertical-align: top;\n",
              "    }\n",
              "\n",
              "    .dataframe thead th {\n",
              "        text-align: right;\n",
              "    }\n",
              "</style>\n",
              "<table border=\"1\" class=\"dataframe\">\n",
              "  <thead>\n",
              "    <tr style=\"text-align: right;\">\n",
              "      <th></th>\n",
              "      <th>ciudad</th>\n",
              "      <th>longitud_inicio</th>\n",
              "      <th>latitud_inicio</th>\n",
              "      <th>longitud_final</th>\n",
              "      <th>latitud_final</th>\n",
              "      <th>dataset</th>\n",
              "    </tr>\n",
              "    <tr>\n",
              "      <th>id</th>\n",
              "      <th></th>\n",
              "      <th></th>\n",
              "      <th></th>\n",
              "      <th></th>\n",
              "      <th></th>\n",
              "      <th></th>\n",
              "    </tr>\n",
              "  </thead>\n",
              "  <tbody>\n",
              "    <tr>\n",
              "      <th>1147</th>\n",
              "      <td>Nueva York</td>\n",
              "      <td>-73.986427</td>\n",
              "      <td>40.767189</td>\n",
              "      <td>-73.983398</td>\n",
              "      <td>40.760872</td>\n",
              "      <td>test</td>\n",
              "    </tr>\n",
              "  </tbody>\n",
              "</table>\n",
              "</div>\n",
              "      <button class=\"colab-df-convert\" onclick=\"convertToInteractive('df-4e1adc3d-2a7a-4f74-8fa4-92aeee4cf05b')\"\n",
              "              title=\"Convert this dataframe to an interactive table.\"\n",
              "              style=\"display:none;\">\n",
              "        \n",
              "  <svg xmlns=\"http://www.w3.org/2000/svg\" height=\"24px\"viewBox=\"0 0 24 24\"\n",
              "       width=\"24px\">\n",
              "    <path d=\"M0 0h24v24H0V0z\" fill=\"none\"/>\n",
              "    <path d=\"M18.56 5.44l.94 2.06.94-2.06 2.06-.94-2.06-.94-.94-2.06-.94 2.06-2.06.94zm-11 1L8.5 8.5l.94-2.06 2.06-.94-2.06-.94L8.5 2.5l-.94 2.06-2.06.94zm10 10l.94 2.06.94-2.06 2.06-.94-2.06-.94-.94-2.06-.94 2.06-2.06.94z\"/><path d=\"M17.41 7.96l-1.37-1.37c-.4-.4-.92-.59-1.43-.59-.52 0-1.04.2-1.43.59L10.3 9.45l-7.72 7.72c-.78.78-.78 2.05 0 2.83L4 21.41c.39.39.9.59 1.41.59.51 0 1.02-.2 1.41-.59l7.78-7.78 2.81-2.81c.8-.78.8-2.07 0-2.86zM5.41 20L4 18.59l7.72-7.72 1.47 1.35L5.41 20z\"/>\n",
              "  </svg>\n",
              "      </button>\n",
              "      \n",
              "  <style>\n",
              "    .colab-df-container {\n",
              "      display:flex;\n",
              "      flex-wrap:wrap;\n",
              "      gap: 12px;\n",
              "    }\n",
              "\n",
              "    .colab-df-convert {\n",
              "      background-color: #E8F0FE;\n",
              "      border: none;\n",
              "      border-radius: 50%;\n",
              "      cursor: pointer;\n",
              "      display: none;\n",
              "      fill: #1967D2;\n",
              "      height: 32px;\n",
              "      padding: 0 0 0 0;\n",
              "      width: 32px;\n",
              "    }\n",
              "\n",
              "    .colab-df-convert:hover {\n",
              "      background-color: #E2EBFA;\n",
              "      box-shadow: 0px 1px 2px rgba(60, 64, 67, 0.3), 0px 1px 3px 1px rgba(60, 64, 67, 0.15);\n",
              "      fill: #174EA6;\n",
              "    }\n",
              "\n",
              "    [theme=dark] .colab-df-convert {\n",
              "      background-color: #3B4455;\n",
              "      fill: #D2E3FC;\n",
              "    }\n",
              "\n",
              "    [theme=dark] .colab-df-convert:hover {\n",
              "      background-color: #434B5C;\n",
              "      box-shadow: 0px 1px 3px 1px rgba(0, 0, 0, 0.15);\n",
              "      filter: drop-shadow(0px 1px 2px rgba(0, 0, 0, 0.3));\n",
              "      fill: #FFFFFF;\n",
              "    }\n",
              "  </style>\n",
              "\n",
              "      <script>\n",
              "        const buttonEl =\n",
              "          document.querySelector('#df-4e1adc3d-2a7a-4f74-8fa4-92aeee4cf05b button.colab-df-convert');\n",
              "        buttonEl.style.display =\n",
              "          google.colab.kernel.accessAllowed ? 'block' : 'none';\n",
              "\n",
              "        async function convertToInteractive(key) {\n",
              "          const element = document.querySelector('#df-4e1adc3d-2a7a-4f74-8fa4-92aeee4cf05b');\n",
              "          const dataTable =\n",
              "            await google.colab.kernel.invokeFunction('convertToInteractive',\n",
              "                                                     [key], {});\n",
              "          if (!dataTable) return;\n",
              "\n",
              "          const docLinkHtml = 'Like what you see? Visit the ' +\n",
              "            '<a target=\"_blank\" href=https://colab.research.google.com/notebooks/data_table.ipynb>data table notebook</a>'\n",
              "            + ' to learn more about interactive tables.';\n",
              "          element.innerHTML = '';\n",
              "          dataTable['output_type'] = 'display_data';\n",
              "          await google.colab.output.renderOutput(dataTable, element);\n",
              "          const docLink = document.createElement('div');\n",
              "          docLink.innerHTML = docLinkHtml;\n",
              "          element.appendChild(docLink);\n",
              "        }\n",
              "      </script>\n",
              "    </div>\n",
              "  </div>\n",
              "  "
            ]
          },
          "metadata": {},
          "execution_count": 366
        }
      ]
    },
    {
      "cell_type": "code",
      "source": [
        "festivos.head()"
      ],
      "metadata": {
        "colab": {
          "base_uri": "https://localhost:8080/",
          "height": 206
        },
        "id": "bwzG38wMz2gs",
        "outputId": "3930eab9-b314-4208-d1ea-bca3688c582f"
      },
      "execution_count": null,
      "outputs": [
        {
          "output_type": "execute_result",
          "data": {
            "text/plain": [
              "        fecha  festivo\n",
              "0  2016-01-01        1\n",
              "1  2016-01-18        1\n",
              "2  2016-02-12        1\n",
              "3  2016-02-15        1\n",
              "4  2016-05-08        1"
            ],
            "text/html": [
              "\n",
              "  <div id=\"df-b8ae965b-0212-4017-a611-a56a45ed47c8\">\n",
              "    <div class=\"colab-df-container\">\n",
              "      <div>\n",
              "<style scoped>\n",
              "    .dataframe tbody tr th:only-of-type {\n",
              "        vertical-align: middle;\n",
              "    }\n",
              "\n",
              "    .dataframe tbody tr th {\n",
              "        vertical-align: top;\n",
              "    }\n",
              "\n",
              "    .dataframe thead th {\n",
              "        text-align: right;\n",
              "    }\n",
              "</style>\n",
              "<table border=\"1\" class=\"dataframe\">\n",
              "  <thead>\n",
              "    <tr style=\"text-align: right;\">\n",
              "      <th></th>\n",
              "      <th>fecha</th>\n",
              "      <th>festivo</th>\n",
              "    </tr>\n",
              "  </thead>\n",
              "  <tbody>\n",
              "    <tr>\n",
              "      <th>0</th>\n",
              "      <td>2016-01-01</td>\n",
              "      <td>1</td>\n",
              "    </tr>\n",
              "    <tr>\n",
              "      <th>1</th>\n",
              "      <td>2016-01-18</td>\n",
              "      <td>1</td>\n",
              "    </tr>\n",
              "    <tr>\n",
              "      <th>2</th>\n",
              "      <td>2016-02-12</td>\n",
              "      <td>1</td>\n",
              "    </tr>\n",
              "    <tr>\n",
              "      <th>3</th>\n",
              "      <td>2016-02-15</td>\n",
              "      <td>1</td>\n",
              "    </tr>\n",
              "    <tr>\n",
              "      <th>4</th>\n",
              "      <td>2016-05-08</td>\n",
              "      <td>1</td>\n",
              "    </tr>\n",
              "  </tbody>\n",
              "</table>\n",
              "</div>\n",
              "      <button class=\"colab-df-convert\" onclick=\"convertToInteractive('df-b8ae965b-0212-4017-a611-a56a45ed47c8')\"\n",
              "              title=\"Convert this dataframe to an interactive table.\"\n",
              "              style=\"display:none;\">\n",
              "        \n",
              "  <svg xmlns=\"http://www.w3.org/2000/svg\" height=\"24px\"viewBox=\"0 0 24 24\"\n",
              "       width=\"24px\">\n",
              "    <path d=\"M0 0h24v24H0V0z\" fill=\"none\"/>\n",
              "    <path d=\"M18.56 5.44l.94 2.06.94-2.06 2.06-.94-2.06-.94-.94-2.06-.94 2.06-2.06.94zm-11 1L8.5 8.5l.94-2.06 2.06-.94-2.06-.94L8.5 2.5l-.94 2.06-2.06.94zm10 10l.94 2.06.94-2.06 2.06-.94-2.06-.94-.94-2.06-.94 2.06-2.06.94z\"/><path d=\"M17.41 7.96l-1.37-1.37c-.4-.4-.92-.59-1.43-.59-.52 0-1.04.2-1.43.59L10.3 9.45l-7.72 7.72c-.78.78-.78 2.05 0 2.83L4 21.41c.39.39.9.59 1.41.59.51 0 1.02-.2 1.41-.59l7.78-7.78 2.81-2.81c.8-.78.8-2.07 0-2.86zM5.41 20L4 18.59l7.72-7.72 1.47 1.35L5.41 20z\"/>\n",
              "  </svg>\n",
              "      </button>\n",
              "      \n",
              "  <style>\n",
              "    .colab-df-container {\n",
              "      display:flex;\n",
              "      flex-wrap:wrap;\n",
              "      gap: 12px;\n",
              "    }\n",
              "\n",
              "    .colab-df-convert {\n",
              "      background-color: #E8F0FE;\n",
              "      border: none;\n",
              "      border-radius: 50%;\n",
              "      cursor: pointer;\n",
              "      display: none;\n",
              "      fill: #1967D2;\n",
              "      height: 32px;\n",
              "      padding: 0 0 0 0;\n",
              "      width: 32px;\n",
              "    }\n",
              "\n",
              "    .colab-df-convert:hover {\n",
              "      background-color: #E2EBFA;\n",
              "      box-shadow: 0px 1px 2px rgba(60, 64, 67, 0.3), 0px 1px 3px 1px rgba(60, 64, 67, 0.15);\n",
              "      fill: #174EA6;\n",
              "    }\n",
              "\n",
              "    [theme=dark] .colab-df-convert {\n",
              "      background-color: #3B4455;\n",
              "      fill: #D2E3FC;\n",
              "    }\n",
              "\n",
              "    [theme=dark] .colab-df-convert:hover {\n",
              "      background-color: #434B5C;\n",
              "      box-shadow: 0px 1px 3px 1px rgba(0, 0, 0, 0.15);\n",
              "      filter: drop-shadow(0px 1px 2px rgba(0, 0, 0, 0.3));\n",
              "      fill: #FFFFFF;\n",
              "    }\n",
              "  </style>\n",
              "\n",
              "      <script>\n",
              "        const buttonEl =\n",
              "          document.querySelector('#df-b8ae965b-0212-4017-a611-a56a45ed47c8 button.colab-df-convert');\n",
              "        buttonEl.style.display =\n",
              "          google.colab.kernel.accessAllowed ? 'block' : 'none';\n",
              "\n",
              "        async function convertToInteractive(key) {\n",
              "          const element = document.querySelector('#df-b8ae965b-0212-4017-a611-a56a45ed47c8');\n",
              "          const dataTable =\n",
              "            await google.colab.kernel.invokeFunction('convertToInteractive',\n",
              "                                                     [key], {});\n",
              "          if (!dataTable) return;\n",
              "\n",
              "          const docLinkHtml = 'Like what you see? Visit the ' +\n",
              "            '<a target=\"_blank\" href=https://colab.research.google.com/notebooks/data_table.ipynb>data table notebook</a>'\n",
              "            + ' to learn more about interactive tables.';\n",
              "          element.innerHTML = '';\n",
              "          dataTable['output_type'] = 'display_data';\n",
              "          await google.colab.output.renderOutput(dataTable, element);\n",
              "          const docLink = document.createElement('div');\n",
              "          docLink.innerHTML = docLinkHtml;\n",
              "          element.appendChild(docLink);\n",
              "        }\n",
              "      </script>\n",
              "    </div>\n",
              "  </div>\n",
              "  "
            ]
          },
          "metadata": {},
          "execution_count": 367
        }
      ]
    },
    {
      "cell_type": "markdown",
      "source": [
        "La decision final con el dataset de festivos, es que no se va a usar porque no lo consideramos tan relevante. Pues el df solo contiene 12 datos y en comparacion con el tamaño de los otros df no es particularmente determinante. Adicionalmente, se tuvieron problema para añadir la variable sin dañar los Datasets "
      ],
      "metadata": {
        "id": "fTn1kPnaCL9g"
      }
    },
    {
      "cell_type": "markdown",
      "source": [
        "#Unimos todos los Dataframes para trabajarlos simultaneamente"
      ],
      "metadata": {
        "id": "2DSeFCY8m6xY"
      }
    },
    {
      "cell_type": "code",
      "source": [
        "data = pd.merge(train_test_principal, pd.merge(train_test_clima, train_test_info_geo, on='id', how='outer'), on='id', how='outer')\n",
        "data.head(1)"
      ],
      "metadata": {
        "colab": {
          "base_uri": "https://localhost:8080/",
          "height": 193
        },
        "id": "N5CpJQTe17bf",
        "outputId": "43d7b3b2-53b8-4124-b390-ac0f57844139"
      },
      "execution_count": null,
      "outputs": [
        {
          "output_type": "execute_result",
          "data": {
            "text/plain": [
              "        inicio_trayecto modelo_camioneta  num_paquetes  tiempo_entrega  \\\n",
              "id                                                                       \n",
              "1   2016/04/14 20:53:00         modelo_1             3           448.0   \n",
              "\n",
              "   dataset condiciones_clima  temperatura  temp_rocio  humedad  vel_viento  \\\n",
              "id                                                                           \n",
              "1    train         despejado          8.9         0.0     54.0        16.7   \n",
              "\n",
              "    dir_viento  visibilidad  presion  precipitacion niebla lluvia nieve  \\\n",
              "id                                                                        \n",
              "1          170         16.1     30.4            NaN     No     No    No   \n",
              "\n",
              "   dataset_x      ciudad  longitud_inicio  latitud_inicio  longitud_final  \\\n",
              "id                                                                          \n",
              "1      train  Nueva York       -73.950912       40.825974       -73.94474   \n",
              "\n",
              "    latitud_final dataset_y  \n",
              "id                           \n",
              "1       40.814163     train  "
            ],
            "text/html": [
              "\n",
              "  <div id=\"df-92980841-5fa6-4a1a-8d39-a44a7329a831\">\n",
              "    <div class=\"colab-df-container\">\n",
              "      <div>\n",
              "<style scoped>\n",
              "    .dataframe tbody tr th:only-of-type {\n",
              "        vertical-align: middle;\n",
              "    }\n",
              "\n",
              "    .dataframe tbody tr th {\n",
              "        vertical-align: top;\n",
              "    }\n",
              "\n",
              "    .dataframe thead th {\n",
              "        text-align: right;\n",
              "    }\n",
              "</style>\n",
              "<table border=\"1\" class=\"dataframe\">\n",
              "  <thead>\n",
              "    <tr style=\"text-align: right;\">\n",
              "      <th></th>\n",
              "      <th>inicio_trayecto</th>\n",
              "      <th>modelo_camioneta</th>\n",
              "      <th>num_paquetes</th>\n",
              "      <th>tiempo_entrega</th>\n",
              "      <th>dataset</th>\n",
              "      <th>condiciones_clima</th>\n",
              "      <th>temperatura</th>\n",
              "      <th>temp_rocio</th>\n",
              "      <th>humedad</th>\n",
              "      <th>vel_viento</th>\n",
              "      <th>dir_viento</th>\n",
              "      <th>visibilidad</th>\n",
              "      <th>presion</th>\n",
              "      <th>precipitacion</th>\n",
              "      <th>niebla</th>\n",
              "      <th>lluvia</th>\n",
              "      <th>nieve</th>\n",
              "      <th>dataset_x</th>\n",
              "      <th>ciudad</th>\n",
              "      <th>longitud_inicio</th>\n",
              "      <th>latitud_inicio</th>\n",
              "      <th>longitud_final</th>\n",
              "      <th>latitud_final</th>\n",
              "      <th>dataset_y</th>\n",
              "    </tr>\n",
              "    <tr>\n",
              "      <th>id</th>\n",
              "      <th></th>\n",
              "      <th></th>\n",
              "      <th></th>\n",
              "      <th></th>\n",
              "      <th></th>\n",
              "      <th></th>\n",
              "      <th></th>\n",
              "      <th></th>\n",
              "      <th></th>\n",
              "      <th></th>\n",
              "      <th></th>\n",
              "      <th></th>\n",
              "      <th></th>\n",
              "      <th></th>\n",
              "      <th></th>\n",
              "      <th></th>\n",
              "      <th></th>\n",
              "      <th></th>\n",
              "      <th></th>\n",
              "      <th></th>\n",
              "      <th></th>\n",
              "      <th></th>\n",
              "      <th></th>\n",
              "      <th></th>\n",
              "    </tr>\n",
              "  </thead>\n",
              "  <tbody>\n",
              "    <tr>\n",
              "      <th>1</th>\n",
              "      <td>2016/04/14 20:53:00</td>\n",
              "      <td>modelo_1</td>\n",
              "      <td>3</td>\n",
              "      <td>448.0</td>\n",
              "      <td>train</td>\n",
              "      <td>despejado</td>\n",
              "      <td>8.9</td>\n",
              "      <td>0.0</td>\n",
              "      <td>54.0</td>\n",
              "      <td>16.7</td>\n",
              "      <td>170</td>\n",
              "      <td>16.1</td>\n",
              "      <td>30.4</td>\n",
              "      <td>NaN</td>\n",
              "      <td>No</td>\n",
              "      <td>No</td>\n",
              "      <td>No</td>\n",
              "      <td>train</td>\n",
              "      <td>Nueva York</td>\n",
              "      <td>-73.950912</td>\n",
              "      <td>40.825974</td>\n",
              "      <td>-73.94474</td>\n",
              "      <td>40.814163</td>\n",
              "      <td>train</td>\n",
              "    </tr>\n",
              "  </tbody>\n",
              "</table>\n",
              "</div>\n",
              "      <button class=\"colab-df-convert\" onclick=\"convertToInteractive('df-92980841-5fa6-4a1a-8d39-a44a7329a831')\"\n",
              "              title=\"Convert this dataframe to an interactive table.\"\n",
              "              style=\"display:none;\">\n",
              "        \n",
              "  <svg xmlns=\"http://www.w3.org/2000/svg\" height=\"24px\"viewBox=\"0 0 24 24\"\n",
              "       width=\"24px\">\n",
              "    <path d=\"M0 0h24v24H0V0z\" fill=\"none\"/>\n",
              "    <path d=\"M18.56 5.44l.94 2.06.94-2.06 2.06-.94-2.06-.94-.94-2.06-.94 2.06-2.06.94zm-11 1L8.5 8.5l.94-2.06 2.06-.94-2.06-.94L8.5 2.5l-.94 2.06-2.06.94zm10 10l.94 2.06.94-2.06 2.06-.94-2.06-.94-.94-2.06-.94 2.06-2.06.94z\"/><path d=\"M17.41 7.96l-1.37-1.37c-.4-.4-.92-.59-1.43-.59-.52 0-1.04.2-1.43.59L10.3 9.45l-7.72 7.72c-.78.78-.78 2.05 0 2.83L4 21.41c.39.39.9.59 1.41.59.51 0 1.02-.2 1.41-.59l7.78-7.78 2.81-2.81c.8-.78.8-2.07 0-2.86zM5.41 20L4 18.59l7.72-7.72 1.47 1.35L5.41 20z\"/>\n",
              "  </svg>\n",
              "      </button>\n",
              "      \n",
              "  <style>\n",
              "    .colab-df-container {\n",
              "      display:flex;\n",
              "      flex-wrap:wrap;\n",
              "      gap: 12px;\n",
              "    }\n",
              "\n",
              "    .colab-df-convert {\n",
              "      background-color: #E8F0FE;\n",
              "      border: none;\n",
              "      border-radius: 50%;\n",
              "      cursor: pointer;\n",
              "      display: none;\n",
              "      fill: #1967D2;\n",
              "      height: 32px;\n",
              "      padding: 0 0 0 0;\n",
              "      width: 32px;\n",
              "    }\n",
              "\n",
              "    .colab-df-convert:hover {\n",
              "      background-color: #E2EBFA;\n",
              "      box-shadow: 0px 1px 2px rgba(60, 64, 67, 0.3), 0px 1px 3px 1px rgba(60, 64, 67, 0.15);\n",
              "      fill: #174EA6;\n",
              "    }\n",
              "\n",
              "    [theme=dark] .colab-df-convert {\n",
              "      background-color: #3B4455;\n",
              "      fill: #D2E3FC;\n",
              "    }\n",
              "\n",
              "    [theme=dark] .colab-df-convert:hover {\n",
              "      background-color: #434B5C;\n",
              "      box-shadow: 0px 1px 3px 1px rgba(0, 0, 0, 0.15);\n",
              "      filter: drop-shadow(0px 1px 2px rgba(0, 0, 0, 0.3));\n",
              "      fill: #FFFFFF;\n",
              "    }\n",
              "  </style>\n",
              "\n",
              "      <script>\n",
              "        const buttonEl =\n",
              "          document.querySelector('#df-92980841-5fa6-4a1a-8d39-a44a7329a831 button.colab-df-convert');\n",
              "        buttonEl.style.display =\n",
              "          google.colab.kernel.accessAllowed ? 'block' : 'none';\n",
              "\n",
              "        async function convertToInteractive(key) {\n",
              "          const element = document.querySelector('#df-92980841-5fa6-4a1a-8d39-a44a7329a831');\n",
              "          const dataTable =\n",
              "            await google.colab.kernel.invokeFunction('convertToInteractive',\n",
              "                                                     [key], {});\n",
              "          if (!dataTable) return;\n",
              "\n",
              "          const docLinkHtml = 'Like what you see? Visit the ' +\n",
              "            '<a target=\"_blank\" href=https://colab.research.google.com/notebooks/data_table.ipynb>data table notebook</a>'\n",
              "            + ' to learn more about interactive tables.';\n",
              "          element.innerHTML = '';\n",
              "          dataTable['output_type'] = 'display_data';\n",
              "          await google.colab.output.renderOutput(dataTable, element);\n",
              "          const docLink = document.createElement('div');\n",
              "          docLink.innerHTML = docLinkHtml;\n",
              "          element.appendChild(docLink);\n",
              "        }\n",
              "      </script>\n",
              "    </div>\n",
              "  </div>\n",
              "  "
            ]
          },
          "metadata": {},
          "execution_count": 368
        }
      ]
    },
    {
      "cell_type": "code",
      "source": [
        "#Eliminamos estas columnas porque contienen la misma info que la colunma de Dataset, donde se estipula si un registro pertenece a test o a train\n",
        "col_eliminar2 = [\"dataset_x\",\"dataset_y\"]\n",
        "data= data.loc[:,~data.columns.isin(col_eliminar2)]\n",
        "data.head(3)"
      ],
      "metadata": {
        "colab": {
          "base_uri": "https://localhost:8080/",
          "height": 291
        },
        "id": "ZQMM8ZTA_QCv",
        "outputId": "5016ec07-d0d5-4416-93a7-9b1b29e22098"
      },
      "execution_count": null,
      "outputs": [
        {
          "output_type": "execute_result",
          "data": {
            "text/plain": [
              "        inicio_trayecto modelo_camioneta  num_paquetes  tiempo_entrega  \\\n",
              "id                                                                       \n",
              "1   2016/04/14 20:53:00         modelo_1             3           448.0   \n",
              "2   2016/05/30 23:12:00         modelo_2             1           784.0   \n",
              "3   2016/03/03 11:54:00         modelo_2             1           844.0   \n",
              "\n",
              "   dataset     condiciones_clima  temperatura  temp_rocio  humedad  \\\n",
              "id                                                                   \n",
              "1    train             despejado          8.9         0.0     54.0   \n",
              "2    train  parcialmente nublado         22.8        18.9     79.0   \n",
              "3    train             despejado          0.0       -15.6     31.0   \n",
              "\n",
              "    vel_viento  dir_viento  visibilidad  presion  precipitacion niebla lluvia  \\\n",
              "id                                                                              \n",
              "1         16.7         170         16.1     30.4            NaN     No     No   \n",
              "2          9.3           0         16.1     30.0            NaN     No     No   \n",
              "3          9.3         250         16.1     30.2            NaN     No     No   \n",
              "\n",
              "   nieve      ciudad  longitud_inicio  latitud_inicio  longitud_final  \\\n",
              "id                                                                      \n",
              "1     No  Nueva York       -73.950912       40.825974      -73.944740   \n",
              "2     No  Nueva York       -73.985680       40.760487      -73.942482   \n",
              "3     No  Nueva York       -73.985420       40.758389      -74.007294   \n",
              "\n",
              "    latitud_final  \n",
              "id                 \n",
              "1       40.814163  \n",
              "2       40.786232  \n",
              "3       40.726639  "
            ],
            "text/html": [
              "\n",
              "  <div id=\"df-2bd078d5-0b8e-4c14-b492-0a75c87f53fb\">\n",
              "    <div class=\"colab-df-container\">\n",
              "      <div>\n",
              "<style scoped>\n",
              "    .dataframe tbody tr th:only-of-type {\n",
              "        vertical-align: middle;\n",
              "    }\n",
              "\n",
              "    .dataframe tbody tr th {\n",
              "        vertical-align: top;\n",
              "    }\n",
              "\n",
              "    .dataframe thead th {\n",
              "        text-align: right;\n",
              "    }\n",
              "</style>\n",
              "<table border=\"1\" class=\"dataframe\">\n",
              "  <thead>\n",
              "    <tr style=\"text-align: right;\">\n",
              "      <th></th>\n",
              "      <th>inicio_trayecto</th>\n",
              "      <th>modelo_camioneta</th>\n",
              "      <th>num_paquetes</th>\n",
              "      <th>tiempo_entrega</th>\n",
              "      <th>dataset</th>\n",
              "      <th>condiciones_clima</th>\n",
              "      <th>temperatura</th>\n",
              "      <th>temp_rocio</th>\n",
              "      <th>humedad</th>\n",
              "      <th>vel_viento</th>\n",
              "      <th>dir_viento</th>\n",
              "      <th>visibilidad</th>\n",
              "      <th>presion</th>\n",
              "      <th>precipitacion</th>\n",
              "      <th>niebla</th>\n",
              "      <th>lluvia</th>\n",
              "      <th>nieve</th>\n",
              "      <th>ciudad</th>\n",
              "      <th>longitud_inicio</th>\n",
              "      <th>latitud_inicio</th>\n",
              "      <th>longitud_final</th>\n",
              "      <th>latitud_final</th>\n",
              "    </tr>\n",
              "    <tr>\n",
              "      <th>id</th>\n",
              "      <th></th>\n",
              "      <th></th>\n",
              "      <th></th>\n",
              "      <th></th>\n",
              "      <th></th>\n",
              "      <th></th>\n",
              "      <th></th>\n",
              "      <th></th>\n",
              "      <th></th>\n",
              "      <th></th>\n",
              "      <th></th>\n",
              "      <th></th>\n",
              "      <th></th>\n",
              "      <th></th>\n",
              "      <th></th>\n",
              "      <th></th>\n",
              "      <th></th>\n",
              "      <th></th>\n",
              "      <th></th>\n",
              "      <th></th>\n",
              "      <th></th>\n",
              "      <th></th>\n",
              "    </tr>\n",
              "  </thead>\n",
              "  <tbody>\n",
              "    <tr>\n",
              "      <th>1</th>\n",
              "      <td>2016/04/14 20:53:00</td>\n",
              "      <td>modelo_1</td>\n",
              "      <td>3</td>\n",
              "      <td>448.0</td>\n",
              "      <td>train</td>\n",
              "      <td>despejado</td>\n",
              "      <td>8.9</td>\n",
              "      <td>0.0</td>\n",
              "      <td>54.0</td>\n",
              "      <td>16.7</td>\n",
              "      <td>170</td>\n",
              "      <td>16.1</td>\n",
              "      <td>30.4</td>\n",
              "      <td>NaN</td>\n",
              "      <td>No</td>\n",
              "      <td>No</td>\n",
              "      <td>No</td>\n",
              "      <td>Nueva York</td>\n",
              "      <td>-73.950912</td>\n",
              "      <td>40.825974</td>\n",
              "      <td>-73.944740</td>\n",
              "      <td>40.814163</td>\n",
              "    </tr>\n",
              "    <tr>\n",
              "      <th>2</th>\n",
              "      <td>2016/05/30 23:12:00</td>\n",
              "      <td>modelo_2</td>\n",
              "      <td>1</td>\n",
              "      <td>784.0</td>\n",
              "      <td>train</td>\n",
              "      <td>parcialmente nublado</td>\n",
              "      <td>22.8</td>\n",
              "      <td>18.9</td>\n",
              "      <td>79.0</td>\n",
              "      <td>9.3</td>\n",
              "      <td>0</td>\n",
              "      <td>16.1</td>\n",
              "      <td>30.0</td>\n",
              "      <td>NaN</td>\n",
              "      <td>No</td>\n",
              "      <td>No</td>\n",
              "      <td>No</td>\n",
              "      <td>Nueva York</td>\n",
              "      <td>-73.985680</td>\n",
              "      <td>40.760487</td>\n",
              "      <td>-73.942482</td>\n",
              "      <td>40.786232</td>\n",
              "    </tr>\n",
              "    <tr>\n",
              "      <th>3</th>\n",
              "      <td>2016/03/03 11:54:00</td>\n",
              "      <td>modelo_2</td>\n",
              "      <td>1</td>\n",
              "      <td>844.0</td>\n",
              "      <td>train</td>\n",
              "      <td>despejado</td>\n",
              "      <td>0.0</td>\n",
              "      <td>-15.6</td>\n",
              "      <td>31.0</td>\n",
              "      <td>9.3</td>\n",
              "      <td>250</td>\n",
              "      <td>16.1</td>\n",
              "      <td>30.2</td>\n",
              "      <td>NaN</td>\n",
              "      <td>No</td>\n",
              "      <td>No</td>\n",
              "      <td>No</td>\n",
              "      <td>Nueva York</td>\n",
              "      <td>-73.985420</td>\n",
              "      <td>40.758389</td>\n",
              "      <td>-74.007294</td>\n",
              "      <td>40.726639</td>\n",
              "    </tr>\n",
              "  </tbody>\n",
              "</table>\n",
              "</div>\n",
              "      <button class=\"colab-df-convert\" onclick=\"convertToInteractive('df-2bd078d5-0b8e-4c14-b492-0a75c87f53fb')\"\n",
              "              title=\"Convert this dataframe to an interactive table.\"\n",
              "              style=\"display:none;\">\n",
              "        \n",
              "  <svg xmlns=\"http://www.w3.org/2000/svg\" height=\"24px\"viewBox=\"0 0 24 24\"\n",
              "       width=\"24px\">\n",
              "    <path d=\"M0 0h24v24H0V0z\" fill=\"none\"/>\n",
              "    <path d=\"M18.56 5.44l.94 2.06.94-2.06 2.06-.94-2.06-.94-.94-2.06-.94 2.06-2.06.94zm-11 1L8.5 8.5l.94-2.06 2.06-.94-2.06-.94L8.5 2.5l-.94 2.06-2.06.94zm10 10l.94 2.06.94-2.06 2.06-.94-2.06-.94-.94-2.06-.94 2.06-2.06.94z\"/><path d=\"M17.41 7.96l-1.37-1.37c-.4-.4-.92-.59-1.43-.59-.52 0-1.04.2-1.43.59L10.3 9.45l-7.72 7.72c-.78.78-.78 2.05 0 2.83L4 21.41c.39.39.9.59 1.41.59.51 0 1.02-.2 1.41-.59l7.78-7.78 2.81-2.81c.8-.78.8-2.07 0-2.86zM5.41 20L4 18.59l7.72-7.72 1.47 1.35L5.41 20z\"/>\n",
              "  </svg>\n",
              "      </button>\n",
              "      \n",
              "  <style>\n",
              "    .colab-df-container {\n",
              "      display:flex;\n",
              "      flex-wrap:wrap;\n",
              "      gap: 12px;\n",
              "    }\n",
              "\n",
              "    .colab-df-convert {\n",
              "      background-color: #E8F0FE;\n",
              "      border: none;\n",
              "      border-radius: 50%;\n",
              "      cursor: pointer;\n",
              "      display: none;\n",
              "      fill: #1967D2;\n",
              "      height: 32px;\n",
              "      padding: 0 0 0 0;\n",
              "      width: 32px;\n",
              "    }\n",
              "\n",
              "    .colab-df-convert:hover {\n",
              "      background-color: #E2EBFA;\n",
              "      box-shadow: 0px 1px 2px rgba(60, 64, 67, 0.3), 0px 1px 3px 1px rgba(60, 64, 67, 0.15);\n",
              "      fill: #174EA6;\n",
              "    }\n",
              "\n",
              "    [theme=dark] .colab-df-convert {\n",
              "      background-color: #3B4455;\n",
              "      fill: #D2E3FC;\n",
              "    }\n",
              "\n",
              "    [theme=dark] .colab-df-convert:hover {\n",
              "      background-color: #434B5C;\n",
              "      box-shadow: 0px 1px 3px 1px rgba(0, 0, 0, 0.15);\n",
              "      filter: drop-shadow(0px 1px 2px rgba(0, 0, 0, 0.3));\n",
              "      fill: #FFFFFF;\n",
              "    }\n",
              "  </style>\n",
              "\n",
              "      <script>\n",
              "        const buttonEl =\n",
              "          document.querySelector('#df-2bd078d5-0b8e-4c14-b492-0a75c87f53fb button.colab-df-convert');\n",
              "        buttonEl.style.display =\n",
              "          google.colab.kernel.accessAllowed ? 'block' : 'none';\n",
              "\n",
              "        async function convertToInteractive(key) {\n",
              "          const element = document.querySelector('#df-2bd078d5-0b8e-4c14-b492-0a75c87f53fb');\n",
              "          const dataTable =\n",
              "            await google.colab.kernel.invokeFunction('convertToInteractive',\n",
              "                                                     [key], {});\n",
              "          if (!dataTable) return;\n",
              "\n",
              "          const docLinkHtml = 'Like what you see? Visit the ' +\n",
              "            '<a target=\"_blank\" href=https://colab.research.google.com/notebooks/data_table.ipynb>data table notebook</a>'\n",
              "            + ' to learn more about interactive tables.';\n",
              "          element.innerHTML = '';\n",
              "          dataTable['output_type'] = 'display_data';\n",
              "          await google.colab.output.renderOutput(dataTable, element);\n",
              "          const docLink = document.createElement('div');\n",
              "          docLink.innerHTML = docLinkHtml;\n",
              "          element.appendChild(docLink);\n",
              "        }\n",
              "      </script>\n",
              "    </div>\n",
              "  </div>\n",
              "  "
            ]
          },
          "metadata": {},
          "execution_count": 369
        }
      ]
    },
    {
      "cell_type": "code",
      "source": [
        "correlation = data.corr()\n",
        "f,ax =plt.subplots(figsize =(12,9))\n",
        "mask = np.triu(correlation)\n",
        "sns.heatmap(correlation, annot=True, mask=mask , ax=ax, \n",
        "            linewidths = 4, cmap = 'viridis', square=True).set_title(\"Correlación\")\n",
        "bottom,top = ax.get_ylim()\n",
        "ax.set_ylim (bottom + 0.5 , top - 0.5)"
      ],
      "metadata": {
        "id": "DCKrGIBUykrw",
        "colab": {
          "base_uri": "https://localhost:8080/",
          "height": 1000
        },
        "outputId": "3a4b2bd1-d8d2-48d4-95f3-2cad0e3d52ad"
      },
      "execution_count": null,
      "outputs": [
        {
          "output_type": "stream",
          "name": "stderr",
          "text": [
            "<ipython-input-370-9e1aadce3b3f>:1: FutureWarning: The default value of numeric_only in DataFrame.corr is deprecated. In a future version, it will default to False. Select only valid columns or specify the value of numeric_only to silence this warning.\n",
            "  correlation = data.corr()\n"
          ]
        },
        {
          "output_type": "execute_result",
          "data": {
            "text/plain": [
              "(14.5, -0.5)"
            ]
          },
          "metadata": {},
          "execution_count": 370
        },
        {
          "output_type": "display_data",
          "data": {
            "text/plain": [
              "<Figure size 1200x900 with 2 Axes>"
            ],
            "image/png": "[encoded data removed]"
          },
          "metadata": {}
        }
      ]
    },
    {
      "cell_type": "markdown",
      "source": [
        "En este grafico se ven las correlaciones entre las variables. Destacandose la relacion fuertemente positiva entre la temperatura de rocio y temperatura. Humedad y temperatura de rocio. Y la relacion fuertemente negativa entre Visibilidad y Humedad "
      ],
      "metadata": {
        "id": "KcCScAQdkoMQ"
      }
    },
    {
      "cell_type": "code",
      "source": [
        "#Correlacion en todo el dataframne de train \n",
        "correlations = data.corr()[\"tiempo_entrega\"].sort_values()\n",
        "print('Most Positive Correlations:\\n', correlations.tail(5))\n",
        "print('\\nMost Negative Correlations:\\n', correlations.head(5))"
      ],
      "metadata": {
        "id": "eZyQmiT2nWpK",
        "colab": {
          "base_uri": "https://localhost:8080/"
        },
        "outputId": "73387da2-9d7e-42bb-c4ed-f6f4b1451788"
      },
      "execution_count": null,
      "outputs": [
        {
          "output_type": "stream",
          "name": "stdout",
          "text": [
            "Most Positive Correlations:\n",
            " temperatura        0.027070\n",
            "precipitacion      0.027524\n",
            "longitud_inicio    0.215718\n",
            "longitud_final     0.247205\n",
            "tiempo_entrega     1.000000\n",
            "Name: tiempo_entrega, dtype: float64\n",
            "\n",
            "Most Negative Correlations:\n",
            " latitud_inicio   -0.172163\n",
            "latitud_final    -0.148103\n",
            "humedad          -0.017518\n",
            "dir_viento       -0.010254\n",
            "presion          -0.008691\n",
            "Name: tiempo_entrega, dtype: float64\n"
          ]
        },
        {
          "output_type": "stream",
          "name": "stderr",
          "text": [
            "<ipython-input-371-83907f04a185>:2: FutureWarning: The default value of numeric_only in DataFrame.corr is deprecated. In a future version, it will default to False. Select only valid columns or specify the value of numeric_only to silence this warning.\n",
            "  correlations = data.corr()[\"tiempo_entrega\"].sort_values()\n"
          ]
        }
      ]
    },
    {
      "cell_type": "markdown",
      "source": [
        "# Insight#1"
      ],
      "metadata": {
        "id": "3Bb1fs-jlf5P"
      }
    },
    {
      "cell_type": "markdown",
      "source": [
        "En el codigo estamos buscando las variables que mas expliquen la variable objetivo. Las que mas la explican de forma directa y positiva son la temperatura, precipitacion y las cordenadas longitud. Por lo que estas variables seran una prioridad a la hora de la transformacion y creacion de variables nuevas. Por otro lado, de forma negativa las cordenadas de latitud es la que mas impacto real tiene."
      ],
      "metadata": {
        "id": "W6NXc6PmllIc"
      }
    },
    {
      "cell_type": "code",
      "source": [
        "#create_report(data)"
      ],
      "metadata": {
        "id": "rutTb_KfomsZ"
      },
      "execution_count": null,
      "outputs": []
    },
    {
      "cell_type": "markdown",
      "source": [
        "# Insight#2"
      ],
      "metadata": {
        "id": "gYxhu3sSGfyl"
      }
    },
    {
      "cell_type": "markdown",
      "source": [
        "Dentro de este reporte se pueden ver varias cosas interesantes en cuanto a la distibucion de todas las variables, su relacion y el tipo de datos que contienen. Lo mas interesante es que del dataset la variable tiempo_entrega tiene el 15% de datos faltantes, vel_viento el 7,7%, visibilidad el 2,7% presion 2,66% y precipitacion un 84.92% Por lo que toca tener cuidado con esa ultima especificamente. Y la variable ciudad solo tiene una categoria "
      ],
      "metadata": {
        "id": "JaLBrTp2Gq8Y"
      }
    },
    {
      "cell_type": "markdown",
      "source": [
        "# Modificacion  de variables en el Dataset principal"
      ],
      "metadata": {
        "id": "HgvyBst-ofAX"
      }
    },
    {
      "cell_type": "code",
      "source": [
        "#Contamos los datos en lluvia \n",
        "data['lluvia'].value_counts()"
      ],
      "metadata": {
        "id": "n3MHwvqJVrdN",
        "colab": {
          "base_uri": "https://localhost:8080/"
        },
        "outputId": "e100e345-556e-43f2-d1d7-253dd17fc2a9"
      },
      "execution_count": null,
      "outputs": [
        {
          "output_type": "execute_result",
          "data": {
            "text/plain": [
              "No    7784\n",
              "Si     710\n",
              "Name: lluvia, dtype: int64"
            ]
          },
          "metadata": {},
          "execution_count": 373
        }
      ]
    },
    {
      "cell_type": "code",
      "source": [
        "#Contamos los datos en precipitacion\n",
        "data['precipitacion'].value_counts()"
      ],
      "metadata": {
        "id": "AC8E-jI1M4ot",
        "colab": {
          "base_uri": "https://localhost:8080/"
        },
        "outputId": "8fa9e91b-7e15-4046-8182-004207cd970e"
      },
      "execution_count": null,
      "outputs": [
        {
          "output_type": "execute_result",
          "data": {
            "text/plain": [
              "0.0     339\n",
              "0.3     283\n",
              "0.5     148\n",
              "0.8      95\n",
              "1.0      84\n",
              "1.3      49\n",
              "1.5      38\n",
              "1.8      35\n",
              "2.3      32\n",
              "2.0      32\n",
              "3.0      30\n",
              "2.5      20\n",
              "2.8      13\n",
              "6.1      10\n",
              "3.6       9\n",
              "6.6       8\n",
              "10.4      7\n",
              "3.3       6\n",
              "5.1       5\n",
              "3.8       4\n",
              "6.9       4\n",
              "5.8       4\n",
              "7.4       3\n",
              "4.1       2\n",
              "9.4       2\n",
              "11.7      2\n",
              "9.1       2\n",
              "4.8       2\n",
              "14.7      2\n",
              "12.7      2\n",
              "4.6       2\n",
              "10.2      2\n",
              "18.5      2\n",
              "8.9       1\n",
              "5.6       1\n",
              "5.3       1\n",
              "Name: precipitacion, dtype: int64"
            ]
          },
          "metadata": {},
          "execution_count": 374
        }
      ]
    },
    {
      "cell_type": "code",
      "source": [
        "#Se hacen rangos para dividir precipitacion y se le dan categorias para precisar el estado del clima \n",
        "bins = [0, 2, 6.5, 16,20]\n",
        "labels = [\"debil\",'ligera', 'moderada',\"fuerte\"]\n",
        "data['intensidad'] = pd.cut(data['precipitacion'], bins=bins, labels=labels)\n",
        "data = data.drop('precipitacion', axis=1)\n",
        "data.head(3)\n"
      ],
      "metadata": {
        "id": "sYR1PtK5NKIn",
        "colab": {
          "base_uri": "https://localhost:8080/",
          "height": 291
        },
        "outputId": "9d7aeb02-0159-4f19-808a-f70155524d2a"
      },
      "execution_count": null,
      "outputs": [
        {
          "output_type": "execute_result",
          "data": {
            "text/plain": [
              "        inicio_trayecto modelo_camioneta  num_paquetes  tiempo_entrega  \\\n",
              "id                                                                       \n",
              "1   2016/04/14 20:53:00         modelo_1             3           448.0   \n",
              "2   2016/05/30 23:12:00         modelo_2             1           784.0   \n",
              "3   2016/03/03 11:54:00         modelo_2             1           844.0   \n",
              "\n",
              "   dataset     condiciones_clima  temperatura  temp_rocio  humedad  \\\n",
              "id                                                                   \n",
              "1    train             despejado          8.9         0.0     54.0   \n",
              "2    train  parcialmente nublado         22.8        18.9     79.0   \n",
              "3    train             despejado          0.0       -15.6     31.0   \n",
              "\n",
              "    vel_viento  dir_viento  visibilidad  presion niebla lluvia nieve  \\\n",
              "id                                                                     \n",
              "1         16.7         170         16.1     30.4     No     No    No   \n",
              "2          9.3           0         16.1     30.0     No     No    No   \n",
              "3          9.3         250         16.1     30.2     No     No    No   \n",
              "\n",
              "        ciudad  longitud_inicio  latitud_inicio  longitud_final  \\\n",
              "id                                                                \n",
              "1   Nueva York       -73.950912       40.825974      -73.944740   \n",
              "2   Nueva York       -73.985680       40.760487      -73.942482   \n",
              "3   Nueva York       -73.985420       40.758389      -74.007294   \n",
              "\n",
              "    latitud_final intensidad  \n",
              "id                            \n",
              "1       40.814163        NaN  \n",
              "2       40.786232        NaN  \n",
              "3       40.726639        NaN  "
            ],
            "text/html": [
              "\n",
              "  <div id=\"df-47d25d06-6404-4784-b18d-3fc70b84dca7\">\n",
              "    <div class=\"colab-df-container\">\n",
              "      <div>\n",
              "<style scoped>\n",
              "    .dataframe tbody tr th:only-of-type {\n",
              "        vertical-align: middle;\n",
              "    }\n",
              "\n",
              "    .dataframe tbody tr th {\n",
              "        vertical-align: top;\n",
              "    }\n",
              "\n",
              "    .dataframe thead th {\n",
              "        text-align: right;\n",
              "    }\n",
              "</style>\n",
              "<table border=\"1\" class=\"dataframe\">\n",
              "  <thead>\n",
              "    <tr style=\"text-align: right;\">\n",
              "      <th></th>\n",
              "      <th>inicio_trayecto</th>\n",
              "      <th>modelo_camioneta</th>\n",
              "      <th>num_paquetes</th>\n",
              "      <th>tiempo_entrega</th>\n",
              "      <th>dataset</th>\n",
              "      <th>condiciones_clima</th>\n",
              "      <th>temperatura</th>\n",
              "      <th>temp_rocio</th>\n",
              "      <th>humedad</th>\n",
              "      <th>vel_viento</th>\n",
              "      <th>dir_viento</th>\n",
              "      <th>visibilidad</th>\n",
              "      <th>presion</th>\n",
              "      <th>niebla</th>\n",
              "      <th>lluvia</th>\n",
              "      <th>nieve</th>\n",
              "      <th>ciudad</th>\n",
              "      <th>longitud_inicio</th>\n",
              "      <th>latitud_inicio</th>\n",
              "      <th>longitud_final</th>\n",
              "      <th>latitud_final</th>\n",
              "      <th>intensidad</th>\n",
              "    </tr>\n",
              "    <tr>\n",
              "      <th>id</th>\n",
              "      <th></th>\n",
              "      <th></th>\n",
              "      <th></th>\n",
              "      <th></th>\n",
              "      <th></th>\n",
              "      <th></th>\n",
              "      <th></th>\n",
              "      <th></th>\n",
              "      <th></th>\n",
              "      <th></th>\n",
              "      <th></th>\n",
              "      <th></th>\n",
              "      <th></th>\n",
              "      <th></th>\n",
              "      <th></th>\n",
              "      <th></th>\n",
              "      <th></th>\n",
              "      <th></th>\n",
              "      <th></th>\n",
              "      <th></th>\n",
              "      <th></th>\n",
              "      <th></th>\n",
              "    </tr>\n",
              "  </thead>\n",
              "  <tbody>\n",
              "    <tr>\n",
              "      <th>1</th>\n",
              "      <td>2016/04/14 20:53:00</td>\n",
              "      <td>modelo_1</td>\n",
              "      <td>3</td>\n",
              "      <td>448.0</td>\n",
              "      <td>train</td>\n",
              "      <td>despejado</td>\n",
              "      <td>8.9</td>\n",
              "      <td>0.0</td>\n",
              "      <td>54.0</td>\n",
              "      <td>16.7</td>\n",
              "      <td>170</td>\n",
              "      <td>16.1</td>\n",
              "      <td>30.4</td>\n",
              "      <td>No</td>\n",
              "      <td>No</td>\n",
              "      <td>No</td>\n",
              "      <td>Nueva York</td>\n",
              "      <td>-73.950912</td>\n",
              "      <td>40.825974</td>\n",
              "      <td>-73.944740</td>\n",
              "      <td>40.814163</td>\n",
              "      <td>NaN</td>\n",
              "    </tr>\n",
              "    <tr>\n",
              "      <th>2</th>\n",
              "      <td>2016/05/30 23:12:00</td>\n",
              "      <td>modelo_2</td>\n",
              "      <td>1</td>\n",
              "      <td>784.0</td>\n",
              "      <td>train</td>\n",
              "      <td>parcialmente nublado</td>\n",
              "      <td>22.8</td>\n",
              "      <td>18.9</td>\n",
              "      <td>79.0</td>\n",
              "      <td>9.3</td>\n",
              "      <td>0</td>\n",
              "      <td>16.1</td>\n",
              "      <td>30.0</td>\n",
              "      <td>No</td>\n",
              "      <td>No</td>\n",
              "      <td>No</td>\n",
              "      <td>Nueva York</td>\n",
              "      <td>-73.985680</td>\n",
              "      <td>40.760487</td>\n",
              "      <td>-73.942482</td>\n",
              "      <td>40.786232</td>\n",
              "      <td>NaN</td>\n",
              "    </tr>\n",
              "    <tr>\n",
              "      <th>3</th>\n",
              "      <td>2016/03/03 11:54:00</td>\n",
              "      <td>modelo_2</td>\n",
              "      <td>1</td>\n",
              "      <td>844.0</td>\n",
              "      <td>train</td>\n",
              "      <td>despejado</td>\n",
              "      <td>0.0</td>\n",
              "      <td>-15.6</td>\n",
              "      <td>31.0</td>\n",
              "      <td>9.3</td>\n",
              "      <td>250</td>\n",
              "      <td>16.1</td>\n",
              "      <td>30.2</td>\n",
              "      <td>No</td>\n",
              "      <td>No</td>\n",
              "      <td>No</td>\n",
              "      <td>Nueva York</td>\n",
              "      <td>-73.985420</td>\n",
              "      <td>40.758389</td>\n",
              "      <td>-74.007294</td>\n",
              "      <td>40.726639</td>\n",
              "      <td>NaN</td>\n",
              "    </tr>\n",
              "  </tbody>\n",
              "</table>\n",
              "</div>\n",
              "      <button class=\"colab-df-convert\" onclick=\"convertToInteractive('df-47d25d06-6404-4784-b18d-3fc70b84dca7')\"\n",
              "              title=\"Convert this dataframe to an interactive table.\"\n",
              "              style=\"display:none;\">\n",
              "        \n",
              "  <svg xmlns=\"http://www.w3.org/2000/svg\" height=\"24px\"viewBox=\"0 0 24 24\"\n",
              "       width=\"24px\">\n",
              "    <path d=\"M0 0h24v24H0V0z\" fill=\"none\"/>\n",
              "    <path d=\"M18.56 5.44l.94 2.06.94-2.06 2.06-.94-2.06-.94-.94-2.06-.94 2.06-2.06.94zm-11 1L8.5 8.5l.94-2.06 2.06-.94-2.06-.94L8.5 2.5l-.94 2.06-2.06.94zm10 10l.94 2.06.94-2.06 2.06-.94-2.06-.94-.94-2.06-.94 2.06-2.06.94z\"/><path d=\"M17.41 7.96l-1.37-1.37c-.4-.4-.92-.59-1.43-.59-.52 0-1.04.2-1.43.59L10.3 9.45l-7.72 7.72c-.78.78-.78 2.05 0 2.83L4 21.41c.39.39.9.59 1.41.59.51 0 1.02-.2 1.41-.59l7.78-7.78 2.81-2.81c.8-.78.8-2.07 0-2.86zM5.41 20L4 18.59l7.72-7.72 1.47 1.35L5.41 20z\"/>\n",
              "  </svg>\n",
              "      </button>\n",
              "      \n",
              "  <style>\n",
              "    .colab-df-container {\n",
              "      display:flex;\n",
              "      flex-wrap:wrap;\n",
              "      gap: 12px;\n",
              "    }\n",
              "\n",
              "    .colab-df-convert {\n",
              "      background-color: #E8F0FE;\n",
              "      border: none;\n",
              "      border-radius: 50%;\n",
              "      cursor: pointer;\n",
              "      display: none;\n",
              "      fill: #1967D2;\n",
              "      height: 32px;\n",
              "      padding: 0 0 0 0;\n",
              "      width: 32px;\n",
              "    }\n",
              "\n",
              "    .colab-df-convert:hover {\n",
              "      background-color: #E2EBFA;\n",
              "      box-shadow: 0px 1px 2px rgba(60, 64, 67, 0.3), 0px 1px 3px 1px rgba(60, 64, 67, 0.15);\n",
              "      fill: #174EA6;\n",
              "    }\n",
              "\n",
              "    [theme=dark] .colab-df-convert {\n",
              "      background-color: #3B4455;\n",
              "      fill: #D2E3FC;\n",
              "    }\n",
              "\n",
              "    [theme=dark] .colab-df-convert:hover {\n",
              "      background-color: #434B5C;\n",
              "      box-shadow: 0px 1px 3px 1px rgba(0, 0, 0, 0.15);\n",
              "      filter: drop-shadow(0px 1px 2px rgba(0, 0, 0, 0.3));\n",
              "      fill: #FFFFFF;\n",
              "    }\n",
              "  </style>\n",
              "\n",
              "      <script>\n",
              "        const buttonEl =\n",
              "          document.querySelector('#df-47d25d06-6404-4784-b18d-3fc70b84dca7 button.colab-df-convert');\n",
              "        buttonEl.style.display =\n",
              "          google.colab.kernel.accessAllowed ? 'block' : 'none';\n",
              "\n",
              "        async function convertToInteractive(key) {\n",
              "          const element = document.querySelector('#df-47d25d06-6404-4784-b18d-3fc70b84dca7');\n",
              "          const dataTable =\n",
              "            await google.colab.kernel.invokeFunction('convertToInteractive',\n",
              "                                                     [key], {});\n",
              "          if (!dataTable) return;\n",
              "\n",
              "          const docLinkHtml = 'Like what you see? Visit the ' +\n",
              "            '<a target=\"_blank\" href=https://colab.research.google.com/notebooks/data_table.ipynb>data table notebook</a>'\n",
              "            + ' to learn more about interactive tables.';\n",
              "          element.innerHTML = '';\n",
              "          dataTable['output_type'] = 'display_data';\n",
              "          await google.colab.output.renderOutput(dataTable, element);\n",
              "          const docLink = document.createElement('div');\n",
              "          docLink.innerHTML = docLinkHtml;\n",
              "          element.appendChild(docLink);\n",
              "        }\n",
              "      </script>\n",
              "    </div>\n",
              "  </div>\n",
              "  "
            ]
          },
          "metadata": {},
          "execution_count": 375
        }
      ]
    },
    {
      "cell_type": "code",
      "source": [
        "#Con la variable lluvia se hace este codigo para que cuando el dato sea positiva (si) la variable sea categorizada por su precipitacion\n",
        "data['lluvia1'] = data.apply(lambda row: row['intensidad'] if row['lluvia'] == 'Si' else 'No', axis=1)\n",
        "data = data.drop('intensidad', axis=1)\n",
        "data = data.drop('lluvia', axis=1)\n",
        "data.head(3)"
      ],
      "metadata": {
        "id": "-PjiXCgEwPVW",
        "colab": {
          "base_uri": "https://localhost:8080/",
          "height": 291
        },
        "outputId": "96af5a0a-db89-45eb-8bb4-ccb5403ae3db"
      },
      "execution_count": null,
      "outputs": [
        {
          "output_type": "execute_result",
          "data": {
            "text/plain": [
              "        inicio_trayecto modelo_camioneta  num_paquetes  tiempo_entrega  \\\n",
              "id                                                                       \n",
              "1   2016/04/14 20:53:00         modelo_1             3           448.0   \n",
              "2   2016/05/30 23:12:00         modelo_2             1           784.0   \n",
              "3   2016/03/03 11:54:00         modelo_2             1           844.0   \n",
              "\n",
              "   dataset     condiciones_clima  temperatura  temp_rocio  humedad  \\\n",
              "id                                                                   \n",
              "1    train             despejado          8.9         0.0     54.0   \n",
              "2    train  parcialmente nublado         22.8        18.9     79.0   \n",
              "3    train             despejado          0.0       -15.6     31.0   \n",
              "\n",
              "    vel_viento  dir_viento  visibilidad  presion niebla nieve      ciudad  \\\n",
              "id                                                                          \n",
              "1         16.7         170         16.1     30.4     No    No  Nueva York   \n",
              "2          9.3           0         16.1     30.0     No    No  Nueva York   \n",
              "3          9.3         250         16.1     30.2     No    No  Nueva York   \n",
              "\n",
              "    longitud_inicio  latitud_inicio  longitud_final  latitud_final lluvia1  \n",
              "id                                                                          \n",
              "1        -73.950912       40.825974      -73.944740      40.814163      No  \n",
              "2        -73.985680       40.760487      -73.942482      40.786232      No  \n",
              "3        -73.985420       40.758389      -74.007294      40.726639      No  "
            ],
            "text/html": [
              "\n",
              "  <div id=\"df-b997fe57-c04d-4796-acf4-0bd1f8b39d8e\">\n",
              "    <div class=\"colab-df-container\">\n",
              "      <div>\n",
              "<style scoped>\n",
              "    .dataframe tbody tr th:only-of-type {\n",
              "        vertical-align: middle;\n",
              "    }\n",
              "\n",
              "    .dataframe tbody tr th {\n",
              "        vertical-align: top;\n",
              "    }\n",
              "\n",
              "    .dataframe thead th {\n",
              "        text-align: right;\n",
              "    }\n",
              "</style>\n",
              "<table border=\"1\" class=\"dataframe\">\n",
              "  <thead>\n",
              "    <tr style=\"text-align: right;\">\n",
              "      <th></th>\n",
              "      <th>inicio_trayecto</th>\n",
              "      <th>modelo_camioneta</th>\n",
              "      <th>num_paquetes</th>\n",
              "      <th>tiempo_entrega</th>\n",
              "      <th>dataset</th>\n",
              "      <th>condiciones_clima</th>\n",
              "      <th>temperatura</th>\n",
              "      <th>temp_rocio</th>\n",
              "      <th>humedad</th>\n",
              "      <th>vel_viento</th>\n",
              "      <th>dir_viento</th>\n",
              "      <th>visibilidad</th>\n",
              "      <th>presion</th>\n",
              "      <th>niebla</th>\n",
              "      <th>nieve</th>\n",
              "      <th>ciudad</th>\n",
              "      <th>longitud_inicio</th>\n",
              "      <th>latitud_inicio</th>\n",
              "      <th>longitud_final</th>\n",
              "      <th>latitud_final</th>\n",
              "      <th>lluvia1</th>\n",
              "    </tr>\n",
              "    <tr>\n",
              "      <th>id</th>\n",
              "      <th></th>\n",
              "      <th></th>\n",
              "      <th></th>\n",
              "      <th></th>\n",
              "      <th></th>\n",
              "      <th></th>\n",
              "      <th></th>\n",
              "      <th></th>\n",
              "      <th></th>\n",
              "      <th></th>\n",
              "      <th></th>\n",
              "      <th></th>\n",
              "      <th></th>\n",
              "      <th></th>\n",
              "      <th></th>\n",
              "      <th></th>\n",
              "      <th></th>\n",
              "      <th></th>\n",
              "      <th></th>\n",
              "      <th></th>\n",
              "      <th></th>\n",
              "    </tr>\n",
              "  </thead>\n",
              "  <tbody>\n",
              "    <tr>\n",
              "      <th>1</th>\n",
              "      <td>2016/04/14 20:53:00</td>\n",
              "      <td>modelo_1</td>\n",
              "      <td>3</td>\n",
              "      <td>448.0</td>\n",
              "      <td>train</td>\n",
              "      <td>despejado</td>\n",
              "      <td>8.9</td>\n",
              "      <td>0.0</td>\n",
              "      <td>54.0</td>\n",
              "      <td>16.7</td>\n",
              "      <td>170</td>\n",
              "      <td>16.1</td>\n",
              "      <td>30.4</td>\n",
              "      <td>No</td>\n",
              "      <td>No</td>\n",
              "      <td>Nueva York</td>\n",
              "      <td>-73.950912</td>\n",
              "      <td>40.825974</td>\n",
              "      <td>-73.944740</td>\n",
              "      <td>40.814163</td>\n",
              "      <td>No</td>\n",
              "    </tr>\n",
              "    <tr>\n",
              "      <th>2</th>\n",
              "      <td>2016/05/30 23:12:00</td>\n",
              "      <td>modelo_2</td>\n",
              "      <td>1</td>\n",
              "      <td>784.0</td>\n",
              "      <td>train</td>\n",
              "      <td>parcialmente nublado</td>\n",
              "      <td>22.8</td>\n",
              "      <td>18.9</td>\n",
              "      <td>79.0</td>\n",
              "      <td>9.3</td>\n",
              "      <td>0</td>\n",
              "      <td>16.1</td>\n",
              "      <td>30.0</td>\n",
              "      <td>No</td>\n",
              "      <td>No</td>\n",
              "      <td>Nueva York</td>\n",
              "      <td>-73.985680</td>\n",
              "      <td>40.760487</td>\n",
              "      <td>-73.942482</td>\n",
              "      <td>40.786232</td>\n",
              "      <td>No</td>\n",
              "    </tr>\n",
              "    <tr>\n",
              "      <th>3</th>\n",
              "      <td>2016/03/03 11:54:00</td>\n",
              "      <td>modelo_2</td>\n",
              "      <td>1</td>\n",
              "      <td>844.0</td>\n",
              "      <td>train</td>\n",
              "      <td>despejado</td>\n",
              "      <td>0.0</td>\n",
              "      <td>-15.6</td>\n",
              "      <td>31.0</td>\n",
              "      <td>9.3</td>\n",
              "      <td>250</td>\n",
              "      <td>16.1</td>\n",
              "      <td>30.2</td>\n",
              "      <td>No</td>\n",
              "      <td>No</td>\n",
              "      <td>Nueva York</td>\n",
              "      <td>-73.985420</td>\n",
              "      <td>40.758389</td>\n",
              "      <td>-74.007294</td>\n",
              "      <td>40.726639</td>\n",
              "      <td>No</td>\n",
              "    </tr>\n",
              "  </tbody>\n",
              "</table>\n",
              "</div>\n",
              "      <button class=\"colab-df-convert\" onclick=\"convertToInteractive('df-b997fe57-c04d-4796-acf4-0bd1f8b39d8e')\"\n",
              "              title=\"Convert this dataframe to an interactive table.\"\n",
              "              style=\"display:none;\">\n",
              "        \n",
              "  <svg xmlns=\"http://www.w3.org/2000/svg\" height=\"24px\"viewBox=\"0 0 24 24\"\n",
              "       width=\"24px\">\n",
              "    <path d=\"M0 0h24v24H0V0z\" fill=\"none\"/>\n",
              "    <path d=\"M18.56 5.44l.94 2.06.94-2.06 2.06-.94-2.06-.94-.94-2.06-.94 2.06-2.06.94zm-11 1L8.5 8.5l.94-2.06 2.06-.94-2.06-.94L8.5 2.5l-.94 2.06-2.06.94zm10 10l.94 2.06.94-2.06 2.06-.94-2.06-.94-.94-2.06-.94 2.06-2.06.94z\"/><path d=\"M17.41 7.96l-1.37-1.37c-.4-.4-.92-.59-1.43-.59-.52 0-1.04.2-1.43.59L10.3 9.45l-7.72 7.72c-.78.78-.78 2.05 0 2.83L4 21.41c.39.39.9.59 1.41.59.51 0 1.02-.2 1.41-.59l7.78-7.78 2.81-2.81c.8-.78.8-2.07 0-2.86zM5.41 20L4 18.59l7.72-7.72 1.47 1.35L5.41 20z\"/>\n",
              "  </svg>\n",
              "      </button>\n",
              "      \n",
              "  <style>\n",
              "    .colab-df-container {\n",
              "      display:flex;\n",
              "      flex-wrap:wrap;\n",
              "      gap: 12px;\n",
              "    }\n",
              "\n",
              "    .colab-df-convert {\n",
              "      background-color: #E8F0FE;\n",
              "      border: none;\n",
              "      border-radius: 50%;\n",
              "      cursor: pointer;\n",
              "      display: none;\n",
              "      fill: #1967D2;\n",
              "      height: 32px;\n",
              "      padding: 0 0 0 0;\n",
              "      width: 32px;\n",
              "    }\n",
              "\n",
              "    .colab-df-convert:hover {\n",
              "      background-color: #E2EBFA;\n",
              "      box-shadow: 0px 1px 2px rgba(60, 64, 67, 0.3), 0px 1px 3px 1px rgba(60, 64, 67, 0.15);\n",
              "      fill: #174EA6;\n",
              "    }\n",
              "\n",
              "    [theme=dark] .colab-df-convert {\n",
              "      background-color: #3B4455;\n",
              "      fill: #D2E3FC;\n",
              "    }\n",
              "\n",
              "    [theme=dark] .colab-df-convert:hover {\n",
              "      background-color: #434B5C;\n",
              "      box-shadow: 0px 1px 3px 1px rgba(0, 0, 0, 0.15);\n",
              "      filter: drop-shadow(0px 1px 2px rgba(0, 0, 0, 0.3));\n",
              "      fill: #FFFFFF;\n",
              "    }\n",
              "  </style>\n",
              "\n",
              "      <script>\n",
              "        const buttonEl =\n",
              "          document.querySelector('#df-b997fe57-c04d-4796-acf4-0bd1f8b39d8e button.colab-df-convert');\n",
              "        buttonEl.style.display =\n",
              "          google.colab.kernel.accessAllowed ? 'block' : 'none';\n",
              "\n",
              "        async function convertToInteractive(key) {\n",
              "          const element = document.querySelector('#df-b997fe57-c04d-4796-acf4-0bd1f8b39d8e');\n",
              "          const dataTable =\n",
              "            await google.colab.kernel.invokeFunction('convertToInteractive',\n",
              "                                                     [key], {});\n",
              "          if (!dataTable) return;\n",
              "\n",
              "          const docLinkHtml = 'Like what you see? Visit the ' +\n",
              "            '<a target=\"_blank\" href=https://colab.research.google.com/notebooks/data_table.ipynb>data table notebook</a>'\n",
              "            + ' to learn more about interactive tables.';\n",
              "          element.innerHTML = '';\n",
              "          dataTable['output_type'] = 'display_data';\n",
              "          await google.colab.output.renderOutput(dataTable, element);\n",
              "          const docLink = document.createElement('div');\n",
              "          docLink.innerHTML = docLinkHtml;\n",
              "          element.appendChild(docLink);\n",
              "        }\n",
              "      </script>\n",
              "    </div>\n",
              "  </div>\n",
              "  "
            ]
          },
          "metadata": {},
          "execution_count": 376
        }
      ]
    },
    {
      "cell_type": "code",
      "source": [
        "#Se crea una funcion para que si la lluvia es moderada o fuerte el clima sea categoria positiva \n",
        "def lluvia(row):\n",
        "    if row['lluvia1'] == 'moderada' or row['lluvia1'] == 'fuerte':\n",
        "        return 'Si'\n",
        "    else:\n",
        "        return 'No'\n",
        "    \n",
        "data['lluvia'] = data.apply(lluvia, axis=1)  \n",
        "data = data.drop('lluvia1', axis=1)\n",
        "data.head(1)  "
      ],
      "metadata": {
        "id": "1LUrPNkU2Lzr",
        "colab": {
          "base_uri": "https://localhost:8080/",
          "height": 193
        },
        "outputId": "bf7601ec-d2b0-4b1b-d772-1564a83a24d8"
      },
      "execution_count": null,
      "outputs": [
        {
          "output_type": "execute_result",
          "data": {
            "text/plain": [
              "        inicio_trayecto modelo_camioneta  num_paquetes  tiempo_entrega  \\\n",
              "id                                                                       \n",
              "1   2016/04/14 20:53:00         modelo_1             3           448.0   \n",
              "\n",
              "   dataset condiciones_clima  temperatura  temp_rocio  humedad  vel_viento  \\\n",
              "id                                                                           \n",
              "1    train         despejado          8.9         0.0     54.0        16.7   \n",
              "\n",
              "    dir_viento  visibilidad  presion niebla nieve      ciudad  \\\n",
              "id                                                              \n",
              "1          170         16.1     30.4     No    No  Nueva York   \n",
              "\n",
              "    longitud_inicio  latitud_inicio  longitud_final  latitud_final lluvia  \n",
              "id                                                                         \n",
              "1        -73.950912       40.825974       -73.94474      40.814163     No  "
            ],
            "text/html": [
              "\n",
              "  <div id=\"df-7bda0c92-bbc3-447a-92e9-e8865bd98ceb\">\n",
              "    <div class=\"colab-df-container\">\n",
              "      <div>\n",
              "<style scoped>\n",
              "    .dataframe tbody tr th:only-of-type {\n",
              "        vertical-align: middle;\n",
              "    }\n",
              "\n",
              "    .dataframe tbody tr th {\n",
              "        vertical-align: top;\n",
              "    }\n",
              "\n",
              "    .dataframe thead th {\n",
              "        text-align: right;\n",
              "    }\n",
              "</style>\n",
              "<table border=\"1\" class=\"dataframe\">\n",
              "  <thead>\n",
              "    <tr style=\"text-align: right;\">\n",
              "      <th></th>\n",
              "      <th>inicio_trayecto</th>\n",
              "      <th>modelo_camioneta</th>\n",
              "      <th>num_paquetes</th>\n",
              "      <th>tiempo_entrega</th>\n",
              "      <th>dataset</th>\n",
              "      <th>condiciones_clima</th>\n",
              "      <th>temperatura</th>\n",
              "      <th>temp_rocio</th>\n",
              "      <th>humedad</th>\n",
              "      <th>vel_viento</th>\n",
              "      <th>dir_viento</th>\n",
              "      <th>visibilidad</th>\n",
              "      <th>presion</th>\n",
              "      <th>niebla</th>\n",
              "      <th>nieve</th>\n",
              "      <th>ciudad</th>\n",
              "      <th>longitud_inicio</th>\n",
              "      <th>latitud_inicio</th>\n",
              "      <th>longitud_final</th>\n",
              "      <th>latitud_final</th>\n",
              "      <th>lluvia</th>\n",
              "    </tr>\n",
              "    <tr>\n",
              "      <th>id</th>\n",
              "      <th></th>\n",
              "      <th></th>\n",
              "      <th></th>\n",
              "      <th></th>\n",
              "      <th></th>\n",
              "      <th></th>\n",
              "      <th></th>\n",
              "      <th></th>\n",
              "      <th></th>\n",
              "      <th></th>\n",
              "      <th></th>\n",
              "      <th></th>\n",
              "      <th></th>\n",
              "      <th></th>\n",
              "      <th></th>\n",
              "      <th></th>\n",
              "      <th></th>\n",
              "      <th></th>\n",
              "      <th></th>\n",
              "      <th></th>\n",
              "      <th></th>\n",
              "    </tr>\n",
              "  </thead>\n",
              "  <tbody>\n",
              "    <tr>\n",
              "      <th>1</th>\n",
              "      <td>2016/04/14 20:53:00</td>\n",
              "      <td>modelo_1</td>\n",
              "      <td>3</td>\n",
              "      <td>448.0</td>\n",
              "      <td>train</td>\n",
              "      <td>despejado</td>\n",
              "      <td>8.9</td>\n",
              "      <td>0.0</td>\n",
              "      <td>54.0</td>\n",
              "      <td>16.7</td>\n",
              "      <td>170</td>\n",
              "      <td>16.1</td>\n",
              "      <td>30.4</td>\n",
              "      <td>No</td>\n",
              "      <td>No</td>\n",
              "      <td>Nueva York</td>\n",
              "      <td>-73.950912</td>\n",
              "      <td>40.825974</td>\n",
              "      <td>-73.94474</td>\n",
              "      <td>40.814163</td>\n",
              "      <td>No</td>\n",
              "    </tr>\n",
              "  </tbody>\n",
              "</table>\n",
              "</div>\n",
              "      <button class=\"colab-df-convert\" onclick=\"convertToInteractive('df-7bda0c92-bbc3-447a-92e9-e8865bd98ceb')\"\n",
              "              title=\"Convert this dataframe to an interactive table.\"\n",
              "              style=\"display:none;\">\n",
              "        \n",
              "  <svg xmlns=\"http://www.w3.org/2000/svg\" height=\"24px\"viewBox=\"0 0 24 24\"\n",
              "       width=\"24px\">\n",
              "    <path d=\"M0 0h24v24H0V0z\" fill=\"none\"/>\n",
              "    <path d=\"M18.56 5.44l.94 2.06.94-2.06 2.06-.94-2.06-.94-.94-2.06-.94 2.06-2.06.94zm-11 1L8.5 8.5l.94-2.06 2.06-.94-2.06-.94L8.5 2.5l-.94 2.06-2.06.94zm10 10l.94 2.06.94-2.06 2.06-.94-2.06-.94-.94-2.06-.94 2.06-2.06.94z\"/><path d=\"M17.41 7.96l-1.37-1.37c-.4-.4-.92-.59-1.43-.59-.52 0-1.04.2-1.43.59L10.3 9.45l-7.72 7.72c-.78.78-.78 2.05 0 2.83L4 21.41c.39.39.9.59 1.41.59.51 0 1.02-.2 1.41-.59l7.78-7.78 2.81-2.81c.8-.78.8-2.07 0-2.86zM5.41 20L4 18.59l7.72-7.72 1.47 1.35L5.41 20z\"/>\n",
              "  </svg>\n",
              "      </button>\n",
              "      \n",
              "  <style>\n",
              "    .colab-df-container {\n",
              "      display:flex;\n",
              "      flex-wrap:wrap;\n",
              "      gap: 12px;\n",
              "    }\n",
              "\n",
              "    .colab-df-convert {\n",
              "      background-color: #E8F0FE;\n",
              "      border: none;\n",
              "      border-radius: 50%;\n",
              "      cursor: pointer;\n",
              "      display: none;\n",
              "      fill: #1967D2;\n",
              "      height: 32px;\n",
              "      padding: 0 0 0 0;\n",
              "      width: 32px;\n",
              "    }\n",
              "\n",
              "    .colab-df-convert:hover {\n",
              "      background-color: #E2EBFA;\n",
              "      box-shadow: 0px 1px 2px rgba(60, 64, 67, 0.3), 0px 1px 3px 1px rgba(60, 64, 67, 0.15);\n",
              "      fill: #174EA6;\n",
              "    }\n",
              "\n",
              "    [theme=dark] .colab-df-convert {\n",
              "      background-color: #3B4455;\n",
              "      fill: #D2E3FC;\n",
              "    }\n",
              "\n",
              "    [theme=dark] .colab-df-convert:hover {\n",
              "      background-color: #434B5C;\n",
              "      box-shadow: 0px 1px 3px 1px rgba(0, 0, 0, 0.15);\n",
              "      filter: drop-shadow(0px 1px 2px rgba(0, 0, 0, 0.3));\n",
              "      fill: #FFFFFF;\n",
              "    }\n",
              "  </style>\n",
              "\n",
              "      <script>\n",
              "        const buttonEl =\n",
              "          document.querySelector('#df-7bda0c92-bbc3-447a-92e9-e8865bd98ceb button.colab-df-convert');\n",
              "        buttonEl.style.display =\n",
              "          google.colab.kernel.accessAllowed ? 'block' : 'none';\n",
              "\n",
              "        async function convertToInteractive(key) {\n",
              "          const element = document.querySelector('#df-7bda0c92-bbc3-447a-92e9-e8865bd98ceb');\n",
              "          const dataTable =\n",
              "            await google.colab.kernel.invokeFunction('convertToInteractive',\n",
              "                                                     [key], {});\n",
              "          if (!dataTable) return;\n",
              "\n",
              "          const docLinkHtml = 'Like what you see? Visit the ' +\n",
              "            '<a target=\"_blank\" href=https://colab.research.google.com/notebooks/data_table.ipynb>data table notebook</a>'\n",
              "            + ' to learn more about interactive tables.';\n",
              "          element.innerHTML = '';\n",
              "          dataTable['output_type'] = 'display_data';\n",
              "          await google.colab.output.renderOutput(dataTable, element);\n",
              "          const docLink = document.createElement('div');\n",
              "          docLink.innerHTML = docLinkHtml;\n",
              "          element.appendChild(docLink);\n",
              "        }\n",
              "      </script>\n",
              "    </div>\n",
              "  </div>\n",
              "  "
            ]
          },
          "metadata": {},
          "execution_count": 377
        }
      ]
    },
    {
      "cell_type": "code",
      "source": [
        "#Se hace una condicion para que lluvia, nieve y niebla sean excluidas de la categoria Bueno en clima\n",
        "condiciones = [\n",
        "    (data['lluvia'] == 'Si'),\n",
        "    (data['nieve'] == 'Si'),\n",
        "    (data['niebla'] == 'Si')\n",
        "]\n",
        "\n",
        "opciones = [\"lluvia\",'nieve', 'niebla']\n",
        "data['clima'] = np.select(condiciones, opciones, default='Bueno')\n",
        "\n",
        "data = data.drop('lluvia', axis=1)\n",
        "data = data.drop('nieve', axis=1)\n",
        "data = data.drop('niebla', axis=1)\n",
        "\n",
        "data.head(3)"
      ],
      "metadata": {
        "id": "I_7Qbp621FPU",
        "colab": {
          "base_uri": "https://localhost:8080/",
          "height": 291
        },
        "outputId": "d87f36f9-b332-4771-9a35-cdda06f489ff"
      },
      "execution_count": null,
      "outputs": [
        {
          "output_type": "execute_result",
          "data": {
            "text/plain": [
              "        inicio_trayecto modelo_camioneta  num_paquetes  tiempo_entrega  \\\n",
              "id                                                                       \n",
              "1   2016/04/14 20:53:00         modelo_1             3           448.0   \n",
              "2   2016/05/30 23:12:00         modelo_2             1           784.0   \n",
              "3   2016/03/03 11:54:00         modelo_2             1           844.0   \n",
              "\n",
              "   dataset     condiciones_clima  temperatura  temp_rocio  humedad  \\\n",
              "id                                                                   \n",
              "1    train             despejado          8.9         0.0     54.0   \n",
              "2    train  parcialmente nublado         22.8        18.9     79.0   \n",
              "3    train             despejado          0.0       -15.6     31.0   \n",
              "\n",
              "    vel_viento  dir_viento  visibilidad  presion      ciudad  longitud_inicio  \\\n",
              "id                                                                              \n",
              "1         16.7         170         16.1     30.4  Nueva York       -73.950912   \n",
              "2          9.3           0         16.1     30.0  Nueva York       -73.985680   \n",
              "3          9.3         250         16.1     30.2  Nueva York       -73.985420   \n",
              "\n",
              "    latitud_inicio  longitud_final  latitud_final  clima  \n",
              "id                                                        \n",
              "1        40.825974      -73.944740      40.814163  Bueno  \n",
              "2        40.760487      -73.942482      40.786232  Bueno  \n",
              "3        40.758389      -74.007294      40.726639  Bueno  "
            ],
            "text/html": [
              "\n",
              "  <div id=\"df-9a1e8889-1f58-4069-8e2d-32b2c0e033b6\">\n",
              "    <div class=\"colab-df-container\">\n",
              "      <div>\n",
              "<style scoped>\n",
              "    .dataframe tbody tr th:only-of-type {\n",
              "        vertical-align: middle;\n",
              "    }\n",
              "\n",
              "    .dataframe tbody tr th {\n",
              "        vertical-align: top;\n",
              "    }\n",
              "\n",
              "    .dataframe thead th {\n",
              "        text-align: right;\n",
              "    }\n",
              "</style>\n",
              "<table border=\"1\" class=\"dataframe\">\n",
              "  <thead>\n",
              "    <tr style=\"text-align: right;\">\n",
              "      <th></th>\n",
              "      <th>inicio_trayecto</th>\n",
              "      <th>modelo_camioneta</th>\n",
              "      <th>num_paquetes</th>\n",
              "      <th>tiempo_entrega</th>\n",
              "      <th>dataset</th>\n",
              "      <th>condiciones_clima</th>\n",
              "      <th>temperatura</th>\n",
              "      <th>temp_rocio</th>\n",
              "      <th>humedad</th>\n",
              "      <th>vel_viento</th>\n",
              "      <th>dir_viento</th>\n",
              "      <th>visibilidad</th>\n",
              "      <th>presion</th>\n",
              "      <th>ciudad</th>\n",
              "      <th>longitud_inicio</th>\n",
              "      <th>latitud_inicio</th>\n",
              "      <th>longitud_final</th>\n",
              "      <th>latitud_final</th>\n",
              "      <th>clima</th>\n",
              "    </tr>\n",
              "    <tr>\n",
              "      <th>id</th>\n",
              "      <th></th>\n",
              "      <th></th>\n",
              "      <th></th>\n",
              "      <th></th>\n",
              "      <th></th>\n",
              "      <th></th>\n",
              "      <th></th>\n",
              "      <th></th>\n",
              "      <th></th>\n",
              "      <th></th>\n",
              "      <th></th>\n",
              "      <th></th>\n",
              "      <th></th>\n",
              "      <th></th>\n",
              "      <th></th>\n",
              "      <th></th>\n",
              "      <th></th>\n",
              "      <th></th>\n",
              "      <th></th>\n",
              "    </tr>\n",
              "  </thead>\n",
              "  <tbody>\n",
              "    <tr>\n",
              "      <th>1</th>\n",
              "      <td>2016/04/14 20:53:00</td>\n",
              "      <td>modelo_1</td>\n",
              "      <td>3</td>\n",
              "      <td>448.0</td>\n",
              "      <td>train</td>\n",
              "      <td>despejado</td>\n",
              "      <td>8.9</td>\n",
              "      <td>0.0</td>\n",
              "      <td>54.0</td>\n",
              "      <td>16.7</td>\n",
              "      <td>170</td>\n",
              "      <td>16.1</td>\n",
              "      <td>30.4</td>\n",
              "      <td>Nueva York</td>\n",
              "      <td>-73.950912</td>\n",
              "      <td>40.825974</td>\n",
              "      <td>-73.944740</td>\n",
              "      <td>40.814163</td>\n",
              "      <td>Bueno</td>\n",
              "    </tr>\n",
              "    <tr>\n",
              "      <th>2</th>\n",
              "      <td>2016/05/30 23:12:00</td>\n",
              "      <td>modelo_2</td>\n",
              "      <td>1</td>\n",
              "      <td>784.0</td>\n",
              "      <td>train</td>\n",
              "      <td>parcialmente nublado</td>\n",
              "      <td>22.8</td>\n",
              "      <td>18.9</td>\n",
              "      <td>79.0</td>\n",
              "      <td>9.3</td>\n",
              "      <td>0</td>\n",
              "      <td>16.1</td>\n",
              "      <td>30.0</td>\n",
              "      <td>Nueva York</td>\n",
              "      <td>-73.985680</td>\n",
              "      <td>40.760487</td>\n",
              "      <td>-73.942482</td>\n",
              "      <td>40.786232</td>\n",
              "      <td>Bueno</td>\n",
              "    </tr>\n",
              "    <tr>\n",
              "      <th>3</th>\n",
              "      <td>2016/03/03 11:54:00</td>\n",
              "      <td>modelo_2</td>\n",
              "      <td>1</td>\n",
              "      <td>844.0</td>\n",
              "      <td>train</td>\n",
              "      <td>despejado</td>\n",
              "      <td>0.0</td>\n",
              "      <td>-15.6</td>\n",
              "      <td>31.0</td>\n",
              "      <td>9.3</td>\n",
              "      <td>250</td>\n",
              "      <td>16.1</td>\n",
              "      <td>30.2</td>\n",
              "      <td>Nueva York</td>\n",
              "      <td>-73.985420</td>\n",
              "      <td>40.758389</td>\n",
              "      <td>-74.007294</td>\n",
              "      <td>40.726639</td>\n",
              "      <td>Bueno</td>\n",
              "    </tr>\n",
              "  </tbody>\n",
              "</table>\n",
              "</div>\n",
              "      <button class=\"colab-df-convert\" onclick=\"convertToInteractive('df-9a1e8889-1f58-4069-8e2d-32b2c0e033b6')\"\n",
              "              title=\"Convert this dataframe to an interactive table.\"\n",
              "              style=\"display:none;\">\n",
              "        \n",
              "  <svg xmlns=\"http://www.w3.org/2000/svg\" height=\"24px\"viewBox=\"0 0 24 24\"\n",
              "       width=\"24px\">\n",
              "    <path d=\"M0 0h24v24H0V0z\" fill=\"none\"/>\n",
              "    <path d=\"M18.56 5.44l.94 2.06.94-2.06 2.06-.94-2.06-.94-.94-2.06-.94 2.06-2.06.94zm-11 1L8.5 8.5l.94-2.06 2.06-.94-2.06-.94L8.5 2.5l-.94 2.06-2.06.94zm10 10l.94 2.06.94-2.06 2.06-.94-2.06-.94-.94-2.06-.94 2.06-2.06.94z\"/><path d=\"M17.41 7.96l-1.37-1.37c-.4-.4-.92-.59-1.43-.59-.52 0-1.04.2-1.43.59L10.3 9.45l-7.72 7.72c-.78.78-.78 2.05 0 2.83L4 21.41c.39.39.9.59 1.41.59.51 0 1.02-.2 1.41-.59l7.78-7.78 2.81-2.81c.8-.78.8-2.07 0-2.86zM5.41 20L4 18.59l7.72-7.72 1.47 1.35L5.41 20z\"/>\n",
              "  </svg>\n",
              "      </button>\n",
              "      \n",
              "  <style>\n",
              "    .colab-df-container {\n",
              "      display:flex;\n",
              "      flex-wrap:wrap;\n",
              "      gap: 12px;\n",
              "    }\n",
              "\n",
              "    .colab-df-convert {\n",
              "      background-color: #E8F0FE;\n",
              "      border: none;\n",
              "      border-radius: 50%;\n",
              "      cursor: pointer;\n",
              "      display: none;\n",
              "      fill: #1967D2;\n",
              "      height: 32px;\n",
              "      padding: 0 0 0 0;\n",
              "      width: 32px;\n",
              "    }\n",
              "\n",
              "    .colab-df-convert:hover {\n",
              "      background-color: #E2EBFA;\n",
              "      box-shadow: 0px 1px 2px rgba(60, 64, 67, 0.3), 0px 1px 3px 1px rgba(60, 64, 67, 0.15);\n",
              "      fill: #174EA6;\n",
              "    }\n",
              "\n",
              "    [theme=dark] .colab-df-convert {\n",
              "      background-color: #3B4455;\n",
              "      fill: #D2E3FC;\n",
              "    }\n",
              "\n",
              "    [theme=dark] .colab-df-convert:hover {\n",
              "      background-color: #434B5C;\n",
              "      box-shadow: 0px 1px 3px 1px rgba(0, 0, 0, 0.15);\n",
              "      filter: drop-shadow(0px 1px 2px rgba(0, 0, 0, 0.3));\n",
              "      fill: #FFFFFF;\n",
              "    }\n",
              "  </style>\n",
              "\n",
              "      <script>\n",
              "        const buttonEl =\n",
              "          document.querySelector('#df-9a1e8889-1f58-4069-8e2d-32b2c0e033b6 button.colab-df-convert');\n",
              "        buttonEl.style.display =\n",
              "          google.colab.kernel.accessAllowed ? 'block' : 'none';\n",
              "\n",
              "        async function convertToInteractive(key) {\n",
              "          const element = document.querySelector('#df-9a1e8889-1f58-4069-8e2d-32b2c0e033b6');\n",
              "          const dataTable =\n",
              "            await google.colab.kernel.invokeFunction('convertToInteractive',\n",
              "                                                     [key], {});\n",
              "          if (!dataTable) return;\n",
              "\n",
              "          const docLinkHtml = 'Like what you see? Visit the ' +\n",
              "            '<a target=\"_blank\" href=https://colab.research.google.com/notebooks/data_table.ipynb>data table notebook</a>'\n",
              "            + ' to learn more about interactive tables.';\n",
              "          element.innerHTML = '';\n",
              "          dataTable['output_type'] = 'display_data';\n",
              "          await google.colab.output.renderOutput(dataTable, element);\n",
              "          const docLink = document.createElement('div');\n",
              "          docLink.innerHTML = docLinkHtml;\n",
              "          element.appendChild(docLink);\n",
              "        }\n",
              "      </script>\n",
              "    </div>\n",
              "  </div>\n",
              "  "
            ]
          },
          "metadata": {},
          "execution_count": 378
        }
      ]
    },
    {
      "cell_type": "code",
      "source": [
        "#Para trabajar y modificar las variables de longitud y latitud\n",
        "latitud_inicio = data['latitud_inicio']\n",
        "longitud_inicio = data['longitud_inicio']\n",
        "latitud_final = data['latitud_final']\n",
        "longitud_final = data['longitud_final']\n",
        "\n",
        "# Calcular la distancia entre los dos puntos \n",
        "distances = []\n",
        "for lat1, lon1, lat2, lon2 in zip(latitud_inicio, longitud_inicio, latitud_final, longitud_final):\n",
        "    point1 = (lat1, lon1)\n",
        "    point2 = (lat2, lon2)\n",
        "    dist = distance(point1, point2).miles\n",
        "    distances.append(dist)\n",
        "\n",
        "# Agregar la nueva variable a data \n",
        "data['distance'] = distances\n",
        "data.head(1)"
      ],
      "metadata": {
        "id": "NNqQPVCha6Yp",
        "colab": {
          "base_uri": "https://localhost:8080/",
          "height": 193
        },
        "outputId": "b847e858-460d-42ee-d097-97b6858d3ccf"
      },
      "execution_count": null,
      "outputs": [
        {
          "output_type": "execute_result",
          "data": {
            "text/plain": [
              "        inicio_trayecto modelo_camioneta  num_paquetes  tiempo_entrega  \\\n",
              "id                                                                       \n",
              "1   2016/04/14 20:53:00         modelo_1             3           448.0   \n",
              "\n",
              "   dataset condiciones_clima  temperatura  temp_rocio  humedad  vel_viento  \\\n",
              "id                                                                           \n",
              "1    train         despejado          8.9         0.0     54.0        16.7   \n",
              "\n",
              "    dir_viento  visibilidad  presion      ciudad  longitud_inicio  \\\n",
              "id                                                                  \n",
              "1          170         16.1     30.4  Nueva York       -73.950912   \n",
              "\n",
              "    latitud_inicio  longitud_final  latitud_final  clima  distance  \n",
              "id                                                                  \n",
              "1        40.825974       -73.94474      40.814163  Bueno  0.876832  "
            ],
            "text/html": [
              "\n",
              "  <div id=\"df-ef4339ef-9f4f-41b9-8017-2e26066fb543\">\n",
              "    <div class=\"colab-df-container\">\n",
              "      <div>\n",
              "<style scoped>\n",
              "    .dataframe tbody tr th:only-of-type {\n",
              "        vertical-align: middle;\n",
              "    }\n",
              "\n",
              "    .dataframe tbody tr th {\n",
              "        vertical-align: top;\n",
              "    }\n",
              "\n",
              "    .dataframe thead th {\n",
              "        text-align: right;\n",
              "    }\n",
              "</style>\n",
              "<table border=\"1\" class=\"dataframe\">\n",
              "  <thead>\n",
              "    <tr style=\"text-align: right;\">\n",
              "      <th></th>\n",
              "      <th>inicio_trayecto</th>\n",
              "      <th>modelo_camioneta</th>\n",
              "      <th>num_paquetes</th>\n",
              "      <th>tiempo_entrega</th>\n",
              "      <th>dataset</th>\n",
              "      <th>condiciones_clima</th>\n",
              "      <th>temperatura</th>\n",
              "      <th>temp_rocio</th>\n",
              "      <th>humedad</th>\n",
              "      <th>vel_viento</th>\n",
              "      <th>dir_viento</th>\n",
              "      <th>visibilidad</th>\n",
              "      <th>presion</th>\n",
              "      <th>ciudad</th>\n",
              "      <th>longitud_inicio</th>\n",
              "      <th>latitud_inicio</th>\n",
              "      <th>longitud_final</th>\n",
              "      <th>latitud_final</th>\n",
              "      <th>clima</th>\n",
              "      <th>distance</th>\n",
              "    </tr>\n",
              "    <tr>\n",
              "      <th>id</th>\n",
              "      <th></th>\n",
              "      <th></th>\n",
              "      <th></th>\n",
              "      <th></th>\n",
              "      <th></th>\n",
              "      <th></th>\n",
              "      <th></th>\n",
              "      <th></th>\n",
              "      <th></th>\n",
              "      <th></th>\n",
              "      <th></th>\n",
              "      <th></th>\n",
              "      <th></th>\n",
              "      <th></th>\n",
              "      <th></th>\n",
              "      <th></th>\n",
              "      <th></th>\n",
              "      <th></th>\n",
              "      <th></th>\n",
              "      <th></th>\n",
              "    </tr>\n",
              "  </thead>\n",
              "  <tbody>\n",
              "    <tr>\n",
              "      <th>1</th>\n",
              "      <td>2016/04/14 20:53:00</td>\n",
              "      <td>modelo_1</td>\n",
              "      <td>3</td>\n",
              "      <td>448.0</td>\n",
              "      <td>train</td>\n",
              "      <td>despejado</td>\n",
              "      <td>8.9</td>\n",
              "      <td>0.0</td>\n",
              "      <td>54.0</td>\n",
              "      <td>16.7</td>\n",
              "      <td>170</td>\n",
              "      <td>16.1</td>\n",
              "      <td>30.4</td>\n",
              "      <td>Nueva York</td>\n",
              "      <td>-73.950912</td>\n",
              "      <td>40.825974</td>\n",
              "      <td>-73.94474</td>\n",
              "      <td>40.814163</td>\n",
              "      <td>Bueno</td>\n",
              "      <td>0.876832</td>\n",
              "    </tr>\n",
              "  </tbody>\n",
              "</table>\n",
              "</div>\n",
              "      <button class=\"colab-df-convert\" onclick=\"convertToInteractive('df-ef4339ef-9f4f-41b9-8017-2e26066fb543')\"\n",
              "              title=\"Convert this dataframe to an interactive table.\"\n",
              "              style=\"display:none;\">\n",
              "        \n",
              "  <svg xmlns=\"http://www.w3.org/2000/svg\" height=\"24px\"viewBox=\"0 0 24 24\"\n",
              "       width=\"24px\">\n",
              "    <path d=\"M0 0h24v24H0V0z\" fill=\"none\"/>\n",
              "    <path d=\"M18.56 5.44l.94 2.06.94-2.06 2.06-.94-2.06-.94-.94-2.06-.94 2.06-2.06.94zm-11 1L8.5 8.5l.94-2.06 2.06-.94-2.06-.94L8.5 2.5l-.94 2.06-2.06.94zm10 10l.94 2.06.94-2.06 2.06-.94-2.06-.94-.94-2.06-.94 2.06-2.06.94z\"/><path d=\"M17.41 7.96l-1.37-1.37c-.4-.4-.92-.59-1.43-.59-.52 0-1.04.2-1.43.59L10.3 9.45l-7.72 7.72c-.78.78-.78 2.05 0 2.83L4 21.41c.39.39.9.59 1.41.59.51 0 1.02-.2 1.41-.59l7.78-7.78 2.81-2.81c.8-.78.8-2.07 0-2.86zM5.41 20L4 18.59l7.72-7.72 1.47 1.35L5.41 20z\"/>\n",
              "  </svg>\n",
              "      </button>\n",
              "      \n",
              "  <style>\n",
              "    .colab-df-container {\n",
              "      display:flex;\n",
              "      flex-wrap:wrap;\n",
              "      gap: 12px;\n",
              "    }\n",
              "\n",
              "    .colab-df-convert {\n",
              "      background-color: #E8F0FE;\n",
              "      border: none;\n",
              "      border-radius: 50%;\n",
              "      cursor: pointer;\n",
              "      display: none;\n",
              "      fill: #1967D2;\n",
              "      height: 32px;\n",
              "      padding: 0 0 0 0;\n",
              "      width: 32px;\n",
              "    }\n",
              "\n",
              "    .colab-df-convert:hover {\n",
              "      background-color: #E2EBFA;\n",
              "      box-shadow: 0px 1px 2px rgba(60, 64, 67, 0.3), 0px 1px 3px 1px rgba(60, 64, 67, 0.15);\n",
              "      fill: #174EA6;\n",
              "    }\n",
              "\n",
              "    [theme=dark] .colab-df-convert {\n",
              "      background-color: #3B4455;\n",
              "      fill: #D2E3FC;\n",
              "    }\n",
              "\n",
              "    [theme=dark] .colab-df-convert:hover {\n",
              "      background-color: #434B5C;\n",
              "      box-shadow: 0px 1px 3px 1px rgba(0, 0, 0, 0.15);\n",
              "      filter: drop-shadow(0px 1px 2px rgba(0, 0, 0, 0.3));\n",
              "      fill: #FFFFFF;\n",
              "    }\n",
              "  </style>\n",
              "\n",
              "      <script>\n",
              "        const buttonEl =\n",
              "          document.querySelector('#df-ef4339ef-9f4f-41b9-8017-2e26066fb543 button.colab-df-convert');\n",
              "        buttonEl.style.display =\n",
              "          google.colab.kernel.accessAllowed ? 'block' : 'none';\n",
              "\n",
              "        async function convertToInteractive(key) {\n",
              "          const element = document.querySelector('#df-ef4339ef-9f4f-41b9-8017-2e26066fb543');\n",
              "          const dataTable =\n",
              "            await google.colab.kernel.invokeFunction('convertToInteractive',\n",
              "                                                     [key], {});\n",
              "          if (!dataTable) return;\n",
              "\n",
              "          const docLinkHtml = 'Like what you see? Visit the ' +\n",
              "            '<a target=\"_blank\" href=https://colab.research.google.com/notebooks/data_table.ipynb>data table notebook</a>'\n",
              "            + ' to learn more about interactive tables.';\n",
              "          element.innerHTML = '';\n",
              "          dataTable['output_type'] = 'display_data';\n",
              "          await google.colab.output.renderOutput(dataTable, element);\n",
              "          const docLink = document.createElement('div');\n",
              "          docLink.innerHTML = docLinkHtml;\n",
              "          element.appendChild(docLink);\n",
              "        }\n",
              "      </script>\n",
              "    </div>\n",
              "  </div>\n",
              "  "
            ]
          },
          "metadata": {},
          "execution_count": 379
        }
      ]
    },
    {
      "cell_type": "code",
      "source": [
        "#Para la variable de inicio_trayecto se va a categorizar el dia de la semana en la que se da el suceso \n",
        "data['inicio_trayecto'] = pd.to_datetime(data['inicio_trayecto'])\n",
        "data['dia'] = data['inicio_trayecto'].dt.day_name()\n",
        "data['dia'] = pd.Categorical(data['dia'], categories=['Monday', 'Tuesday', 'Wednesday', 'Thursday', 'Friday', 'Saturday', 'Sunday'], ordered=True)\n",
        "data.head(1)"
      ],
      "metadata": {
        "id": "UyZTrnOHFuBr",
        "colab": {
          "base_uri": "https://localhost:8080/",
          "height": 193
        },
        "outputId": "de08c912-486c-416f-e199-893a0338bb87"
      },
      "execution_count": null,
      "outputs": [
        {
          "output_type": "execute_result",
          "data": {
            "text/plain": [
              "       inicio_trayecto modelo_camioneta  num_paquetes  tiempo_entrega dataset  \\\n",
              "id                                                                              \n",
              "1  2016-04-14 20:53:00         modelo_1             3           448.0   train   \n",
              "\n",
              "   condiciones_clima  temperatura  temp_rocio  humedad  vel_viento  \\\n",
              "id                                                                   \n",
              "1          despejado          8.9         0.0     54.0        16.7   \n",
              "\n",
              "    dir_viento  visibilidad  presion      ciudad  longitud_inicio  \\\n",
              "id                                                                  \n",
              "1          170         16.1     30.4  Nueva York       -73.950912   \n",
              "\n",
              "    latitud_inicio  longitud_final  latitud_final  clima  distance       dia  \n",
              "id                                                                            \n",
              "1        40.825974       -73.94474      40.814163  Bueno  0.876832  Thursday  "
            ],
            "text/html": [
              "\n",
              "  <div id=\"df-527e8e2b-08e8-47f0-aef2-26f0a4efb001\">\n",
              "    <div class=\"colab-df-container\">\n",
              "      <div>\n",
              "<style scoped>\n",
              "    .dataframe tbody tr th:only-of-type {\n",
              "        vertical-align: middle;\n",
              "    }\n",
              "\n",
              "    .dataframe tbody tr th {\n",
              "        vertical-align: top;\n",
              "    }\n",
              "\n",
              "    .dataframe thead th {\n",
              "        text-align: right;\n",
              "    }\n",
              "</style>\n",
              "<table border=\"1\" class=\"dataframe\">\n",
              "  <thead>\n",
              "    <tr style=\"text-align: right;\">\n",
              "      <th></th>\n",
              "      <th>inicio_trayecto</th>\n",
              "      <th>modelo_camioneta</th>\n",
              "      <th>num_paquetes</th>\n",
              "      <th>tiempo_entrega</th>\n",
              "      <th>dataset</th>\n",
              "      <th>condiciones_clima</th>\n",
              "      <th>temperatura</th>\n",
              "      <th>temp_rocio</th>\n",
              "      <th>humedad</th>\n",
              "      <th>vel_viento</th>\n",
              "      <th>dir_viento</th>\n",
              "      <th>visibilidad</th>\n",
              "      <th>presion</th>\n",
              "      <th>ciudad</th>\n",
              "      <th>longitud_inicio</th>\n",
              "      <th>latitud_inicio</th>\n",
              "      <th>longitud_final</th>\n",
              "      <th>latitud_final</th>\n",
              "      <th>clima</th>\n",
              "      <th>distance</th>\n",
              "      <th>dia</th>\n",
              "    </tr>\n",
              "    <tr>\n",
              "      <th>id</th>\n",
              "      <th></th>\n",
              "      <th></th>\n",
              "      <th></th>\n",
              "      <th></th>\n",
              "      <th></th>\n",
              "      <th></th>\n",
              "      <th></th>\n",
              "      <th></th>\n",
              "      <th></th>\n",
              "      <th></th>\n",
              "      <th></th>\n",
              "      <th></th>\n",
              "      <th></th>\n",
              "      <th></th>\n",
              "      <th></th>\n",
              "      <th></th>\n",
              "      <th></th>\n",
              "      <th></th>\n",
              "      <th></th>\n",
              "      <th></th>\n",
              "      <th></th>\n",
              "    </tr>\n",
              "  </thead>\n",
              "  <tbody>\n",
              "    <tr>\n",
              "      <th>1</th>\n",
              "      <td>2016-04-14 20:53:00</td>\n",
              "      <td>modelo_1</td>\n",
              "      <td>3</td>\n",
              "      <td>448.0</td>\n",
              "      <td>train</td>\n",
              "      <td>despejado</td>\n",
              "      <td>8.9</td>\n",
              "      <td>0.0</td>\n",
              "      <td>54.0</td>\n",
              "      <td>16.7</td>\n",
              "      <td>170</td>\n",
              "      <td>16.1</td>\n",
              "      <td>30.4</td>\n",
              "      <td>Nueva York</td>\n",
              "      <td>-73.950912</td>\n",
              "      <td>40.825974</td>\n",
              "      <td>-73.94474</td>\n",
              "      <td>40.814163</td>\n",
              "      <td>Bueno</td>\n",
              "      <td>0.876832</td>\n",
              "      <td>Thursday</td>\n",
              "    </tr>\n",
              "  </tbody>\n",
              "</table>\n",
              "</div>\n",
              "      <button class=\"colab-df-convert\" onclick=\"convertToInteractive('df-527e8e2b-08e8-47f0-aef2-26f0a4efb001')\"\n",
              "              title=\"Convert this dataframe to an interactive table.\"\n",
              "              style=\"display:none;\">\n",
              "        \n",
              "  <svg xmlns=\"http://www.w3.org/2000/svg\" height=\"24px\"viewBox=\"0 0 24 24\"\n",
              "       width=\"24px\">\n",
              "    <path d=\"M0 0h24v24H0V0z\" fill=\"none\"/>\n",
              "    <path d=\"M18.56 5.44l.94 2.06.94-2.06 2.06-.94-2.06-.94-.94-2.06-.94 2.06-2.06.94zm-11 1L8.5 8.5l.94-2.06 2.06-.94-2.06-.94L8.5 2.5l-.94 2.06-2.06.94zm10 10l.94 2.06.94-2.06 2.06-.94-2.06-.94-.94-2.06-.94 2.06-2.06.94z\"/><path d=\"M17.41 7.96l-1.37-1.37c-.4-.4-.92-.59-1.43-.59-.52 0-1.04.2-1.43.59L10.3 9.45l-7.72 7.72c-.78.78-.78 2.05 0 2.83L4 21.41c.39.39.9.59 1.41.59.51 0 1.02-.2 1.41-.59l7.78-7.78 2.81-2.81c.8-.78.8-2.07 0-2.86zM5.41 20L4 18.59l7.72-7.72 1.47 1.35L5.41 20z\"/>\n",
              "  </svg>\n",
              "      </button>\n",
              "      \n",
              "  <style>\n",
              "    .colab-df-container {\n",
              "      display:flex;\n",
              "      flex-wrap:wrap;\n",
              "      gap: 12px;\n",
              "    }\n",
              "\n",
              "    .colab-df-convert {\n",
              "      background-color: #E8F0FE;\n",
              "      border: none;\n",
              "      border-radius: 50%;\n",
              "      cursor: pointer;\n",
              "      display: none;\n",
              "      fill: #1967D2;\n",
              "      height: 32px;\n",
              "      padding: 0 0 0 0;\n",
              "      width: 32px;\n",
              "    }\n",
              "\n",
              "    .colab-df-convert:hover {\n",
              "      background-color: #E2EBFA;\n",
              "      box-shadow: 0px 1px 2px rgba(60, 64, 67, 0.3), 0px 1px 3px 1px rgba(60, 64, 67, 0.15);\n",
              "      fill: #174EA6;\n",
              "    }\n",
              "\n",
              "    [theme=dark] .colab-df-convert {\n",
              "      background-color: #3B4455;\n",
              "      fill: #D2E3FC;\n",
              "    }\n",
              "\n",
              "    [theme=dark] .colab-df-convert:hover {\n",
              "      background-color: #434B5C;\n",
              "      box-shadow: 0px 1px 3px 1px rgba(0, 0, 0, 0.15);\n",
              "      filter: drop-shadow(0px 1px 2px rgba(0, 0, 0, 0.3));\n",
              "      fill: #FFFFFF;\n",
              "    }\n",
              "  </style>\n",
              "\n",
              "      <script>\n",
              "        const buttonEl =\n",
              "          document.querySelector('#df-527e8e2b-08e8-47f0-aef2-26f0a4efb001 button.colab-df-convert');\n",
              "        buttonEl.style.display =\n",
              "          google.colab.kernel.accessAllowed ? 'block' : 'none';\n",
              "\n",
              "        async function convertToInteractive(key) {\n",
              "          const element = document.querySelector('#df-527e8e2b-08e8-47f0-aef2-26f0a4efb001');\n",
              "          const dataTable =\n",
              "            await google.colab.kernel.invokeFunction('convertToInteractive',\n",
              "                                                     [key], {});\n",
              "          if (!dataTable) return;\n",
              "\n",
              "          const docLinkHtml = 'Like what you see? Visit the ' +\n",
              "            '<a target=\"_blank\" href=https://colab.research.google.com/notebooks/data_table.ipynb>data table notebook</a>'\n",
              "            + ' to learn more about interactive tables.';\n",
              "          element.innerHTML = '';\n",
              "          dataTable['output_type'] = 'display_data';\n",
              "          await google.colab.output.renderOutput(dataTable, element);\n",
              "          const docLink = document.createElement('div');\n",
              "          docLink.innerHTML = docLinkHtml;\n",
              "          element.appendChild(docLink);\n",
              "        }\n",
              "      </script>\n",
              "    </div>\n",
              "  </div>\n",
              "  "
            ]
          },
          "metadata": {},
          "execution_count": 380
        }
      ]
    },
    {
      "cell_type": "code",
      "source": [
        "#from pandas.core.apply import DataError\n",
        "#data[\"inicio_trayecto\"] = pd.to_datetime(data['inicio_trayecto'], format='%Y-%m-%d %H:%M:%S')\n",
        "#data['fecha'] = data['inicio_trayecto'].dt.date\n",
        "#data.head(1)\n"
      ],
      "metadata": {
        "id": "CaW80aZ75IkS"
      },
      "execution_count": null,
      "outputs": []
    },
    {
      "cell_type": "code",
      "source": [
        "#dummy=[]\n",
        "#for variable in data[\"fecha\"]:\n",
        "    #if variable in festivos[\"festivo\"]:\n",
        "        #dummy.append(1)\n",
        "    #else:\n",
        "        #dummy.append(0)\n",
        "#dummy=pd.DataFrame(dummy).set_index(data.index)"
      ],
      "metadata": {
        "id": "jbWoudeIZRpk"
      },
      "execution_count": null,
      "outputs": []
    },
    {
      "cell_type": "code",
      "source": [
        "#dummy.rename(columns = {0:'festivos'}, inplace = True)\n",
        "#dummy.columns"
      ],
      "metadata": {
        "id": "sMn7IamTcjHm"
      },
      "execution_count": null,
      "outputs": []
    },
    {
      "cell_type": "code",
      "source": [
        "#data= pd.merge(data, dummy,left_index=True,right_on=\"festivos\", how='left')\n",
        "\n",
        "data.head(5)"
      ],
      "metadata": {
        "id": "6X4ridSIa4f1",
        "colab": {
          "base_uri": "https://localhost:8080/",
          "height": 388
        },
        "outputId": "b5ffffeb-5fc4-4059-c2ba-53fc37f937c7"
      },
      "execution_count": null,
      "outputs": [
        {
          "output_type": "execute_result",
          "data": {
            "text/plain": [
              "       inicio_trayecto modelo_camioneta  num_paquetes  tiempo_entrega dataset  \\\n",
              "id                                                                              \n",
              "1  2016-04-14 20:53:00         modelo_1             3           448.0   train   \n",
              "2  2016-05-30 23:12:00         modelo_2             1           784.0   train   \n",
              "3  2016-03-03 11:54:00         modelo_2             1           844.0   train   \n",
              "4  2016-05-02 12:34:00         modelo_1             1          2076.0   train   \n",
              "5  2016-03-02 15:53:00         modelo_1             1          1289.0   train   \n",
              "\n",
              "       condiciones_clima  temperatura  temp_rocio  humedad  vel_viento  \\\n",
              "id                                                                       \n",
              "1              despejado          8.9         0.0     54.0        16.7   \n",
              "2   parcialmente nublado         22.8        18.9     79.0         9.3   \n",
              "3              despejado          0.0       -15.6     31.0         9.3   \n",
              "4                nublado          0.6        -1.7     85.0        13.0   \n",
              "5                 lluvia         13.9        12.2     89.0        11.1   \n",
              "\n",
              "    dir_viento  visibilidad  presion      ciudad  longitud_inicio  \\\n",
              "id                                                                  \n",
              "1          170         16.1     30.4  Nueva York       -73.950912   \n",
              "2            0         16.1     30.0  Nueva York       -73.985680   \n",
              "3          250         16.1     30.2  Nueva York       -73.985420   \n",
              "4          300          4.0     30.1  Nueva York       -73.870964   \n",
              "5          170          1.6     30.0  Nueva York       -73.979012   \n",
              "\n",
              "    latitud_inicio  longitud_final  latitud_final  clima  distance        dia  \n",
              "id                                                                             \n",
              "1        40.825974      -73.944740      40.814163  Bueno  0.876832   Thursday  \n",
              "2        40.760487      -73.942482      40.786232  Bueno  2.879407     Monday  \n",
              "3        40.758389      -74.007294      40.726639  Bueno  2.473356   Thursday  \n",
              "4        40.773792      -73.989090      40.746052  Bueno  6.486737     Monday  \n",
              "5        40.745266      -73.979240      40.772480  Bueno  1.877884  Wednesday  "
            ],
            "text/html": [
              "\n",
              "  <div id=\"df-e3913364-fa17-446b-97f2-eca478ff5d9e\">\n",
              "    <div class=\"colab-df-container\">\n",
              "      <div>\n",
              "<style scoped>\n",
              "    .dataframe tbody tr th:only-of-type {\n",
              "        vertical-align: middle;\n",
              "    }\n",
              "\n",
              "    .dataframe tbody tr th {\n",
              "        vertical-align: top;\n",
              "    }\n",
              "\n",
              "    .dataframe thead th {\n",
              "        text-align: right;\n",
              "    }\n",
              "</style>\n",
              "<table border=\"1\" class=\"dataframe\">\n",
              "  <thead>\n",
              "    <tr style=\"text-align: right;\">\n",
              "      <th></th>\n",
              "      <th>inicio_trayecto</th>\n",
              "      <th>modelo_camioneta</th>\n",
              "      <th>num_paquetes</th>\n",
              "      <th>tiempo_entrega</th>\n",
              "      <th>dataset</th>\n",
              "      <th>condiciones_clima</th>\n",
              "      <th>temperatura</th>\n",
              "      <th>temp_rocio</th>\n",
              "      <th>humedad</th>\n",
              "      <th>vel_viento</th>\n",
              "      <th>dir_viento</th>\n",
              "      <th>visibilidad</th>\n",
              "      <th>presion</th>\n",
              "      <th>ciudad</th>\n",
              "      <th>longitud_inicio</th>\n",
              "      <th>latitud_inicio</th>\n",
              "      <th>longitud_final</th>\n",
              "      <th>latitud_final</th>\n",
              "      <th>clima</th>\n",
              "      <th>distance</th>\n",
              "      <th>dia</th>\n",
              "    </tr>\n",
              "    <tr>\n",
              "      <th>id</th>\n",
              "      <th></th>\n",
              "      <th></th>\n",
              "      <th></th>\n",
              "      <th></th>\n",
              "      <th></th>\n",
              "      <th></th>\n",
              "      <th></th>\n",
              "      <th></th>\n",
              "      <th></th>\n",
              "      <th></th>\n",
              "      <th></th>\n",
              "      <th></th>\n",
              "      <th></th>\n",
              "      <th></th>\n",
              "      <th></th>\n",
              "      <th></th>\n",
              "      <th></th>\n",
              "      <th></th>\n",
              "      <th></th>\n",
              "      <th></th>\n",
              "      <th></th>\n",
              "    </tr>\n",
              "  </thead>\n",
              "  <tbody>\n",
              "    <tr>\n",
              "      <th>1</th>\n",
              "      <td>2016-04-14 20:53:00</td>\n",
              "      <td>modelo_1</td>\n",
              "      <td>3</td>\n",
              "      <td>448.0</td>\n",
              "      <td>train</td>\n",
              "      <td>despejado</td>\n",
              "      <td>8.9</td>\n",
              "      <td>0.0</td>\n",
              "      <td>54.0</td>\n",
              "      <td>16.7</td>\n",
              "      <td>170</td>\n",
              "      <td>16.1</td>\n",
              "      <td>30.4</td>\n",
              "      <td>Nueva York</td>\n",
              "      <td>-73.950912</td>\n",
              "      <td>40.825974</td>\n",
              "      <td>-73.944740</td>\n",
              "      <td>40.814163</td>\n",
              "      <td>Bueno</td>\n",
              "      <td>0.876832</td>\n",
              "      <td>Thursday</td>\n",
              "    </tr>\n",
              "    <tr>\n",
              "      <th>2</th>\n",
              "      <td>2016-05-30 23:12:00</td>\n",
              "      <td>modelo_2</td>\n",
              "      <td>1</td>\n",
              "      <td>784.0</td>\n",
              "      <td>train</td>\n",
              "      <td>parcialmente nublado</td>\n",
              "      <td>22.8</td>\n",
              "      <td>18.9</td>\n",
              "      <td>79.0</td>\n",
              "      <td>9.3</td>\n",
              "      <td>0</td>\n",
              "      <td>16.1</td>\n",
              "      <td>30.0</td>\n",
              "      <td>Nueva York</td>\n",
              "      <td>-73.985680</td>\n",
              "      <td>40.760487</td>\n",
              "      <td>-73.942482</td>\n",
              "      <td>40.786232</td>\n",
              "      <td>Bueno</td>\n",
              "      <td>2.879407</td>\n",
              "      <td>Monday</td>\n",
              "    </tr>\n",
              "    <tr>\n",
              "      <th>3</th>\n",
              "      <td>2016-03-03 11:54:00</td>\n",
              "      <td>modelo_2</td>\n",
              "      <td>1</td>\n",
              "      <td>844.0</td>\n",
              "      <td>train</td>\n",
              "      <td>despejado</td>\n",
              "      <td>0.0</td>\n",
              "      <td>-15.6</td>\n",
              "      <td>31.0</td>\n",
              "      <td>9.3</td>\n",
              "      <td>250</td>\n",
              "      <td>16.1</td>\n",
              "      <td>30.2</td>\n",
              "      <td>Nueva York</td>\n",
              "      <td>-73.985420</td>\n",
              "      <td>40.758389</td>\n",
              "      <td>-74.007294</td>\n",
              "      <td>40.726639</td>\n",
              "      <td>Bueno</td>\n",
              "      <td>2.473356</td>\n",
              "      <td>Thursday</td>\n",
              "    </tr>\n",
              "    <tr>\n",
              "      <th>4</th>\n",
              "      <td>2016-05-02 12:34:00</td>\n",
              "      <td>modelo_1</td>\n",
              "      <td>1</td>\n",
              "      <td>2076.0</td>\n",
              "      <td>train</td>\n",
              "      <td>nublado</td>\n",
              "      <td>0.6</td>\n",
              "      <td>-1.7</td>\n",
              "      <td>85.0</td>\n",
              "      <td>13.0</td>\n",
              "      <td>300</td>\n",
              "      <td>4.0</td>\n",
              "      <td>30.1</td>\n",
              "      <td>Nueva York</td>\n",
              "      <td>-73.870964</td>\n",
              "      <td>40.773792</td>\n",
              "      <td>-73.989090</td>\n",
              "      <td>40.746052</td>\n",
              "      <td>Bueno</td>\n",
              "      <td>6.486737</td>\n",
              "      <td>Monday</td>\n",
              "    </tr>\n",
              "    <tr>\n",
              "      <th>5</th>\n",
              "      <td>2016-03-02 15:53:00</td>\n",
              "      <td>modelo_1</td>\n",
              "      <td>1</td>\n",
              "      <td>1289.0</td>\n",
              "      <td>train</td>\n",
              "      <td>lluvia</td>\n",
              "      <td>13.9</td>\n",
              "      <td>12.2</td>\n",
              "      <td>89.0</td>\n",
              "      <td>11.1</td>\n",
              "      <td>170</td>\n",
              "      <td>1.6</td>\n",
              "      <td>30.0</td>\n",
              "      <td>Nueva York</td>\n",
              "      <td>-73.979012</td>\n",
              "      <td>40.745266</td>\n",
              "      <td>-73.979240</td>\n",
              "      <td>40.772480</td>\n",
              "      <td>Bueno</td>\n",
              "      <td>1.877884</td>\n",
              "      <td>Wednesday</td>\n",
              "    </tr>\n",
              "  </tbody>\n",
              "</table>\n",
              "</div>\n",
              "      <button class=\"colab-df-convert\" onclick=\"convertToInteractive('df-e3913364-fa17-446b-97f2-eca478ff5d9e')\"\n",
              "              title=\"Convert this dataframe to an interactive table.\"\n",
              "              style=\"display:none;\">\n",
              "        \n",
              "  <svg xmlns=\"http://www.w3.org/2000/svg\" height=\"24px\"viewBox=\"0 0 24 24\"\n",
              "       width=\"24px\">\n",
              "    <path d=\"M0 0h24v24H0V0z\" fill=\"none\"/>\n",
              "    <path d=\"M18.56 5.44l.94 2.06.94-2.06 2.06-.94-2.06-.94-.94-2.06-.94 2.06-2.06.94zm-11 1L8.5 8.5l.94-2.06 2.06-.94-2.06-.94L8.5 2.5l-.94 2.06-2.06.94zm10 10l.94 2.06.94-2.06 2.06-.94-2.06-.94-.94-2.06-.94 2.06-2.06.94z\"/><path d=\"M17.41 7.96l-1.37-1.37c-.4-.4-.92-.59-1.43-.59-.52 0-1.04.2-1.43.59L10.3 9.45l-7.72 7.72c-.78.78-.78 2.05 0 2.83L4 21.41c.39.39.9.59 1.41.59.51 0 1.02-.2 1.41-.59l7.78-7.78 2.81-2.81c.8-.78.8-2.07 0-2.86zM5.41 20L4 18.59l7.72-7.72 1.47 1.35L5.41 20z\"/>\n",
              "  </svg>\n",
              "      </button>\n",
              "      \n",
              "  <style>\n",
              "    .colab-df-container {\n",
              "      display:flex;\n",
              "      flex-wrap:wrap;\n",
              "      gap: 12px;\n",
              "    }\n",
              "\n",
              "    .colab-df-convert {\n",
              "      background-color: #E8F0FE;\n",
              "      border: none;\n",
              "      border-radius: 50%;\n",
              "      cursor: pointer;\n",
              "      display: none;\n",
              "      fill: #1967D2;\n",
              "      height: 32px;\n",
              "      padding: 0 0 0 0;\n",
              "      width: 32px;\n",
              "    }\n",
              "\n",
              "    .colab-df-convert:hover {\n",
              "      background-color: #E2EBFA;\n",
              "      box-shadow: 0px 1px 2px rgba(60, 64, 67, 0.3), 0px 1px 3px 1px rgba(60, 64, 67, 0.15);\n",
              "      fill: #174EA6;\n",
              "    }\n",
              "\n",
              "    [theme=dark] .colab-df-convert {\n",
              "      background-color: #3B4455;\n",
              "      fill: #D2E3FC;\n",
              "    }\n",
              "\n",
              "    [theme=dark] .colab-df-convert:hover {\n",
              "      background-color: #434B5C;\n",
              "      box-shadow: 0px 1px 3px 1px rgba(0, 0, 0, 0.15);\n",
              "      filter: drop-shadow(0px 1px 2px rgba(0, 0, 0, 0.3));\n",
              "      fill: #FFFFFF;\n",
              "    }\n",
              "  </style>\n",
              "\n",
              "      <script>\n",
              "        const buttonEl =\n",
              "          document.querySelector('#df-e3913364-fa17-446b-97f2-eca478ff5d9e button.colab-df-convert');\n",
              "        buttonEl.style.display =\n",
              "          google.colab.kernel.accessAllowed ? 'block' : 'none';\n",
              "\n",
              "        async function convertToInteractive(key) {\n",
              "          const element = document.querySelector('#df-e3913364-fa17-446b-97f2-eca478ff5d9e');\n",
              "          const dataTable =\n",
              "            await google.colab.kernel.invokeFunction('convertToInteractive',\n",
              "                                                     [key], {});\n",
              "          if (!dataTable) return;\n",
              "\n",
              "          const docLinkHtml = 'Like what you see? Visit the ' +\n",
              "            '<a target=\"_blank\" href=https://colab.research.google.com/notebooks/data_table.ipynb>data table notebook</a>'\n",
              "            + ' to learn more about interactive tables.';\n",
              "          element.innerHTML = '';\n",
              "          dataTable['output_type'] = 'display_data';\n",
              "          await google.colab.output.renderOutput(dataTable, element);\n",
              "          const docLink = document.createElement('div');\n",
              "          docLink.innerHTML = docLinkHtml;\n",
              "          element.appendChild(docLink);\n",
              "        }\n",
              "      </script>\n",
              "    </div>\n",
              "  </div>\n",
              "  "
            ]
          },
          "metadata": {},
          "execution_count": 384
        }
      ]
    },
    {
      "cell_type": "code",
      "source": [
        "from pandas.core.apply import DataError\n",
        "data[\"inicio_trayecto\"] = pd.to_datetime(data['inicio_trayecto'], format='%Y-%m-%d %H:%M:%S')\n",
        "data['hora'] = data['inicio_trayecto'].dt.hour\n",
        "data['minuto'] = data['inicio_trayecto'].dt.minute\n",
        "data['segundo'] = data['inicio_trayecto'].dt.second\n",
        "data = data.drop('inicio_trayecto', axis=1)\n",
        "data.head(1)"
      ],
      "metadata": {
        "id": "Gy14RnhyctMj",
        "colab": {
          "base_uri": "https://localhost:8080/",
          "height": 193
        },
        "outputId": "52cb1a83-b6ea-4dac-bdff-2f9ca80b1eec"
      },
      "execution_count": null,
      "outputs": [
        {
          "output_type": "execute_result",
          "data": {
            "text/plain": [
              "   modelo_camioneta  num_paquetes  tiempo_entrega dataset condiciones_clima  \\\n",
              "id                                                                            \n",
              "1          modelo_1             3           448.0   train         despejado   \n",
              "\n",
              "    temperatura  temp_rocio  humedad  vel_viento  dir_viento  visibilidad  \\\n",
              "id                                                                          \n",
              "1           8.9         0.0     54.0        16.7         170         16.1   \n",
              "\n",
              "    presion      ciudad  longitud_inicio  latitud_inicio  longitud_final  \\\n",
              "id                                                                         \n",
              "1      30.4  Nueva York       -73.950912       40.825974       -73.94474   \n",
              "\n",
              "    latitud_final  clima  distance       dia  hora  minuto  segundo  \n",
              "id                                                                   \n",
              "1       40.814163  Bueno  0.876832  Thursday    20      53        0  "
            ],
            "text/html": [
              "\n",
              "  <div id=\"df-c6b5ce3f-5d74-4450-b8c1-91fa11dac026\">\n",
              "    <div class=\"colab-df-container\">\n",
              "      <div>\n",
              "<style scoped>\n",
              "    .dataframe tbody tr th:only-of-type {\n",
              "        vertical-align: middle;\n",
              "    }\n",
              "\n",
              "    .dataframe tbody tr th {\n",
              "        vertical-align: top;\n",
              "    }\n",
              "\n",
              "    .dataframe thead th {\n",
              "        text-align: right;\n",
              "    }\n",
              "</style>\n",
              "<table border=\"1\" class=\"dataframe\">\n",
              "  <thead>\n",
              "    <tr style=\"text-align: right;\">\n",
              "      <th></th>\n",
              "      <th>modelo_camioneta</th>\n",
              "      <th>num_paquetes</th>\n",
              "      <th>tiempo_entrega</th>\n",
              "      <th>dataset</th>\n",
              "      <th>condiciones_clima</th>\n",
              "      <th>temperatura</th>\n",
              "      <th>temp_rocio</th>\n",
              "      <th>humedad</th>\n",
              "      <th>vel_viento</th>\n",
              "      <th>dir_viento</th>\n",
              "      <th>visibilidad</th>\n",
              "      <th>presion</th>\n",
              "      <th>ciudad</th>\n",
              "      <th>longitud_inicio</th>\n",
              "      <th>latitud_inicio</th>\n",
              "      <th>longitud_final</th>\n",
              "      <th>latitud_final</th>\n",
              "      <th>clima</th>\n",
              "      <th>distance</th>\n",
              "      <th>dia</th>\n",
              "      <th>hora</th>\n",
              "      <th>minuto</th>\n",
              "      <th>segundo</th>\n",
              "    </tr>\n",
              "    <tr>\n",
              "      <th>id</th>\n",
              "      <th></th>\n",
              "      <th></th>\n",
              "      <th></th>\n",
              "      <th></th>\n",
              "      <th></th>\n",
              "      <th></th>\n",
              "      <th></th>\n",
              "      <th></th>\n",
              "      <th></th>\n",
              "      <th></th>\n",
              "      <th></th>\n",
              "      <th></th>\n",
              "      <th></th>\n",
              "      <th></th>\n",
              "      <th></th>\n",
              "      <th></th>\n",
              "      <th></th>\n",
              "      <th></th>\n",
              "      <th></th>\n",
              "      <th></th>\n",
              "      <th></th>\n",
              "      <th></th>\n",
              "      <th></th>\n",
              "    </tr>\n",
              "  </thead>\n",
              "  <tbody>\n",
              "    <tr>\n",
              "      <th>1</th>\n",
              "      <td>modelo_1</td>\n",
              "      <td>3</td>\n",
              "      <td>448.0</td>\n",
              "      <td>train</td>\n",
              "      <td>despejado</td>\n",
              "      <td>8.9</td>\n",
              "      <td>0.0</td>\n",
              "      <td>54.0</td>\n",
              "      <td>16.7</td>\n",
              "      <td>170</td>\n",
              "      <td>16.1</td>\n",
              "      <td>30.4</td>\n",
              "      <td>Nueva York</td>\n",
              "      <td>-73.950912</td>\n",
              "      <td>40.825974</td>\n",
              "      <td>-73.94474</td>\n",
              "      <td>40.814163</td>\n",
              "      <td>Bueno</td>\n",
              "      <td>0.876832</td>\n",
              "      <td>Thursday</td>\n",
              "      <td>20</td>\n",
              "      <td>53</td>\n",
              "      <td>0</td>\n",
              "    </tr>\n",
              "  </tbody>\n",
              "</table>\n",
              "</div>\n",
              "      <button class=\"colab-df-convert\" onclick=\"convertToInteractive('df-c6b5ce3f-5d74-4450-b8c1-91fa11dac026')\"\n",
              "              title=\"Convert this dataframe to an interactive table.\"\n",
              "              style=\"display:none;\">\n",
              "        \n",
              "  <svg xmlns=\"http://www.w3.org/2000/svg\" height=\"24px\"viewBox=\"0 0 24 24\"\n",
              "       width=\"24px\">\n",
              "    <path d=\"M0 0h24v24H0V0z\" fill=\"none\"/>\n",
              "    <path d=\"M18.56 5.44l.94 2.06.94-2.06 2.06-.94-2.06-.94-.94-2.06-.94 2.06-2.06.94zm-11 1L8.5 8.5l.94-2.06 2.06-.94-2.06-.94L8.5 2.5l-.94 2.06-2.06.94zm10 10l.94 2.06.94-2.06 2.06-.94-2.06-.94-.94-2.06-.94 2.06-2.06.94z\"/><path d=\"M17.41 7.96l-1.37-1.37c-.4-.4-.92-.59-1.43-.59-.52 0-1.04.2-1.43.59L10.3 9.45l-7.72 7.72c-.78.78-.78 2.05 0 2.83L4 21.41c.39.39.9.59 1.41.59.51 0 1.02-.2 1.41-.59l7.78-7.78 2.81-2.81c.8-.78.8-2.07 0-2.86zM5.41 20L4 18.59l7.72-7.72 1.47 1.35L5.41 20z\"/>\n",
              "  </svg>\n",
              "      </button>\n",
              "      \n",
              "  <style>\n",
              "    .colab-df-container {\n",
              "      display:flex;\n",
              "      flex-wrap:wrap;\n",
              "      gap: 12px;\n",
              "    }\n",
              "\n",
              "    .colab-df-convert {\n",
              "      background-color: #E8F0FE;\n",
              "      border: none;\n",
              "      border-radius: 50%;\n",
              "      cursor: pointer;\n",
              "      display: none;\n",
              "      fill: #1967D2;\n",
              "      height: 32px;\n",
              "      padding: 0 0 0 0;\n",
              "      width: 32px;\n",
              "    }\n",
              "\n",
              "    .colab-df-convert:hover {\n",
              "      background-color: #E2EBFA;\n",
              "      box-shadow: 0px 1px 2px rgba(60, 64, 67, 0.3), 0px 1px 3px 1px rgba(60, 64, 67, 0.15);\n",
              "      fill: #174EA6;\n",
              "    }\n",
              "\n",
              "    [theme=dark] .colab-df-convert {\n",
              "      background-color: #3B4455;\n",
              "      fill: #D2E3FC;\n",
              "    }\n",
              "\n",
              "    [theme=dark] .colab-df-convert:hover {\n",
              "      background-color: #434B5C;\n",
              "      box-shadow: 0px 1px 3px 1px rgba(0, 0, 0, 0.15);\n",
              "      filter: drop-shadow(0px 1px 2px rgba(0, 0, 0, 0.3));\n",
              "      fill: #FFFFFF;\n",
              "    }\n",
              "  </style>\n",
              "\n",
              "      <script>\n",
              "        const buttonEl =\n",
              "          document.querySelector('#df-c6b5ce3f-5d74-4450-b8c1-91fa11dac026 button.colab-df-convert');\n",
              "        buttonEl.style.display =\n",
              "          google.colab.kernel.accessAllowed ? 'block' : 'none';\n",
              "\n",
              "        async function convertToInteractive(key) {\n",
              "          const element = document.querySelector('#df-c6b5ce3f-5d74-4450-b8c1-91fa11dac026');\n",
              "          const dataTable =\n",
              "            await google.colab.kernel.invokeFunction('convertToInteractive',\n",
              "                                                     [key], {});\n",
              "          if (!dataTable) return;\n",
              "\n",
              "          const docLinkHtml = 'Like what you see? Visit the ' +\n",
              "            '<a target=\"_blank\" href=https://colab.research.google.com/notebooks/data_table.ipynb>data table notebook</a>'\n",
              "            + ' to learn more about interactive tables.';\n",
              "          element.innerHTML = '';\n",
              "          dataTable['output_type'] = 'display_data';\n",
              "          await google.colab.output.renderOutput(dataTable, element);\n",
              "          const docLink = document.createElement('div');\n",
              "          docLink.innerHTML = docLinkHtml;\n",
              "          element.appendChild(docLink);\n",
              "        }\n",
              "      </script>\n",
              "    </div>\n",
              "  </div>\n",
              "  "
            ]
          },
          "metadata": {},
          "execution_count": 385
        }
      ]
    },
    {
      "cell_type": "markdown",
      "source": [
        "#Modificacion de Outliers"
      ],
      "metadata": {
        "id": "BMQiPMmxok6g"
      }
    },
    {
      "cell_type": "code",
      "source": [
        "#Para identificar outliers\n",
        "fig,ax = plt.subplots(3,3,figsize=(16,9))\n",
        "sns.boxplot(data=data,y='num_paquetes',ax=ax[0,0])\n",
        "sns.boxplot(data=data,y='temperatura',ax=ax[0,1])\n",
        "sns.boxplot(data=data,y='temp_rocio',ax=ax[1,0])\n",
        "sns.boxplot(data=data,y='humedad',ax=ax[1,1])\n",
        "sns.boxplot(data=data,y='dir_viento',ax=ax[1,2])\n",
        "sns.boxplot(data=data,y='presion',ax=ax[0,2])\n",
        "sns.boxplot(data=data,y='vel_viento',ax=ax[2,1])\n",
        "sns.boxplot(data=data,y='visibilidad',ax=ax[2,2])"
      ],
      "metadata": {
        "id": "c1rsAQpWosOc",
        "colab": {
          "base_uri": "https://localhost:8080/",
          "height": 636
        },
        "outputId": "6ab571b5-52dc-487d-b5a3-29d2f8bb76f6"
      },
      "execution_count": null,
      "outputs": [
        {
          "output_type": "execute_result",
          "data": {
            "text/plain": [
              "<Axes: ylabel='visibilidad'>"
            ]
          },
          "metadata": {},
          "execution_count": 386
        },
        {
          "output_type": "display_data",
          "data": {
            "text/plain": [
              "<Figure size 1600x900 with 9 Axes>"
            ],
            "image/png": "[encoded data removed]"
          },
          "metadata": {}
        }
      ]
    },
    {
      "cell_type": "markdown",
      "source": [
        "En el anterior grafico podemos ver los Boxplot de las variables: numero de paquetes, temperatura, temp rocio, humedad, direccion del viento, presion, velocidad del viento y la visibilidad. Lo anterior con el fin de tener a grandes rasgos una idea de como de distirbuyen los datos en la base de datos utilizada en el desarrollo del modelo. "
      ],
      "metadata": {
        "id": "w9UG2kJhKij-"
      }
    },
    {
      "cell_type": "code",
      "source": [
        "#En este caso vamos a imputar la mediana a las columnas que tienen outliers\n",
        "columnas_outliers = [\"num_paquetes\",\"temperatura\",\"presion\",\"dir_viento\",\"vel_viento\",\"visibilidad\"]\n",
        "\n",
        "for columna in columnas_outliers:\n",
        "    q1 = data[columna].quantile(0.25)\n",
        "    q3 = data[columna].quantile(0.75)\n",
        "    iqr = q3-q1 \n",
        "    limite_arriba = q3 + 1.5*iqr\n",
        "    limite_abajo = q1 - 1.5*iqr\n",
        "    mediana = data[columna].median()\n",
        "    media = data[columna].mean()\n",
        "    data.loc[data[columna].abs() > limite_arriba,columna] = np.nan\n",
        "    data[columna].fillna(mediana, inplace=True)\n",
        "    data.loc[data[columna].abs() < limite_abajo,columna] = np.nan\n",
        "    data[columna].fillna(mediana, inplace=True) "
      ],
      "metadata": {
        "id": "eKoenP3SdZDd"
      },
      "execution_count": null,
      "outputs": []
    },
    {
      "cell_type": "code",
      "source": [
        "fig,ax = plt.subplots(3,3,figsize=(16,9))\n",
        "sns.boxplot(data=data,y='num_paquetes',ax=ax[0,0])\n",
        "sns.boxplot(data=data,y='temperatura',ax=ax[0,1])\n",
        "sns.boxplot(data=data,y='temp_rocio',ax=ax[1,0])\n",
        "sns.boxplot(data=data,y='humedad',ax=ax[1,1])\n",
        "sns.boxplot(data=data,y='dir_viento',ax=ax[1,2])\n",
        "sns.boxplot(data=data,y='presion',ax=ax[0,2])\n",
        "sns.boxplot(data=data,y='vel_viento',ax=ax[2,1])\n",
        "sns.boxplot(data=data,y='visibilidad',ax=ax[2,2])"
      ],
      "metadata": {
        "id": "OTS2wZjSh7aK",
        "colab": {
          "base_uri": "https://localhost:8080/",
          "height": 636
        },
        "outputId": "f7757f57-69a1-481f-c6b9-aa9ae0403d02"
      },
      "execution_count": null,
      "outputs": [
        {
          "output_type": "execute_result",
          "data": {
            "text/plain": [
              "<Axes: ylabel='visibilidad'>"
            ]
          },
          "metadata": {},
          "execution_count": 388
        },
        {
          "output_type": "display_data",
          "data": {
            "text/plain": [
              "<Figure size 1600x900 with 9 Axes>"
            ],
            "image/png": "[encoded data removed]"
          },
          "metadata": {}
        }
      ]
    },
    {
      "cell_type": "markdown",
      "source": [
        "# Valores nulos"
      ],
      "metadata": {
        "id": "C848-WGNibOE"
      }
    },
    {
      "cell_type": "markdown",
      "source": [
        "Para este punto se identifican los valores \"Nulos\" que se encuentran en el Dataset esto con el fin de tener una mejor precisión en el resultado y oara evitar cualquier afectacion en la ejecucion de los modelos. "
      ],
      "metadata": {
        "id": "Y404elf1MA8w"
      }
    },
    {
      "cell_type": "code",
      "source": [
        "#Buscar los valores cero dentro del Dataset\n",
        "data.isna().sum()"
      ],
      "metadata": {
        "id": "2HKn31KQwl0-",
        "colab": {
          "base_uri": "https://localhost:8080/"
        },
        "outputId": "f77fff12-2ee9-42ec-e58e-47a8e5c7a09b"
      },
      "execution_count": null,
      "outputs": [
        {
          "output_type": "execute_result",
          "data": {
            "text/plain": [
              "modelo_camioneta        0\n",
              "num_paquetes            0\n",
              "tiempo_entrega       1274\n",
              "dataset                 0\n",
              "condiciones_clima       0\n",
              "temperatura             0\n",
              "temp_rocio              2\n",
              "humedad                 2\n",
              "vel_viento              0\n",
              "dir_viento              0\n",
              "visibilidad             0\n",
              "presion                 0\n",
              "ciudad                  0\n",
              "longitud_inicio         0\n",
              "latitud_inicio          0\n",
              "longitud_final          0\n",
              "latitud_final           0\n",
              "clima                   0\n",
              "distance                0\n",
              "dia                     0\n",
              "hora                    0\n",
              "minuto                  0\n",
              "segundo                 0\n",
              "dtype: int64"
            ]
          },
          "metadata": {},
          "execution_count": 389
        }
      ]
    },
    {
      "cell_type": "code",
      "source": [
        "#Para ver la distribucion de las variables y poderles modificar apropiadamente los valores 0. Para temperatura, humedad y temp_rocio se les \n",
        "#remplazaran los valores cero con la mediana \n",
        "fig,ax = plt.subplots(2,2,figsize=(9,7))\n",
        "sns.histplot(data=data,y='vel_viento',ax=ax[0,0])\n",
        "sns.histplot(data=data,y='visibilidad',ax=ax[0,1])\n",
        "sns.histplot(data=data,y='presion',ax=ax[1,0])"
      ],
      "metadata": {
        "id": "7SMKhoHCcMzG",
        "colab": {
          "base_uri": "https://localhost:8080/",
          "height": 677
        },
        "outputId": "dc48b717-5da9-49c2-df04-e0092fd82ccc"
      },
      "execution_count": null,
      "outputs": [
        {
          "output_type": "execute_result",
          "data": {
            "text/plain": [
              "<Axes: xlabel='Count', ylabel='presion'>"
            ]
          },
          "metadata": {},
          "execution_count": 390
        },
        {
          "output_type": "display_data",
          "data": {
            "text/plain": [
              "<Figure size 900x700 with 4 Axes>"
            ],
            "image/png": "[encoded data removed]"
          },
          "metadata": {}
        }
      ]
    },
    {
      "cell_type": "markdown",
      "source": [
        "En el aterior grafico podemos ver como las variables que tenian presencia valores nulos fueron reemplazados por la mediana de cada columna."
      ],
      "metadata": {
        "id": "4X8Yx2HBMt8R"
      }
    },
    {
      "cell_type": "code",
      "source": [
        "data.loc[data.humedad.isna(),\"humedad\"]=data.loc[~data.humedad.isna(),\"humedad\"].median()\n",
        "data.loc[data.temp_rocio.isna(),\"temp_rocio\"]=data.loc[~data.humedad.isna(),\"temp_rocio\"].median()\n",
        "data.loc[data.temp_rocio.isna(),\"temperatura\"]=data.loc[~data.humedad.isna(),\"temperatura\"].median()\n",
        "data.isna().sum()"
      ],
      "metadata": {
        "id": "PcY7cjoLQpv-",
        "colab": {
          "base_uri": "https://localhost:8080/"
        },
        "outputId": "135f6e18-f17e-4afd-cfe2-2d2ed4d51d6c"
      },
      "execution_count": null,
      "outputs": [
        {
          "output_type": "execute_result",
          "data": {
            "text/plain": [
              "modelo_camioneta        0\n",
              "num_paquetes            0\n",
              "tiempo_entrega       1274\n",
              "dataset                 0\n",
              "condiciones_clima       0\n",
              "temperatura             0\n",
              "temp_rocio              0\n",
              "humedad                 0\n",
              "vel_viento              0\n",
              "dir_viento              0\n",
              "visibilidad             0\n",
              "presion                 0\n",
              "ciudad                  0\n",
              "longitud_inicio         0\n",
              "latitud_inicio          0\n",
              "longitud_final          0\n",
              "latitud_final           0\n",
              "clima                   0\n",
              "distance                0\n",
              "dia                     0\n",
              "hora                    0\n",
              "minuto                  0\n",
              "segundo                 0\n",
              "dtype: int64"
            ]
          },
          "metadata": {},
          "execution_count": 391
        }
      ]
    },
    {
      "cell_type": "markdown",
      "source": [
        "# Transformacion de variables categoricas"
      ],
      "metadata": {
        "id": "y4RW_NCqjjWl"
      }
    },
    {
      "cell_type": "markdown",
      "source": [
        "Para la transformación de las variables categoricas se decidio utilizar el metodo Cramer siendo esta una técnica de transformación de variables categóricas en numéricas con el fin de poder utilizar las variables modelo de camioneta, la condicion del clima, la ciudad y el clima. Para realizar lo anterior se aplico el respectivo codigo que ejecuta la creación de nuevas variables numéricas que representan la variable original. "
      ],
      "metadata": {
        "id": "8AIQXSJpNuWf"
      }
    },
    {
      "cell_type": "code",
      "source": [
        "import scipy.stats as ss\n",
        "\n",
        "def cramers_v(x, y):\n",
        "    confusion_matrix = pd.crosstab(x,y)\n",
        "    chi2 = ss.chi2_contingency(confusion_matrix)[0]\n",
        "    n = confusion_matrix.sum().sum()\n",
        "    phi2 = chi2/n\n",
        "    r,k = confusion_matrix.shape\n",
        "    phi2corr = max(0, phi2-((k-1)*(r-1))/(n-1))\n",
        "    rcorr = r-((r-1)**2)/(n-1)\n",
        "    kcorr = k-((k-1)**2)/(n-1)\n",
        "    return np.sqrt(phi2corr/min((kcorr-1),(rcorr-1)))\n",
        "\n",
        "def cramersv_dataframe_target(dataframe,nameTarget):\n",
        "    df = pd.DataFrame(columns=['v_cramer'],index=dataframe.columns.tolist())\n",
        "    for col in dataframe.columns.tolist():\n",
        "        print('V de Cramer para {}: '.format(col) + format(round(cramers_v(dataframe[col],dataframe[nameTarget]),3)))\n",
        "        df.loc[col,'v_cramer'] = round(cramers_v(dataframe[col],dataframe[nameTarget]),3)\n",
        "    return df"
      ],
      "metadata": {
        "id": "TkKHVSTxUudy"
      },
      "execution_count": null,
      "outputs": []
    },
    {
      "cell_type": "code",
      "source": [
        "def cramersv_dataframe(dataframe):\n",
        "    df = pd.DataFrame(columns=dataframe.columns.tolist(),index=dataframe.columns.tolist())\n",
        "    for index in dataframe.columns.tolist():\n",
        "        for columna in dataframe.columns.tolist():\n",
        "            df.loc[index,columna] = round(cramers_v(dataframe[index],dataframe[columna]),3)\n",
        "    return df\n",
        "        \n",
        "lista_var_cat = []\n",
        "for columna in data.columns:\n",
        "    if data[columna].dtypes=='O':\n",
        "        lista_var_cat.append(columna)"
      ],
      "metadata": {
        "id": "My385gKxdtsv"
      },
      "execution_count": null,
      "outputs": []
    },
    {
      "cell_type": "code",
      "source": [
        "cramer_df = cramersv_dataframe(data.loc[:,lista_var_cat])\n",
        "cramer_df"
      ],
      "metadata": {
        "id": "q_EFW3Qwd1EJ",
        "colab": {
          "base_uri": "https://localhost:8080/",
          "height": 518
        },
        "outputId": "2b81a25e-12ed-40ad-fbb2-ef91ba72e4f4"
      },
      "execution_count": null,
      "outputs": [
        {
          "output_type": "stream",
          "name": "stderr",
          "text": [
            "<ipython-input-392-74d58ecd1976>:12: RuntimeWarning: invalid value encountered in double_scalars\n",
            "  return np.sqrt(phi2corr/min((kcorr-1),(rcorr-1)))\n",
            "<ipython-input-392-74d58ecd1976>:12: RuntimeWarning: invalid value encountered in double_scalars\n",
            "  return np.sqrt(phi2corr/min((kcorr-1),(rcorr-1)))\n",
            "<ipython-input-392-74d58ecd1976>:12: RuntimeWarning: invalid value encountered in double_scalars\n",
            "  return np.sqrt(phi2corr/min((kcorr-1),(rcorr-1)))\n",
            "<ipython-input-392-74d58ecd1976>:12: RuntimeWarning: invalid value encountered in double_scalars\n",
            "  return np.sqrt(phi2corr/min((kcorr-1),(rcorr-1)))\n",
            "<ipython-input-392-74d58ecd1976>:12: RuntimeWarning: invalid value encountered in double_scalars\n",
            "  return np.sqrt(phi2corr/min((kcorr-1),(rcorr-1)))\n",
            "<ipython-input-392-74d58ecd1976>:12: RuntimeWarning: invalid value encountered in double_scalars\n",
            "  return np.sqrt(phi2corr/min((kcorr-1),(rcorr-1)))\n",
            "<ipython-input-392-74d58ecd1976>:12: RuntimeWarning: invalid value encountered in double_scalars\n",
            "  return np.sqrt(phi2corr/min((kcorr-1),(rcorr-1)))\n",
            "<ipython-input-392-74d58ecd1976>:12: RuntimeWarning: invalid value encountered in double_scalars\n",
            "  return np.sqrt(phi2corr/min((kcorr-1),(rcorr-1)))\n",
            "<ipython-input-392-74d58ecd1976>:12: RuntimeWarning: invalid value encountered in double_scalars\n",
            "  return np.sqrt(phi2corr/min((kcorr-1),(rcorr-1)))\n"
          ]
        },
        {
          "output_type": "execute_result",
          "data": {
            "text/plain": [
              "                  modelo_camioneta dataset condiciones_clima ciudad  clima\n",
              "modelo_camioneta               1.0     0.0             0.025    NaN    0.0\n",
              "dataset                        0.0     1.0               0.0    NaN    0.0\n",
              "condiciones_clima            0.025     0.0               1.0    NaN  0.649\n",
              "ciudad                         NaN     NaN               NaN    NaN    NaN\n",
              "clima                          0.0     0.0             0.649    NaN    1.0"
            ],
            "text/html": [
              "\n",
              "  <div id=\"df-2e0bdaa3-e552-427b-95b4-9ec6a02dfa8c\">\n",
              "    <div class=\"colab-df-container\">\n",
              "      <div>\n",
              "<style scoped>\n",
              "    .dataframe tbody tr th:only-of-type {\n",
              "        vertical-align: middle;\n",
              "    }\n",
              "\n",
              "    .dataframe tbody tr th {\n",
              "        vertical-align: top;\n",
              "    }\n",
              "\n",
              "    .dataframe thead th {\n",
              "        text-align: right;\n",
              "    }\n",
              "</style>\n",
              "<table border=\"1\" class=\"dataframe\">\n",
              "  <thead>\n",
              "    <tr style=\"text-align: right;\">\n",
              "      <th></th>\n",
              "      <th>modelo_camioneta</th>\n",
              "      <th>dataset</th>\n",
              "      <th>condiciones_clima</th>\n",
              "      <th>ciudad</th>\n",
              "      <th>clima</th>\n",
              "    </tr>\n",
              "  </thead>\n",
              "  <tbody>\n",
              "    <tr>\n",
              "      <th>modelo_camioneta</th>\n",
              "      <td>1.0</td>\n",
              "      <td>0.0</td>\n",
              "      <td>0.025</td>\n",
              "      <td>NaN</td>\n",
              "      <td>0.0</td>\n",
              "    </tr>\n",
              "    <tr>\n",
              "      <th>dataset</th>\n",
              "      <td>0.0</td>\n",
              "      <td>1.0</td>\n",
              "      <td>0.0</td>\n",
              "      <td>NaN</td>\n",
              "      <td>0.0</td>\n",
              "    </tr>\n",
              "    <tr>\n",
              "      <th>condiciones_clima</th>\n",
              "      <td>0.025</td>\n",
              "      <td>0.0</td>\n",
              "      <td>1.0</td>\n",
              "      <td>NaN</td>\n",
              "      <td>0.649</td>\n",
              "    </tr>\n",
              "    <tr>\n",
              "      <th>ciudad</th>\n",
              "      <td>NaN</td>\n",
              "      <td>NaN</td>\n",
              "      <td>NaN</td>\n",
              "      <td>NaN</td>\n",
              "      <td>NaN</td>\n",
              "    </tr>\n",
              "    <tr>\n",
              "      <th>clima</th>\n",
              "      <td>0.0</td>\n",
              "      <td>0.0</td>\n",
              "      <td>0.649</td>\n",
              "      <td>NaN</td>\n",
              "      <td>1.0</td>\n",
              "    </tr>\n",
              "  </tbody>\n",
              "</table>\n",
              "</div>\n",
              "      <button class=\"colab-df-convert\" onclick=\"convertToInteractive('df-2e0bdaa3-e552-427b-95b4-9ec6a02dfa8c')\"\n",
              "              title=\"Convert this dataframe to an interactive table.\"\n",
              "              style=\"display:none;\">\n",
              "        \n",
              "  <svg xmlns=\"http://www.w3.org/2000/svg\" height=\"24px\"viewBox=\"0 0 24 24\"\n",
              "       width=\"24px\">\n",
              "    <path d=\"M0 0h24v24H0V0z\" fill=\"none\"/>\n",
              "    <path d=\"M18.56 5.44l.94 2.06.94-2.06 2.06-.94-2.06-.94-.94-2.06-.94 2.06-2.06.94zm-11 1L8.5 8.5l.94-2.06 2.06-.94-2.06-.94L8.5 2.5l-.94 2.06-2.06.94zm10 10l.94 2.06.94-2.06 2.06-.94-2.06-.94-.94-2.06-.94 2.06-2.06.94z\"/><path d=\"M17.41 7.96l-1.37-1.37c-.4-.4-.92-.59-1.43-.59-.52 0-1.04.2-1.43.59L10.3 9.45l-7.72 7.72c-.78.78-.78 2.05 0 2.83L4 21.41c.39.39.9.59 1.41.59.51 0 1.02-.2 1.41-.59l7.78-7.78 2.81-2.81c.8-.78.8-2.07 0-2.86zM5.41 20L4 18.59l7.72-7.72 1.47 1.35L5.41 20z\"/>\n",
              "  </svg>\n",
              "      </button>\n",
              "      \n",
              "  <style>\n",
              "    .colab-df-container {\n",
              "      display:flex;\n",
              "      flex-wrap:wrap;\n",
              "      gap: 12px;\n",
              "    }\n",
              "\n",
              "    .colab-df-convert {\n",
              "      background-color: #E8F0FE;\n",
              "      border: none;\n",
              "      border-radius: 50%;\n",
              "      cursor: pointer;\n",
              "      display: none;\n",
              "      fill: #1967D2;\n",
              "      height: 32px;\n",
              "      padding: 0 0 0 0;\n",
              "      width: 32px;\n",
              "    }\n",
              "\n",
              "    .colab-df-convert:hover {\n",
              "      background-color: #E2EBFA;\n",
              "      box-shadow: 0px 1px 2px rgba(60, 64, 67, 0.3), 0px 1px 3px 1px rgba(60, 64, 67, 0.15);\n",
              "      fill: #174EA6;\n",
              "    }\n",
              "\n",
              "    [theme=dark] .colab-df-convert {\n",
              "      background-color: #3B4455;\n",
              "      fill: #D2E3FC;\n",
              "    }\n",
              "\n",
              "    [theme=dark] .colab-df-convert:hover {\n",
              "      background-color: #434B5C;\n",
              "      box-shadow: 0px 1px 3px 1px rgba(0, 0, 0, 0.15);\n",
              "      filter: drop-shadow(0px 1px 2px rgba(0, 0, 0, 0.3));\n",
              "      fill: #FFFFFF;\n",
              "    }\n",
              "  </style>\n",
              "\n",
              "      <script>\n",
              "        const buttonEl =\n",
              "          document.querySelector('#df-2e0bdaa3-e552-427b-95b4-9ec6a02dfa8c button.colab-df-convert');\n",
              "        buttonEl.style.display =\n",
              "          google.colab.kernel.accessAllowed ? 'block' : 'none';\n",
              "\n",
              "        async function convertToInteractive(key) {\n",
              "          const element = document.querySelector('#df-2e0bdaa3-e552-427b-95b4-9ec6a02dfa8c');\n",
              "          const dataTable =\n",
              "            await google.colab.kernel.invokeFunction('convertToInteractive',\n",
              "                                                     [key], {});\n",
              "          if (!dataTable) return;\n",
              "\n",
              "          const docLinkHtml = 'Like what you see? Visit the ' +\n",
              "            '<a target=\"_blank\" href=https://colab.research.google.com/notebooks/data_table.ipynb>data table notebook</a>'\n",
              "            + ' to learn more about interactive tables.';\n",
              "          element.innerHTML = '';\n",
              "          dataTable['output_type'] = 'display_data';\n",
              "          await google.colab.output.renderOutput(dataTable, element);\n",
              "          const docLink = document.createElement('div');\n",
              "          docLink.innerHTML = docLinkHtml;\n",
              "          element.appendChild(docLink);\n",
              "        }\n",
              "      </script>\n",
              "    </div>\n",
              "  </div>\n",
              "  "
            ]
          },
          "metadata": {},
          "execution_count": 394
        }
      ]
    },
    {
      "cell_type": "markdown",
      "source": [
        "# Insight #3"
      ],
      "metadata": {
        "id": "XXidmpp4K0Dq"
      }
    },
    {
      "cell_type": "markdown",
      "source": [
        "Cramer nos permite ver la correlacion entre variables categoricas. Y en este caso se puede ver una fuerte relacion entre clima y condiciones_clima, lo cual es predecible. Y tambien se ve una relacion entre condiciones_clima y el modelo_camioneta"
      ],
      "metadata": {
        "id": "vzDJfyD-K4iH"
      }
    },
    {
      "cell_type": "code",
      "source": [
        "data['ciudad'].value_counts()"
      ],
      "metadata": {
        "id": "1QDjO8icd15o",
        "colab": {
          "base_uri": "https://localhost:8080/"
        },
        "outputId": "0332947a-f524-4040-8a56-6d5411bdacae"
      },
      "execution_count": null,
      "outputs": [
        {
          "output_type": "execute_result",
          "data": {
            "text/plain": [
              "Nueva York    8494\n",
              "Name: ciudad, dtype: int64"
            ]
          },
          "metadata": {},
          "execution_count": 395
        }
      ]
    },
    {
      "cell_type": "markdown",
      "source": [
        "Ya que en Ciudad todos los datos son Nueva York se elimina la variable. Las variables de longitud y latitud tambien se van  a quitar dado que han sido transformadas. Asi mismo la variable condiciones_clima tambien se eliminara ya que ha sido transformada "
      ],
      "metadata": {
        "id": "-c9ApnYnOrpM"
      }
    },
    {
      "cell_type": "code",
      "source": [
        "\n",
        "col_eliminar = [\"ciudad\",\"longitud_inicio\",\"latitud_inicio\",\"longitud_final\",\"latitud_inicio\",\"condiciones_clima\"]\n",
        "data= data.loc[:,~data.columns.isin(col_eliminar)]\n",
        "data.head(3)"
      ],
      "metadata": {
        "id": "s-4_MKb1n19F",
        "colab": {
          "base_uri": "https://localhost:8080/",
          "height": 238
        },
        "outputId": "92b6db41-561c-4df6-b421-0f36fc3a0356"
      },
      "execution_count": null,
      "outputs": [
        {
          "output_type": "execute_result",
          "data": {
            "text/plain": [
              "   modelo_camioneta  num_paquetes  tiempo_entrega dataset  temperatura  \\\n",
              "id                                                                       \n",
              "1          modelo_1           3.0           448.0   train          8.9   \n",
              "2          modelo_2           1.0           784.0   train         22.8   \n",
              "3          modelo_2           1.0           844.0   train          0.0   \n",
              "\n",
              "    temp_rocio  humedad  vel_viento  dir_viento  visibilidad  presion  \\\n",
              "id                                                                      \n",
              "1          0.0     54.0        16.7       170.0         16.1     30.4   \n",
              "2         18.9     79.0         9.3         0.0         16.1     30.0   \n",
              "3        -15.6     31.0         9.3       250.0         16.1     30.2   \n",
              "\n",
              "    latitud_final  clima  distance       dia  hora  minuto  segundo  \n",
              "id                                                                   \n",
              "1       40.814163  Bueno  0.876832  Thursday    20      53        0  \n",
              "2       40.786232  Bueno  2.879407    Monday    23      12        0  \n",
              "3       40.726639  Bueno  2.473356  Thursday    11      54        0  "
            ],
            "text/html": [
              "\n",
              "  <div id=\"df-fe1310c5-ed49-4208-91ea-28c538146aa4\">\n",
              "    <div class=\"colab-df-container\">\n",
              "      <div>\n",
              "<style scoped>\n",
              "    .dataframe tbody tr th:only-of-type {\n",
              "        vertical-align: middle;\n",
              "    }\n",
              "\n",
              "    .dataframe tbody tr th {\n",
              "        vertical-align: top;\n",
              "    }\n",
              "\n",
              "    .dataframe thead th {\n",
              "        text-align: right;\n",
              "    }\n",
              "</style>\n",
              "<table border=\"1\" class=\"dataframe\">\n",
              "  <thead>\n",
              "    <tr style=\"text-align: right;\">\n",
              "      <th></th>\n",
              "      <th>modelo_camioneta</th>\n",
              "      <th>num_paquetes</th>\n",
              "      <th>tiempo_entrega</th>\n",
              "      <th>dataset</th>\n",
              "      <th>temperatura</th>\n",
              "      <th>temp_rocio</th>\n",
              "      <th>humedad</th>\n",
              "      <th>vel_viento</th>\n",
              "      <th>dir_viento</th>\n",
              "      <th>visibilidad</th>\n",
              "      <th>presion</th>\n",
              "      <th>latitud_final</th>\n",
              "      <th>clima</th>\n",
              "      <th>distance</th>\n",
              "      <th>dia</th>\n",
              "      <th>hora</th>\n",
              "      <th>minuto</th>\n",
              "      <th>segundo</th>\n",
              "    </tr>\n",
              "    <tr>\n",
              "      <th>id</th>\n",
              "      <th></th>\n",
              "      <th></th>\n",
              "      <th></th>\n",
              "      <th></th>\n",
              "      <th></th>\n",
              "      <th></th>\n",
              "      <th></th>\n",
              "      <th></th>\n",
              "      <th></th>\n",
              "      <th></th>\n",
              "      <th></th>\n",
              "      <th></th>\n",
              "      <th></th>\n",
              "      <th></th>\n",
              "      <th></th>\n",
              "      <th></th>\n",
              "      <th></th>\n",
              "      <th></th>\n",
              "    </tr>\n",
              "  </thead>\n",
              "  <tbody>\n",
              "    <tr>\n",
              "      <th>1</th>\n",
              "      <td>modelo_1</td>\n",
              "      <td>3.0</td>\n",
              "      <td>448.0</td>\n",
              "      <td>train</td>\n",
              "      <td>8.9</td>\n",
              "      <td>0.0</td>\n",
              "      <td>54.0</td>\n",
              "      <td>16.7</td>\n",
              "      <td>170.0</td>\n",
              "      <td>16.1</td>\n",
              "      <td>30.4</td>\n",
              "      <td>40.814163</td>\n",
              "      <td>Bueno</td>\n",
              "      <td>0.876832</td>\n",
              "      <td>Thursday</td>\n",
              "      <td>20</td>\n",
              "      <td>53</td>\n",
              "      <td>0</td>\n",
              "    </tr>\n",
              "    <tr>\n",
              "      <th>2</th>\n",
              "      <td>modelo_2</td>\n",
              "      <td>1.0</td>\n",
              "      <td>784.0</td>\n",
              "      <td>train</td>\n",
              "      <td>22.8</td>\n",
              "      <td>18.9</td>\n",
              "      <td>79.0</td>\n",
              "      <td>9.3</td>\n",
              "      <td>0.0</td>\n",
              "      <td>16.1</td>\n",
              "      <td>30.0</td>\n",
              "      <td>40.786232</td>\n",
              "      <td>Bueno</td>\n",
              "      <td>2.879407</td>\n",
              "      <td>Monday</td>\n",
              "      <td>23</td>\n",
              "      <td>12</td>\n",
              "      <td>0</td>\n",
              "    </tr>\n",
              "    <tr>\n",
              "      <th>3</th>\n",
              "      <td>modelo_2</td>\n",
              "      <td>1.0</td>\n",
              "      <td>844.0</td>\n",
              "      <td>train</td>\n",
              "      <td>0.0</td>\n",
              "      <td>-15.6</td>\n",
              "      <td>31.0</td>\n",
              "      <td>9.3</td>\n",
              "      <td>250.0</td>\n",
              "      <td>16.1</td>\n",
              "      <td>30.2</td>\n",
              "      <td>40.726639</td>\n",
              "      <td>Bueno</td>\n",
              "      <td>2.473356</td>\n",
              "      <td>Thursday</td>\n",
              "      <td>11</td>\n",
              "      <td>54</td>\n",
              "      <td>0</td>\n",
              "    </tr>\n",
              "  </tbody>\n",
              "</table>\n",
              "</div>\n",
              "      <button class=\"colab-df-convert\" onclick=\"convertToInteractive('df-fe1310c5-ed49-4208-91ea-28c538146aa4')\"\n",
              "              title=\"Convert this dataframe to an interactive table.\"\n",
              "              style=\"display:none;\">\n",
              "        \n",
              "  <svg xmlns=\"http://www.w3.org/2000/svg\" height=\"24px\"viewBox=\"0 0 24 24\"\n",
              "       width=\"24px\">\n",
              "    <path d=\"M0 0h24v24H0V0z\" fill=\"none\"/>\n",
              "    <path d=\"M18.56 5.44l.94 2.06.94-2.06 2.06-.94-2.06-.94-.94-2.06-.94 2.06-2.06.94zm-11 1L8.5 8.5l.94-2.06 2.06-.94-2.06-.94L8.5 2.5l-.94 2.06-2.06.94zm10 10l.94 2.06.94-2.06 2.06-.94-2.06-.94-.94-2.06-.94 2.06-2.06.94z\"/><path d=\"M17.41 7.96l-1.37-1.37c-.4-.4-.92-.59-1.43-.59-.52 0-1.04.2-1.43.59L10.3 9.45l-7.72 7.72c-.78.78-.78 2.05 0 2.83L4 21.41c.39.39.9.59 1.41.59.51 0 1.02-.2 1.41-.59l7.78-7.78 2.81-2.81c.8-.78.8-2.07 0-2.86zM5.41 20L4 18.59l7.72-7.72 1.47 1.35L5.41 20z\"/>\n",
              "  </svg>\n",
              "      </button>\n",
              "      \n",
              "  <style>\n",
              "    .colab-df-container {\n",
              "      display:flex;\n",
              "      flex-wrap:wrap;\n",
              "      gap: 12px;\n",
              "    }\n",
              "\n",
              "    .colab-df-convert {\n",
              "      background-color: #E8F0FE;\n",
              "      border: none;\n",
              "      border-radius: 50%;\n",
              "      cursor: pointer;\n",
              "      display: none;\n",
              "      fill: #1967D2;\n",
              "      height: 32px;\n",
              "      padding: 0 0 0 0;\n",
              "      width: 32px;\n",
              "    }\n",
              "\n",
              "    .colab-df-convert:hover {\n",
              "      background-color: #E2EBFA;\n",
              "      box-shadow: 0px 1px 2px rgba(60, 64, 67, 0.3), 0px 1px 3px 1px rgba(60, 64, 67, 0.15);\n",
              "      fill: #174EA6;\n",
              "    }\n",
              "\n",
              "    [theme=dark] .colab-df-convert {\n",
              "      background-color: #3B4455;\n",
              "      fill: #D2E3FC;\n",
              "    }\n",
              "\n",
              "    [theme=dark] .colab-df-convert:hover {\n",
              "      background-color: #434B5C;\n",
              "      box-shadow: 0px 1px 3px 1px rgba(0, 0, 0, 0.15);\n",
              "      filter: drop-shadow(0px 1px 2px rgba(0, 0, 0, 0.3));\n",
              "      fill: #FFFFFF;\n",
              "    }\n",
              "  </style>\n",
              "\n",
              "      <script>\n",
              "        const buttonEl =\n",
              "          document.querySelector('#df-fe1310c5-ed49-4208-91ea-28c538146aa4 button.colab-df-convert');\n",
              "        buttonEl.style.display =\n",
              "          google.colab.kernel.accessAllowed ? 'block' : 'none';\n",
              "\n",
              "        async function convertToInteractive(key) {\n",
              "          const element = document.querySelector('#df-fe1310c5-ed49-4208-91ea-28c538146aa4');\n",
              "          const dataTable =\n",
              "            await google.colab.kernel.invokeFunction('convertToInteractive',\n",
              "                                                     [key], {});\n",
              "          if (!dataTable) return;\n",
              "\n",
              "          const docLinkHtml = 'Like what you see? Visit the ' +\n",
              "            '<a target=\"_blank\" href=https://colab.research.google.com/notebooks/data_table.ipynb>data table notebook</a>'\n",
              "            + ' to learn more about interactive tables.';\n",
              "          element.innerHTML = '';\n",
              "          dataTable['output_type'] = 'display_data';\n",
              "          await google.colab.output.renderOutput(dataTable, element);\n",
              "          const docLink = document.createElement('div');\n",
              "          docLink.innerHTML = docLinkHtml;\n",
              "          element.appendChild(docLink);\n",
              "        }\n",
              "      </script>\n",
              "    </div>\n",
              "  </div>\n",
              "  "
            ]
          },
          "metadata": {},
          "execution_count": 396
        }
      ]
    },
    {
      "cell_type": "markdown",
      "source": [
        "En este punto se puede observas que estas variables categoricas como no tienen jerarquia se transforman en numeros\n"
      ],
      "metadata": {
        "id": "L4m5e6qjY8lK"
      }
    },
    {
      "cell_type": "code",
      "source": [
        "le = LabelEncoder()\n",
        "data['modelo_camioneta'] = le.fit_transform(data['modelo_camioneta'])\n",
        "data['dia'] = le.fit_transform(data['dia'])\n",
        "#data['festivo'] = le.fit_transform(data['festivo'])\n",
        "data.head(1)"
      ],
      "metadata": {
        "id": "K7oPkuqCoOtZ",
        "colab": {
          "base_uri": "https://localhost:8080/",
          "height": 176
        },
        "outputId": "517833b6-ac44-449f-f181-ad67c80265cd"
      },
      "execution_count": null,
      "outputs": [
        {
          "output_type": "execute_result",
          "data": {
            "text/plain": [
              "    modelo_camioneta  num_paquetes  tiempo_entrega dataset  temperatura  \\\n",
              "id                                                                        \n",
              "1                  0           3.0           448.0   train          8.9   \n",
              "\n",
              "    temp_rocio  humedad  vel_viento  dir_viento  visibilidad  presion  \\\n",
              "id                                                                      \n",
              "1          0.0     54.0        16.7       170.0         16.1     30.4   \n",
              "\n",
              "    latitud_final  clima  distance  dia  hora  minuto  segundo  \n",
              "id                                                              \n",
              "1       40.814163  Bueno  0.876832    4    20      53        0  "
            ],
            "text/html": [
              "\n",
              "  <div id=\"df-0b877245-176a-462f-973e-b5ccf17d892d\">\n",
              "    <div class=\"colab-df-container\">\n",
              "      <div>\n",
              "<style scoped>\n",
              "    .dataframe tbody tr th:only-of-type {\n",
              "        vertical-align: middle;\n",
              "    }\n",
              "\n",
              "    .dataframe tbody tr th {\n",
              "        vertical-align: top;\n",
              "    }\n",
              "\n",
              "    .dataframe thead th {\n",
              "        text-align: right;\n",
              "    }\n",
              "</style>\n",
              "<table border=\"1\" class=\"dataframe\">\n",
              "  <thead>\n",
              "    <tr style=\"text-align: right;\">\n",
              "      <th></th>\n",
              "      <th>modelo_camioneta</th>\n",
              "      <th>num_paquetes</th>\n",
              "      <th>tiempo_entrega</th>\n",
              "      <th>dataset</th>\n",
              "      <th>temperatura</th>\n",
              "      <th>temp_rocio</th>\n",
              "      <th>humedad</th>\n",
              "      <th>vel_viento</th>\n",
              "      <th>dir_viento</th>\n",
              "      <th>visibilidad</th>\n",
              "      <th>presion</th>\n",
              "      <th>latitud_final</th>\n",
              "      <th>clima</th>\n",
              "      <th>distance</th>\n",
              "      <th>dia</th>\n",
              "      <th>hora</th>\n",
              "      <th>minuto</th>\n",
              "      <th>segundo</th>\n",
              "    </tr>\n",
              "    <tr>\n",
              "      <th>id</th>\n",
              "      <th></th>\n",
              "      <th></th>\n",
              "      <th></th>\n",
              "      <th></th>\n",
              "      <th></th>\n",
              "      <th></th>\n",
              "      <th></th>\n",
              "      <th></th>\n",
              "      <th></th>\n",
              "      <th></th>\n",
              "      <th></th>\n",
              "      <th></th>\n",
              "      <th></th>\n",
              "      <th></th>\n",
              "      <th></th>\n",
              "      <th></th>\n",
              "      <th></th>\n",
              "      <th></th>\n",
              "    </tr>\n",
              "  </thead>\n",
              "  <tbody>\n",
              "    <tr>\n",
              "      <th>1</th>\n",
              "      <td>0</td>\n",
              "      <td>3.0</td>\n",
              "      <td>448.0</td>\n",
              "      <td>train</td>\n",
              "      <td>8.9</td>\n",
              "      <td>0.0</td>\n",
              "      <td>54.0</td>\n",
              "      <td>16.7</td>\n",
              "      <td>170.0</td>\n",
              "      <td>16.1</td>\n",
              "      <td>30.4</td>\n",
              "      <td>40.814163</td>\n",
              "      <td>Bueno</td>\n",
              "      <td>0.876832</td>\n",
              "      <td>4</td>\n",
              "      <td>20</td>\n",
              "      <td>53</td>\n",
              "      <td>0</td>\n",
              "    </tr>\n",
              "  </tbody>\n",
              "</table>\n",
              "</div>\n",
              "      <button class=\"colab-df-convert\" onclick=\"convertToInteractive('df-0b877245-176a-462f-973e-b5ccf17d892d')\"\n",
              "              title=\"Convert this dataframe to an interactive table.\"\n",
              "              style=\"display:none;\">\n",
              "        \n",
              "  <svg xmlns=\"http://www.w3.org/2000/svg\" height=\"24px\"viewBox=\"0 0 24 24\"\n",
              "       width=\"24px\">\n",
              "    <path d=\"M0 0h24v24H0V0z\" fill=\"none\"/>\n",
              "    <path d=\"M18.56 5.44l.94 2.06.94-2.06 2.06-.94-2.06-.94-.94-2.06-.94 2.06-2.06.94zm-11 1L8.5 8.5l.94-2.06 2.06-.94-2.06-.94L8.5 2.5l-.94 2.06-2.06.94zm10 10l.94 2.06.94-2.06 2.06-.94-2.06-.94-.94-2.06-.94 2.06-2.06.94z\"/><path d=\"M17.41 7.96l-1.37-1.37c-.4-.4-.92-.59-1.43-.59-.52 0-1.04.2-1.43.59L10.3 9.45l-7.72 7.72c-.78.78-.78 2.05 0 2.83L4 21.41c.39.39.9.59 1.41.59.51 0 1.02-.2 1.41-.59l7.78-7.78 2.81-2.81c.8-.78.8-2.07 0-2.86zM5.41 20L4 18.59l7.72-7.72 1.47 1.35L5.41 20z\"/>\n",
              "  </svg>\n",
              "      </button>\n",
              "      \n",
              "  <style>\n",
              "    .colab-df-container {\n",
              "      display:flex;\n",
              "      flex-wrap:wrap;\n",
              "      gap: 12px;\n",
              "    }\n",
              "\n",
              "    .colab-df-convert {\n",
              "      background-color: #E8F0FE;\n",
              "      border: none;\n",
              "      border-radius: 50%;\n",
              "      cursor: pointer;\n",
              "      display: none;\n",
              "      fill: #1967D2;\n",
              "      height: 32px;\n",
              "      padding: 0 0 0 0;\n",
              "      width: 32px;\n",
              "    }\n",
              "\n",
              "    .colab-df-convert:hover {\n",
              "      background-color: #E2EBFA;\n",
              "      box-shadow: 0px 1px 2px rgba(60, 64, 67, 0.3), 0px 1px 3px 1px rgba(60, 64, 67, 0.15);\n",
              "      fill: #174EA6;\n",
              "    }\n",
              "\n",
              "    [theme=dark] .colab-df-convert {\n",
              "      background-color: #3B4455;\n",
              "      fill: #D2E3FC;\n",
              "    }\n",
              "\n",
              "    [theme=dark] .colab-df-convert:hover {\n",
              "      background-color: #434B5C;\n",
              "      box-shadow: 0px 1px 3px 1px rgba(0, 0, 0, 0.15);\n",
              "      filter: drop-shadow(0px 1px 2px rgba(0, 0, 0, 0.3));\n",
              "      fill: #FFFFFF;\n",
              "    }\n",
              "  </style>\n",
              "\n",
              "      <script>\n",
              "        const buttonEl =\n",
              "          document.querySelector('#df-0b877245-176a-462f-973e-b5ccf17d892d button.colab-df-convert');\n",
              "        buttonEl.style.display =\n",
              "          google.colab.kernel.accessAllowed ? 'block' : 'none';\n",
              "\n",
              "        async function convertToInteractive(key) {\n",
              "          const element = document.querySelector('#df-0b877245-176a-462f-973e-b5ccf17d892d');\n",
              "          const dataTable =\n",
              "            await google.colab.kernel.invokeFunction('convertToInteractive',\n",
              "                                                     [key], {});\n",
              "          if (!dataTable) return;\n",
              "\n",
              "          const docLinkHtml = 'Like what you see? Visit the ' +\n",
              "            '<a target=\"_blank\" href=https://colab.research.google.com/notebooks/data_table.ipynb>data table notebook</a>'\n",
              "            + ' to learn more about interactive tables.';\n",
              "          element.innerHTML = '';\n",
              "          dataTable['output_type'] = 'display_data';\n",
              "          await google.colab.output.renderOutput(dataTable, element);\n",
              "          const docLink = document.createElement('div');\n",
              "          docLink.innerHTML = docLinkHtml;\n",
              "          element.appendChild(docLink);\n",
              "        }\n",
              "      </script>\n",
              "    </div>\n",
              "  </div>\n",
              "  "
            ]
          },
          "metadata": {},
          "execution_count": 397
        }
      ]
    },
    {
      "cell_type": "code",
      "source": [
        "#Esta variable categorica si tiene jerarquia \n",
        "columnas_encodear = [\"clima\"]\n",
        "data_ohe = pd.get_dummies(data, columns=columnas_encodear, prefix='OHE')\n",
        "data_ohe.head(1)"
      ],
      "metadata": {
        "id": "Fx_aH-eloaX1",
        "colab": {
          "base_uri": "https://localhost:8080/",
          "height": 176
        },
        "outputId": "d2ae18e4-420e-49db-ec28-0f437873c891"
      },
      "execution_count": null,
      "outputs": [
        {
          "output_type": "execute_result",
          "data": {
            "text/plain": [
              "    modelo_camioneta  num_paquetes  tiempo_entrega dataset  temperatura  \\\n",
              "id                                                                        \n",
              "1                  0           3.0           448.0   train          8.9   \n",
              "\n",
              "    temp_rocio  humedad  vel_viento  dir_viento  visibilidad  presion  \\\n",
              "id                                                                      \n",
              "1          0.0     54.0        16.7       170.0         16.1     30.4   \n",
              "\n",
              "    latitud_final  distance  dia  hora  minuto  segundo  OHE_Bueno  \\\n",
              "id                                                                   \n",
              "1       40.814163  0.876832    4    20      53        0          1   \n",
              "\n",
              "    OHE_lluvia  OHE_niebla  OHE_nieve  \n",
              "id                                     \n",
              "1            0           0          0  "
            ],
            "text/html": [
              "\n",
              "  <div id=\"df-16b4fadf-0a88-416f-abaf-64cff92e513b\">\n",
              "    <div class=\"colab-df-container\">\n",
              "      <div>\n",
              "<style scoped>\n",
              "    .dataframe tbody tr th:only-of-type {\n",
              "        vertical-align: middle;\n",
              "    }\n",
              "\n",
              "    .dataframe tbody tr th {\n",
              "        vertical-align: top;\n",
              "    }\n",
              "\n",
              "    .dataframe thead th {\n",
              "        text-align: right;\n",
              "    }\n",
              "</style>\n",
              "<table border=\"1\" class=\"dataframe\">\n",
              "  <thead>\n",
              "    <tr style=\"text-align: right;\">\n",
              "      <th></th>\n",
              "      <th>modelo_camioneta</th>\n",
              "      <th>num_paquetes</th>\n",
              "      <th>tiempo_entrega</th>\n",
              "      <th>dataset</th>\n",
              "      <th>temperatura</th>\n",
              "      <th>temp_rocio</th>\n",
              "      <th>humedad</th>\n",
              "      <th>vel_viento</th>\n",
              "      <th>dir_viento</th>\n",
              "      <th>visibilidad</th>\n",
              "      <th>presion</th>\n",
              "      <th>latitud_final</th>\n",
              "      <th>distance</th>\n",
              "      <th>dia</th>\n",
              "      <th>hora</th>\n",
              "      <th>minuto</th>\n",
              "      <th>segundo</th>\n",
              "      <th>OHE_Bueno</th>\n",
              "      <th>OHE_lluvia</th>\n",
              "      <th>OHE_niebla</th>\n",
              "      <th>OHE_nieve</th>\n",
              "    </tr>\n",
              "    <tr>\n",
              "      <th>id</th>\n",
              "      <th></th>\n",
              "      <th></th>\n",
              "      <th></th>\n",
              "      <th></th>\n",
              "      <th></th>\n",
              "      <th></th>\n",
              "      <th></th>\n",
              "      <th></th>\n",
              "      <th></th>\n",
              "      <th></th>\n",
              "      <th></th>\n",
              "      <th></th>\n",
              "      <th></th>\n",
              "      <th></th>\n",
              "      <th></th>\n",
              "      <th></th>\n",
              "      <th></th>\n",
              "      <th></th>\n",
              "      <th></th>\n",
              "      <th></th>\n",
              "      <th></th>\n",
              "    </tr>\n",
              "  </thead>\n",
              "  <tbody>\n",
              "    <tr>\n",
              "      <th>1</th>\n",
              "      <td>0</td>\n",
              "      <td>3.0</td>\n",
              "      <td>448.0</td>\n",
              "      <td>train</td>\n",
              "      <td>8.9</td>\n",
              "      <td>0.0</td>\n",
              "      <td>54.0</td>\n",
              "      <td>16.7</td>\n",
              "      <td>170.0</td>\n",
              "      <td>16.1</td>\n",
              "      <td>30.4</td>\n",
              "      <td>40.814163</td>\n",
              "      <td>0.876832</td>\n",
              "      <td>4</td>\n",
              "      <td>20</td>\n",
              "      <td>53</td>\n",
              "      <td>0</td>\n",
              "      <td>1</td>\n",
              "      <td>0</td>\n",
              "      <td>0</td>\n",
              "      <td>0</td>\n",
              "    </tr>\n",
              "  </tbody>\n",
              "</table>\n",
              "</div>\n",
              "      <button class=\"colab-df-convert\" onclick=\"convertToInteractive('df-16b4fadf-0a88-416f-abaf-64cff92e513b')\"\n",
              "              title=\"Convert this dataframe to an interactive table.\"\n",
              "              style=\"display:none;\">\n",
              "        \n",
              "  <svg xmlns=\"http://www.w3.org/2000/svg\" height=\"24px\"viewBox=\"0 0 24 24\"\n",
              "       width=\"24px\">\n",
              "    <path d=\"M0 0h24v24H0V0z\" fill=\"none\"/>\n",
              "    <path d=\"M18.56 5.44l.94 2.06.94-2.06 2.06-.94-2.06-.94-.94-2.06-.94 2.06-2.06.94zm-11 1L8.5 8.5l.94-2.06 2.06-.94-2.06-.94L8.5 2.5l-.94 2.06-2.06.94zm10 10l.94 2.06.94-2.06 2.06-.94-2.06-.94-.94-2.06-.94 2.06-2.06.94z\"/><path d=\"M17.41 7.96l-1.37-1.37c-.4-.4-.92-.59-1.43-.59-.52 0-1.04.2-1.43.59L10.3 9.45l-7.72 7.72c-.78.78-.78 2.05 0 2.83L4 21.41c.39.39.9.59 1.41.59.51 0 1.02-.2 1.41-.59l7.78-7.78 2.81-2.81c.8-.78.8-2.07 0-2.86zM5.41 20L4 18.59l7.72-7.72 1.47 1.35L5.41 20z\"/>\n",
              "  </svg>\n",
              "      </button>\n",
              "      \n",
              "  <style>\n",
              "    .colab-df-container {\n",
              "      display:flex;\n",
              "      flex-wrap:wrap;\n",
              "      gap: 12px;\n",
              "    }\n",
              "\n",
              "    .colab-df-convert {\n",
              "      background-color: #E8F0FE;\n",
              "      border: none;\n",
              "      border-radius: 50%;\n",
              "      cursor: pointer;\n",
              "      display: none;\n",
              "      fill: #1967D2;\n",
              "      height: 32px;\n",
              "      padding: 0 0 0 0;\n",
              "      width: 32px;\n",
              "    }\n",
              "\n",
              "    .colab-df-convert:hover {\n",
              "      background-color: #E2EBFA;\n",
              "      box-shadow: 0px 1px 2px rgba(60, 64, 67, 0.3), 0px 1px 3px 1px rgba(60, 64, 67, 0.15);\n",
              "      fill: #174EA6;\n",
              "    }\n",
              "\n",
              "    [theme=dark] .colab-df-convert {\n",
              "      background-color: #3B4455;\n",
              "      fill: #D2E3FC;\n",
              "    }\n",
              "\n",
              "    [theme=dark] .colab-df-convert:hover {\n",
              "      background-color: #434B5C;\n",
              "      box-shadow: 0px 1px 3px 1px rgba(0, 0, 0, 0.15);\n",
              "      filter: drop-shadow(0px 1px 2px rgba(0, 0, 0, 0.3));\n",
              "      fill: #FFFFFF;\n",
              "    }\n",
              "  </style>\n",
              "\n",
              "      <script>\n",
              "        const buttonEl =\n",
              "          document.querySelector('#df-16b4fadf-0a88-416f-abaf-64cff92e513b button.colab-df-convert');\n",
              "        buttonEl.style.display =\n",
              "          google.colab.kernel.accessAllowed ? 'block' : 'none';\n",
              "\n",
              "        async function convertToInteractive(key) {\n",
              "          const element = document.querySelector('#df-16b4fadf-0a88-416f-abaf-64cff92e513b');\n",
              "          const dataTable =\n",
              "            await google.colab.kernel.invokeFunction('convertToInteractive',\n",
              "                                                     [key], {});\n",
              "          if (!dataTable) return;\n",
              "\n",
              "          const docLinkHtml = 'Like what you see? Visit the ' +\n",
              "            '<a target=\"_blank\" href=https://colab.research.google.com/notebooks/data_table.ipynb>data table notebook</a>'\n",
              "            + ' to learn more about interactive tables.';\n",
              "          element.innerHTML = '';\n",
              "          dataTable['output_type'] = 'display_data';\n",
              "          await google.colab.output.renderOutput(dataTable, element);\n",
              "          const docLink = document.createElement('div');\n",
              "          docLink.innerHTML = docLinkHtml;\n",
              "          element.appendChild(docLink);\n",
              "        }\n",
              "      </script>\n",
              "    </div>\n",
              "  </div>\n",
              "  "
            ]
          },
          "metadata": {},
          "execution_count": 398
        }
      ]
    },
    {
      "cell_type": "code",
      "source": [
        "data_ohe.isna().sum()"
      ],
      "metadata": {
        "id": "P1AOU3zT-KTm",
        "colab": {
          "base_uri": "https://localhost:8080/"
        },
        "outputId": "f40c6a35-0001-4e5a-9c39-89b03b87e467"
      },
      "execution_count": null,
      "outputs": [
        {
          "output_type": "execute_result",
          "data": {
            "text/plain": [
              "modelo_camioneta       0\n",
              "num_paquetes           0\n",
              "tiempo_entrega      1274\n",
              "dataset                0\n",
              "temperatura            0\n",
              "temp_rocio             0\n",
              "humedad                0\n",
              "vel_viento             0\n",
              "dir_viento             0\n",
              "visibilidad            0\n",
              "presion                0\n",
              "latitud_final          0\n",
              "distance               0\n",
              "dia                    0\n",
              "hora                   0\n",
              "minuto                 0\n",
              "segundo                0\n",
              "OHE_Bueno              0\n",
              "OHE_lluvia             0\n",
              "OHE_niebla             0\n",
              "OHE_nieve              0\n",
              "dtype: int64"
            ]
          },
          "metadata": {},
          "execution_count": 399
        }
      ]
    },
    {
      "cell_type": "markdown",
      "source": [
        "#Separamos el Train y el Test en df "
      ],
      "metadata": {
        "id": "6yuE2BpLO59o"
      }
    },
    {
      "cell_type": "code",
      "source": [
        "train_df = data_ohe.loc[data_ohe.dataset=='train',data_ohe.columns!='dataset']\n",
        "test_df = data_ohe.loc[data_ohe.dataset=='test',data_ohe.columns!='dataset']"
      ],
      "metadata": {
        "id": "50jWd9Ix9N38"
      },
      "execution_count": null,
      "outputs": []
    },
    {
      "cell_type": "code",
      "source": [
        "X = train_df.loc[:,train_df.columns!=\"tiempo_entrega\"]\n",
        "y = train_df.loc[:,train_df.columns==\"tiempo_entrega\"]"
      ],
      "metadata": {
        "id": "4yu7DL8si-PI"
      },
      "execution_count": null,
      "outputs": []
    },
    {
      "cell_type": "code",
      "source": [
        "X_train, X_test, y_train, y_test = train_test_split(X, y, test_size=0.30, random_state=42)"
      ],
      "metadata": {
        "id": "ZhRef0tQjZxj"
      },
      "execution_count": null,
      "outputs": []
    },
    {
      "cell_type": "code",
      "source": [
        "MX = MinMaxScaler()\n",
        "X_train = MX.fit_transform(X_train)\n",
        "X_test = MX.fit_transform(X_test)"
      ],
      "metadata": {
        "id": "DzyX9b-3jiq3"
      },
      "execution_count": null,
      "outputs": []
    },
    {
      "cell_type": "code",
      "source": [
        "X_test2 = test_df.loc[:,test_df.columns!='tiempo_entrega']\n",
        "X_test1=MX.fit_transform(X_test2)"
      ],
      "metadata": {
        "id": "3cyLlJYam6FE"
      },
      "execution_count": null,
      "outputs": []
    },
    {
      "cell_type": "markdown",
      "source": [
        "# Arbol de decision"
      ],
      "metadata": {
        "id": "HoSNijTY8MCb"
      }
    },
    {
      "cell_type": "markdown",
      "source": [
        "Para este punto de decidio ejecutar un arbol de decision con la base de datos Xtrain y Ytrain con la finalidad de encontrar una predicción adecuada de cual sera el tiempo de entrega del paquete."
      ],
      "metadata": {
        "id": "KSaRGJ_9R8jp"
      }
    },
    {
      "cell_type": "code",
      "source": [
        "from sklearn.tree import DecisionTreeRegressor\n",
        "modelo_arbol = DecisionTreeRegressor(max_depth = 5,random_state=15)\n",
        "modelo_arbol.fit(X_train,y_train)"
      ],
      "metadata": {
        "id": "K5nRb1Q5-32V",
        "colab": {
          "base_uri": "https://localhost:8080/",
          "height": 74
        },
        "outputId": "9dd0dd7e-3ab2-4315-e92d-dbdb70e5c6b2"
      },
      "execution_count": null,
      "outputs": [
        {
          "output_type": "execute_result",
          "data": {
            "text/plain": [
              "DecisionTreeRegressor(max_depth=5, random_state=15)"
            ],
            "text/html": [
              "<style>#sk-container-id-12 {color: black;background-color: white;}#sk-container-id-12 pre{padding: 0;}#sk-container-id-12 div.sk-toggleable {background-color: white;}#sk-container-id-12 label.sk-toggleable__label {cursor: pointer;display: block;width: 100%;margin-bottom: 0;padding: 0.3em;box-sizing: border-box;text-align: center;}#sk-container-id-12 label.sk-toggleable__label-arrow:before {content: \"▸\";float: left;margin-right: 0.25em;color: #696969;}#sk-container-id-12 label.sk-toggleable__label-arrow:hover:before {color: black;}#sk-container-id-12 div.sk-estimator:hover label.sk-toggleable__label-arrow:before {color: black;}#sk-container-id-12 div.sk-toggleable__content {max-height: 0;max-width: 0;overflow: hidden;text-align: left;background-color: #f0f8ff;}#sk-container-id-12 div.sk-toggleable__content pre {margin: 0.2em;color: black;border-radius: 0.25em;background-color: #f0f8ff;}#sk-container-id-12 input.sk-toggleable__control:checked~div.sk-toggleable__content {max-height: 200px;max-width: 100%;overflow: auto;}#sk-container-id-12 input.sk-toggleable__control:checked~label.sk-toggleable__label-arrow:before {content: \"▾\";}#sk-container-id-12 div.sk-estimator input.sk-toggleable__control:checked~label.sk-toggleable__label {background-color: #d4ebff;}#sk-container-id-12 div.sk-label input.sk-toggleable__control:checked~label.sk-toggleable__label {background-color: #d4ebff;}#sk-container-id-12 input.sk-hidden--visually {border: 0;clip: rect(1px 1px 1px 1px);clip: rect(1px, 1px, 1px, 1px);height: 1px;margin: -1px;overflow: hidden;padding: 0;position: absolute;width: 1px;}#sk-container-id-12 div.sk-estimator {font-family: monospace;background-color: #f0f8ff;border: 1px dotted black;border-radius: 0.25em;box-sizing: border-box;margin-bottom: 0.5em;}#sk-container-id-12 div.sk-estimator:hover {background-color: #d4ebff;}#sk-container-id-12 div.sk-parallel-item::after {content: \"\";width: 100%;border-bottom: 1px solid gray;flex-grow: 1;}#sk-container-id-12 div.sk-label:hover label.sk-toggleable__label {background-color: #d4ebff;}#sk-container-id-12 div.sk-serial::before {content: \"\";position: absolute;border-left: 1px solid gray;box-sizing: border-box;top: 0;bottom: 0;left: 50%;z-index: 0;}#sk-container-id-12 div.sk-serial {display: flex;flex-direction: column;align-items: center;background-color: white;padding-right: 0.2em;padding-left: 0.2em;position: relative;}#sk-container-id-12 div.sk-item {position: relative;z-index: 1;}#sk-container-id-12 div.sk-parallel {display: flex;align-items: stretch;justify-content: center;background-color: white;position: relative;}#sk-container-id-12 div.sk-item::before, #sk-container-id-12 div.sk-parallel-item::before {content: \"\";position: absolute;border-left: 1px solid gray;box-sizing: border-box;top: 0;bottom: 0;left: 50%;z-index: -1;}#sk-container-id-12 div.sk-parallel-item {display: flex;flex-direction: column;z-index: 1;position: relative;background-color: white;}#sk-container-id-12 div.sk-parallel-item:first-child::after {align-self: flex-end;width: 50%;}#sk-container-id-12 div.sk-parallel-item:last-child::after {align-self: flex-start;width: 50%;}#sk-container-id-12 div.sk-parallel-item:only-child::after {width: 0;}#sk-container-id-12 div.sk-dashed-wrapped {border: 1px dashed gray;margin: 0 0.4em 0.5em 0.4em;box-sizing: border-box;padding-bottom: 0.4em;background-color: white;}#sk-container-id-12 div.sk-label label {font-family: monospace;font-weight: bold;display: inline-block;line-height: 1.2em;}#sk-container-id-12 div.sk-label-container {text-align: center;}#sk-container-id-12 div.sk-container {/* jupyter's `normalize.less` sets `[hidden] { display: none; }` but bootstrap.min.css set `[hidden] { display: none !important; }` so we also need the `!important` here to be able to override the default hidden behavior on the sphinx rendered scikit-learn.org. See: https://github.com/scikit-learn/scikit-learn/issues/21755 */display: inline-block !important;position: relative;}#sk-container-id-12 div.sk-text-repr-fallback {display: none;}</style><div id=\"sk-container-id-12\" class=\"sk-top-container\"><div class=\"sk-text-repr-fallback\"><pre>DecisionTreeRegressor(max_depth=5, random_state=15)</pre><b>In a Jupyter environment, please rerun this cell to show the HTML representation or trust the notebook. <br />On GitHub, the HTML representation is unable to render, please try loading this page with nbviewer.org.</b></div><div class=\"sk-container\" hidden><div class=\"sk-item\"><div class=\"sk-estimator sk-toggleable\"><input class=\"sk-toggleable__control sk-hidden--visually\" id=\"sk-estimator-id-14\" type=\"checkbox\" checked><label for=\"sk-estimator-id-14\" class=\"sk-toggleable__label sk-toggleable__label-arrow\">DecisionTreeRegressor</label><div class=\"sk-toggleable__content\"><pre>DecisionTreeRegressor(max_depth=5, random_state=15)</pre></div></div></div></div></div>"
            ]
          },
          "metadata": {},
          "execution_count": 405
        }
      ]
    },
    {
      "cell_type": "code",
      "source": [
        "scores = cross_val_score(modelo_arbol, X_train, y_train, cv = 8, scoring='neg_mean_absolute_error')\n",
        "scores.mean()"
      ],
      "metadata": {
        "id": "tUU_9uG1-_b5",
        "colab": {
          "base_uri": "https://localhost:8080/"
        },
        "outputId": "0f4c702b-8515-497e-a062-8bc1bbe255a7"
      },
      "execution_count": null,
      "outputs": [
        {
          "output_type": "execute_result",
          "data": {
            "text/plain": [
              "-232.11620192588225"
            ]
          },
          "metadata": {},
          "execution_count": 406
        }
      ]
    },
    {
      "cell_type": "markdown",
      "source": [
        "Despues de probar con varios valores en los parametros el mejor resultado en el MAE hallado fue este. Y al subir la prediccion a Kaggle arrojo un valor de 214"
      ],
      "metadata": {
        "id": "6_xB5EGOGAGb"
      }
    },
    {
      "cell_type": "code",
      "source": [
        "pred_arbol=pd.DataFrame(modelo_arbol.predict(X_test1),columns=[\"tiempo_entrega\"],index=X_test2.index).reset_index()\n",
        "pred_arbol.target=pred_arbol.tiempo_entrega.astype(int)"
      ],
      "metadata": {
        "id": "x_V741dqABdv",
        "colab": {
          "base_uri": "https://localhost:8080/"
        },
        "outputId": "f06e408d-8701-4bc1-b443-a54b8b36bdcf"
      },
      "execution_count": null,
      "outputs": [
        {
          "output_type": "stream",
          "name": "stderr",
          "text": [
            "<ipython-input-407-8d2c4a3abba8>:2: UserWarning: Pandas doesn't allow columns to be created via a new attribute name - see https://pandas.pydata.org/pandas-docs/stable/indexing.html#attribute-access\n",
            "  pred_arbol.target=pred_arbol.tiempo_entrega.astype(int)\n"
          ]
        }
      ]
    },
    {
      "cell_type": "code",
      "source": [
        "#Importamos la prediccion para subirla a kaggle\n",
        "pred_arbol.to_csv(\"prediccion_1.csv\",index=False)\n",
        "files.download(\"prediccion_1.csv\")"
      ],
      "metadata": {
        "id": "9oXOMpoqAH-D",
        "colab": {
          "base_uri": "https://localhost:8080/",
          "height": 17
        },
        "outputId": "e69cdc64-6c4f-432d-a9e3-7bea10479617"
      },
      "execution_count": null,
      "outputs": [
        {
          "output_type": "display_data",
          "data": {
            "text/plain": [
              "<IPython.core.display.Javascript object>"
            ],
            "application/javascript": [
              "\n",
              "    async function download(id, filename, size) {\n",
              "      if (!google.colab.kernel.accessAllowed) {\n",
              "        return;\n",
              "      }\n",
              "      const div = document.createElement('div');\n",
              "      const label = document.createElement('label');\n",
              "      label.textContent = `Downloading \"${filename}\": `;\n",
              "      div.appendChild(label);\n",
              "      const progress = document.createElement('progress');\n",
              "      progress.max = size;\n",
              "      div.appendChild(progress);\n",
              "      document.body.appendChild(div);\n",
              "\n",
              "      const buffers = [];\n",
              "      let downloaded = 0;\n",
              "\n",
              "      const channel = await google.colab.kernel.comms.open(id);\n",
              "      // Send a message to notify the kernel that we're ready.\n",
              "      channel.send({})\n",
              "\n",
              "      for await (const message of channel.messages) {\n",
              "        // Send a message to notify the kernel that we're ready.\n",
              "        channel.send({})\n",
              "        if (message.buffers) {\n",
              "          for (const buffer of message.buffers) {\n",
              "            buffers.push(buffer);\n",
              "            downloaded += buffer.byteLength;\n",
              "            progress.value = downloaded;\n",
              "          }\n",
              "        }\n",
              "      }\n",
              "      const blob = new Blob(buffers, {type: 'application/binary'});\n",
              "      const a = document.createElement('a');\n",
              "      a.href = window.URL.createObjectURL(blob);\n",
              "      a.download = filename;\n",
              "      div.appendChild(a);\n",
              "      a.click();\n",
              "      div.remove();\n",
              "    }\n",
              "  "
            ]
          },
          "metadata": {}
        },
        {
          "output_type": "display_data",
          "data": {
            "text/plain": [
              "<IPython.core.display.Javascript object>"
            ],
            "application/javascript": [
              "download(\"download_336dd372-99e3-4302-8ea0-57481b41b274\", \"prediccion_1.csv\", 28586)"
            ]
          },
          "metadata": {}
        }
      ]
    },
    {
      "cell_type": "markdown",
      "source": [
        "# Random Forest"
      ],
      "metadata": {
        "id": "Fk3tn5E28QNE"
      }
    },
    {
      "cell_type": "markdown",
      "source": [
        "Para tener un mejor ajuste evitando el sobreajuste y obteniendo un valor de prediccion mas exacto y adecuado se decidio implementar un Randon forest, el cual tuvo como resultado un mejor puntaje de proyeccion, asi mismo nos da un mejor panorama de cual sera el tiempo mas cercano al que se va a entregar el paquete en sus respectivas camionetas"
      ],
      "metadata": {
        "id": "tBF_soH0ShlZ"
      }
    },
    {
      "cell_type": "code",
      "source": [
        "from sklearn.ensemble import RandomForestRegressor\n",
        "modelo_rf=RandomForestRegressor(n_estimators=100,random_state=44, min_samples_leaf=50, min_samples_split=150,max_depth=5, max_features=13)\n",
        "modelo_rf.fit(X_train,y_train);\n",
        "scores = cross_val_score(modelo_rf, X_train, y_train, cv = 8, scoring='neg_mean_absolute_error')\n",
        "print(scores.mean());"
      ],
      "metadata": {
        "id": "_60gpLq6Aa1r",
        "colab": {
          "base_uri": "https://localhost:8080/"
        },
        "outputId": "2c4047a5-b2db-405c-9687-b105891b1499"
      },
      "execution_count": null,
      "outputs": [
        {
          "output_type": "stream",
          "name": "stderr",
          "text": [
            "<ipython-input-409-0fb3e89898b2>:3: DataConversionWarning: A column-vector y was passed when a 1d array was expected. Please change the shape of y to (n_samples,), for example using ravel().\n",
            "  modelo_rf.fit(X_train,y_train);\n",
            "/usr/local/lib/python3.10/dist-packages/sklearn/model_selection/_validation.py:686: DataConversionWarning: A column-vector y was passed when a 1d array was expected. Please change the shape of y to (n_samples,), for example using ravel().\n",
            "  estimator.fit(X_train, y_train, **fit_params)\n",
            "/usr/local/lib/python3.10/dist-packages/sklearn/model_selection/_validation.py:686: DataConversionWarning: A column-vector y was passed when a 1d array was expected. Please change the shape of y to (n_samples,), for example using ravel().\n",
            "  estimator.fit(X_train, y_train, **fit_params)\n",
            "/usr/local/lib/python3.10/dist-packages/sklearn/model_selection/_validation.py:686: DataConversionWarning: A column-vector y was passed when a 1d array was expected. Please change the shape of y to (n_samples,), for example using ravel().\n",
            "  estimator.fit(X_train, y_train, **fit_params)\n",
            "/usr/local/lib/python3.10/dist-packages/sklearn/model_selection/_validation.py:686: DataConversionWarning: A column-vector y was passed when a 1d array was expected. Please change the shape of y to (n_samples,), for example using ravel().\n",
            "  estimator.fit(X_train, y_train, **fit_params)\n",
            "/usr/local/lib/python3.10/dist-packages/sklearn/model_selection/_validation.py:686: DataConversionWarning: A column-vector y was passed when a 1d array was expected. Please change the shape of y to (n_samples,), for example using ravel().\n",
            "  estimator.fit(X_train, y_train, **fit_params)\n",
            "/usr/local/lib/python3.10/dist-packages/sklearn/model_selection/_validation.py:686: DataConversionWarning: A column-vector y was passed when a 1d array was expected. Please change the shape of y to (n_samples,), for example using ravel().\n",
            "  estimator.fit(X_train, y_train, **fit_params)\n",
            "/usr/local/lib/python3.10/dist-packages/sklearn/model_selection/_validation.py:686: DataConversionWarning: A column-vector y was passed when a 1d array was expected. Please change the shape of y to (n_samples,), for example using ravel().\n",
            "  estimator.fit(X_train, y_train, **fit_params)\n",
            "/usr/local/lib/python3.10/dist-packages/sklearn/model_selection/_validation.py:686: DataConversionWarning: A column-vector y was passed when a 1d array was expected. Please change the shape of y to (n_samples,), for example using ravel().\n",
            "  estimator.fit(X_train, y_train, **fit_params)\n"
          ]
        },
        {
          "output_type": "stream",
          "name": "stdout",
          "text": [
            "-226.57117248025955\n"
          ]
        }
      ]
    },
    {
      "cell_type": "markdown",
      "source": [
        "Despues de probar con varios valores en los parametros el mejor resultado en el MAE hallado fue este. Y al subir la prediccion a Kaggle arrojo un valor de 210"
      ],
      "metadata": {
        "id": "76cnAkhDGspt"
      }
    },
    {
      "cell_type": "code",
      "source": [
        "pred_arbol_pod = pd.DataFrame(modelo_rf.predict(X_test1),columns=['tiempo_entrega'],index=X_test2.index).reset_index()\n",
        "pred_arbol_pod.tiempo_entrega = pred_arbol_pod.tiempo_entrega.astype(int)"
      ],
      "metadata": {
        "id": "JDq4PZt4AfKL"
      },
      "execution_count": null,
      "outputs": []
    },
    {
      "cell_type": "code",
      "source": [
        "pred_random_forest.to_csv(\"prediccion_2.csv\",index=False)\n",
        "files.download(\"prediccion_2.csv\")"
      ],
      "metadata": {
        "id": "-3hnHezUAq8U",
        "colab": {
          "base_uri": "https://localhost:8080/",
          "height": 17
        },
        "outputId": "ff0ed3c4-6418-48f3-d237-7a4f4f2ccf12"
      },
      "execution_count": null,
      "outputs": [
        {
          "output_type": "display_data",
          "data": {
            "text/plain": [
              "<IPython.core.display.Javascript object>"
            ],
            "application/javascript": [
              "\n",
              "    async function download(id, filename, size) {\n",
              "      if (!google.colab.kernel.accessAllowed) {\n",
              "        return;\n",
              "      }\n",
              "      const div = document.createElement('div');\n",
              "      const label = document.createElement('label');\n",
              "      label.textContent = `Downloading \"${filename}\": `;\n",
              "      div.appendChild(label);\n",
              "      const progress = document.createElement('progress');\n",
              "      progress.max = size;\n",
              "      div.appendChild(progress);\n",
              "      document.body.appendChild(div);\n",
              "\n",
              "      const buffers = [];\n",
              "      let downloaded = 0;\n",
              "\n",
              "      const channel = await google.colab.kernel.comms.open(id);\n",
              "      // Send a message to notify the kernel that we're ready.\n",
              "      channel.send({})\n",
              "\n",
              "      for await (const message of channel.messages) {\n",
              "        // Send a message to notify the kernel that we're ready.\n",
              "        channel.send({})\n",
              "        if (message.buffers) {\n",
              "          for (const buffer of message.buffers) {\n",
              "            buffers.push(buffer);\n",
              "            downloaded += buffer.byteLength;\n",
              "            progress.value = downloaded;\n",
              "          }\n",
              "        }\n",
              "      }\n",
              "      const blob = new Blob(buffers, {type: 'application/binary'});\n",
              "      const a = document.createElement('a');\n",
              "      a.href = window.URL.createObjectURL(blob);\n",
              "      a.download = filename;\n",
              "      div.appendChild(a);\n",
              "      a.click();\n",
              "      div.remove();\n",
              "    }\n",
              "  "
            ]
          },
          "metadata": {}
        },
        {
          "output_type": "display_data",
          "data": {
            "text/plain": [
              "<IPython.core.display.Javascript object>"
            ],
            "application/javascript": [
              "download(\"download_1b8d1dbc-648f-4f70-9aeb-0929be83e8bf\", \"prediccion_2.csv\", 11648)"
            ]
          },
          "metadata": {}
        }
      ]
    },
    {
      "cell_type": "markdown",
      "source": [
        "# XGBoost"
      ],
      "metadata": {
        "id": "KqkKqT7ul45d"
      }
    },
    {
      "cell_type": "markdown",
      "source": [
        "En principio de deicidio utilizar esta técnica XGBoost de ajuste de árboles de decisión con el fin de mejorar la precisión de los datos que se estan proyectando y prediciendo, asi como tambien reducir el sobreajuste. Por tanto al ejecutar la función de esta tecnica tuvimos como resultado una mejora en los parametros que pueden ser implementados en los modelos con el fin de tener un mejor plano de predicción."
      ],
      "metadata": {
        "id": "T9AgT_WCYaw_"
      }
    },
    {
      "cell_type": "code",
      "source": [
        "from xgboost import XGBRegressor\n",
        "xgb = XGBRegressor(booster='gbtree',random_state=42, n_estimators=100, max_depth=2)"
      ],
      "metadata": {
        "id": "KUXusRGreLFJ"
      },
      "execution_count": null,
      "outputs": []
    },
    {
      "cell_type": "code",
      "source": [
        "xgb.fit(x_train,y_train)"
      ],
      "metadata": {
        "colab": {
          "base_uri": "https://localhost:8080/",
          "height": 248
        },
        "id": "0jgfjASkeMEq",
        "outputId": "5eaf141a-5603-4a92-ca8b-4f3e1ab0f3a0"
      },
      "execution_count": null,
      "outputs": [
        {
          "output_type": "execute_result",
          "data": {
            "text/plain": [
              "XGBRegressor(base_score=None, booster='gbtree', callbacks=None,\n",
              "             colsample_bylevel=None, colsample_bynode=None,\n",
              "             colsample_bytree=None, early_stopping_rounds=None,\n",
              "             enable_categorical=False, eval_metric=None, feature_types=None,\n",
              "             gamma=None, gpu_id=None, grow_policy=None, importance_type=None,\n",
              "             interaction_constraints=None, learning_rate=None, max_bin=None,\n",
              "             max_cat_threshold=None, max_cat_to_onehot=None,\n",
              "             max_delta_step=None, max_depth=2, max_leaves=None,\n",
              "             min_child_weight=None, missing=nan, monotone_constraints=None,\n",
              "             n_estimators=100, n_jobs=None, num_parallel_tree=None,\n",
              "             predictor=None, random_state=42, ...)"
            ],
            "text/html": [
              "<style>#sk-container-id-17 {color: black;background-color: white;}#sk-container-id-17 pre{padding: 0;}#sk-container-id-17 div.sk-toggleable {background-color: white;}#sk-container-id-17 label.sk-toggleable__label {cursor: pointer;display: block;width: 100%;margin-bottom: 0;padding: 0.3em;box-sizing: border-box;text-align: center;}#sk-container-id-17 label.sk-toggleable__label-arrow:before {content: \"▸\";float: left;margin-right: 0.25em;color: #696969;}#sk-container-id-17 label.sk-toggleable__label-arrow:hover:before {color: black;}#sk-container-id-17 div.sk-estimator:hover label.sk-toggleable__label-arrow:before {color: black;}#sk-container-id-17 div.sk-toggleable__content {max-height: 0;max-width: 0;overflow: hidden;text-align: left;background-color: #f0f8ff;}#sk-container-id-17 div.sk-toggleable__content pre {margin: 0.2em;color: black;border-radius: 0.25em;background-color: #f0f8ff;}#sk-container-id-17 input.sk-toggleable__control:checked~div.sk-toggleable__content {max-height: 200px;max-width: 100%;overflow: auto;}#sk-container-id-17 input.sk-toggleable__control:checked~label.sk-toggleable__label-arrow:before {content: \"▾\";}#sk-container-id-17 div.sk-estimator input.sk-toggleable__control:checked~label.sk-toggleable__label {background-color: #d4ebff;}#sk-container-id-17 div.sk-label input.sk-toggleable__control:checked~label.sk-toggleable__label {background-color: #d4ebff;}#sk-container-id-17 input.sk-hidden--visually {border: 0;clip: rect(1px 1px 1px 1px);clip: rect(1px, 1px, 1px, 1px);height: 1px;margin: -1px;overflow: hidden;padding: 0;position: absolute;width: 1px;}#sk-container-id-17 div.sk-estimator {font-family: monospace;background-color: #f0f8ff;border: 1px dotted black;border-radius: 0.25em;box-sizing: border-box;margin-bottom: 0.5em;}#sk-container-id-17 div.sk-estimator:hover {background-color: #d4ebff;}#sk-container-id-17 div.sk-parallel-item::after {content: \"\";width: 100%;border-bottom: 1px solid gray;flex-grow: 1;}#sk-container-id-17 div.sk-label:hover label.sk-toggleable__label {background-color: #d4ebff;}#sk-container-id-17 div.sk-serial::before {content: \"\";position: absolute;border-left: 1px solid gray;box-sizing: border-box;top: 0;bottom: 0;left: 50%;z-index: 0;}#sk-container-id-17 div.sk-serial {display: flex;flex-direction: column;align-items: center;background-color: white;padding-right: 0.2em;padding-left: 0.2em;position: relative;}#sk-container-id-17 div.sk-item {position: relative;z-index: 1;}#sk-container-id-17 div.sk-parallel {display: flex;align-items: stretch;justify-content: center;background-color: white;position: relative;}#sk-container-id-17 div.sk-item::before, #sk-container-id-17 div.sk-parallel-item::before {content: \"\";position: absolute;border-left: 1px solid gray;box-sizing: border-box;top: 0;bottom: 0;left: 50%;z-index: -1;}#sk-container-id-17 div.sk-parallel-item {display: flex;flex-direction: column;z-index: 1;position: relative;background-color: white;}#sk-container-id-17 div.sk-parallel-item:first-child::after {align-self: flex-end;width: 50%;}#sk-container-id-17 div.sk-parallel-item:last-child::after {align-self: flex-start;width: 50%;}#sk-container-id-17 div.sk-parallel-item:only-child::after {width: 0;}#sk-container-id-17 div.sk-dashed-wrapped {border: 1px dashed gray;margin: 0 0.4em 0.5em 0.4em;box-sizing: border-box;padding-bottom: 0.4em;background-color: white;}#sk-container-id-17 div.sk-label label {font-family: monospace;font-weight: bold;display: inline-block;line-height: 1.2em;}#sk-container-id-17 div.sk-label-container {text-align: center;}#sk-container-id-17 div.sk-container {/* jupyter's `normalize.less` sets `[hidden] { display: none; }` but bootstrap.min.css set `[hidden] { display: none !important; }` so we also need the `!important` here to be able to override the default hidden behavior on the sphinx rendered scikit-learn.org. See: https://github.com/scikit-learn/scikit-learn/issues/21755 */display: inline-block !important;position: relative;}#sk-container-id-17 div.sk-text-repr-fallback {display: none;}</style><div id=\"sk-container-id-17\" class=\"sk-top-container\"><div class=\"sk-text-repr-fallback\"><pre>XGBRegressor(base_score=None, booster=&#x27;gbtree&#x27;, callbacks=None,\n",
              "             colsample_bylevel=None, colsample_bynode=None,\n",
              "             colsample_bytree=None, early_stopping_rounds=None,\n",
              "             enable_categorical=False, eval_metric=None, feature_types=None,\n",
              "             gamma=None, gpu_id=None, grow_policy=None, importance_type=None,\n",
              "             interaction_constraints=None, learning_rate=None, max_bin=None,\n",
              "             max_cat_threshold=None, max_cat_to_onehot=None,\n",
              "             max_delta_step=None, max_depth=2, max_leaves=None,\n",
              "             min_child_weight=None, missing=nan, monotone_constraints=None,\n",
              "             n_estimators=100, n_jobs=None, num_parallel_tree=None,\n",
              "             predictor=None, random_state=42, ...)</pre><b>In a Jupyter environment, please rerun this cell to show the HTML representation or trust the notebook. <br />On GitHub, the HTML representation is unable to render, please try loading this page with nbviewer.org.</b></div><div class=\"sk-container\" hidden><div class=\"sk-item\"><div class=\"sk-estimator sk-toggleable\"><input class=\"sk-toggleable__control sk-hidden--visually\" id=\"sk-estimator-id-25\" type=\"checkbox\" checked><label for=\"sk-estimator-id-25\" class=\"sk-toggleable__label sk-toggleable__label-arrow\">XGBRegressor</label><div class=\"sk-toggleable__content\"><pre>XGBRegressor(base_score=None, booster=&#x27;gbtree&#x27;, callbacks=None,\n",
              "             colsample_bylevel=None, colsample_bynode=None,\n",
              "             colsample_bytree=None, early_stopping_rounds=None,\n",
              "             enable_categorical=False, eval_metric=None, feature_types=None,\n",
              "             gamma=None, gpu_id=None, grow_policy=None, importance_type=None,\n",
              "             interaction_constraints=None, learning_rate=None, max_bin=None,\n",
              "             max_cat_threshold=None, max_cat_to_onehot=None,\n",
              "             max_delta_step=None, max_depth=2, max_leaves=None,\n",
              "             min_child_weight=None, missing=nan, monotone_constraints=None,\n",
              "             n_estimators=100, n_jobs=None, num_parallel_tree=None,\n",
              "             predictor=None, random_state=42, ...)</pre></div></div></div></div></div>"
            ]
          },
          "metadata": {},
          "execution_count": 449
        }
      ]
    },
    {
      "cell_type": "code",
      "source": [
        "from sklearn.model_selection import cross_val_score\n",
        "mae_xgb = cross_val_score(xgb, X_train, y_train, cv=5, scoring='neg_mean_absolute_error')\n",
        "mae_xgb.mean()"
      ],
      "metadata": {
        "colab": {
          "base_uri": "https://localhost:8080/"
        },
        "id": "qhRxEaKxfH-4",
        "outputId": "e1070749-2e65-4db2-ff9e-0341cfa3c9fc"
      },
      "execution_count": null,
      "outputs": [
        {
          "output_type": "execute_result",
          "data": {
            "text/plain": [
              "-213.6894311426413"
            ]
          },
          "metadata": {},
          "execution_count": 450
        }
      ]
    },
    {
      "cell_type": "code",
      "source": [
        "from sklearn.metrics import mean_absolute_error\n",
        "y_pred_xgb = pd.DataFrame(xgb.predict(X_test),columns=['tiempo_entrega'])\n",
        "mean_absolute_error(y_test, y_pred_xgb)"
      ],
      "metadata": {
        "colab": {
          "base_uri": "https://localhost:8080/"
        },
        "id": "OS_H_p6FfP7a",
        "outputId": "5b368eae-3571-4351-cfdd-16655a8c8820"
      },
      "execution_count": null,
      "outputs": [
        {
          "output_type": "execute_result",
          "data": {
            "text/plain": [
              "205.263300288417"
            ]
          },
          "metadata": {},
          "execution_count": 451
        }
      ]
    },
    {
      "cell_type": "code",
      "source": [
        "pred_xgb = pd.DataFrame(xgb.predict(X_test1),columns=['tiempo_entrega'],index=X_test2.index).reset_index()\n",
        "pred_xgb.tiempo_entrega=pred_xgb.tiempo_entrega.astype(int)"
      ],
      "metadata": {
        "id": "fly-sNVSotUU"
      },
      "execution_count": null,
      "outputs": []
    },
    {
      "cell_type": "code",
      "source": [
        "pred_xgb.to_csv(\"prediccion_3.csv\",index=False)\n",
        "files.download(\"prediccion_3.csv\")"
      ],
      "metadata": {
        "colab": {
          "base_uri": "https://localhost:8080/",
          "height": 17
        },
        "id": "TihWYJA_pOmG",
        "outputId": "2fb06645-8d4e-4a32-eb51-b7bbc1e6c80e"
      },
      "execution_count": null,
      "outputs": [
        {
          "output_type": "display_data",
          "data": {
            "text/plain": [
              "<IPython.core.display.Javascript object>"
            ],
            "application/javascript": [
              "\n",
              "    async function download(id, filename, size) {\n",
              "      if (!google.colab.kernel.accessAllowed) {\n",
              "        return;\n",
              "      }\n",
              "      const div = document.createElement('div');\n",
              "      const label = document.createElement('label');\n",
              "      label.textContent = `Downloading \"${filename}\": `;\n",
              "      div.appendChild(label);\n",
              "      const progress = document.createElement('progress');\n",
              "      progress.max = size;\n",
              "      div.appendChild(progress);\n",
              "      document.body.appendChild(div);\n",
              "\n",
              "      const buffers = [];\n",
              "      let downloaded = 0;\n",
              "\n",
              "      const channel = await google.colab.kernel.comms.open(id);\n",
              "      // Send a message to notify the kernel that we're ready.\n",
              "      channel.send({})\n",
              "\n",
              "      for await (const message of channel.messages) {\n",
              "        // Send a message to notify the kernel that we're ready.\n",
              "        channel.send({})\n",
              "        if (message.buffers) {\n",
              "          for (const buffer of message.buffers) {\n",
              "            buffers.push(buffer);\n",
              "            downloaded += buffer.byteLength;\n",
              "            progress.value = downloaded;\n",
              "          }\n",
              "        }\n",
              "      }\n",
              "      const blob = new Blob(buffers, {type: 'application/binary'});\n",
              "      const a = document.createElement('a');\n",
              "      a.href = window.URL.createObjectURL(blob);\n",
              "      a.download = filename;\n",
              "      div.appendChild(a);\n",
              "      a.click();\n",
              "      div.remove();\n",
              "    }\n",
              "  "
            ]
          },
          "metadata": {}
        },
        {
          "output_type": "display_data",
          "data": {
            "text/plain": [
              "<IPython.core.display.Javascript object>"
            ],
            "application/javascript": [
              "download(\"download_eb373eeb-41f7-4165-a48b-eae0f0ef473a\", \"prediccion_3.csv\", 11644)"
            ]
          },
          "metadata": {}
        }
      ]
    },
    {
      "cell_type": "markdown",
      "source": [
        "\n",
        "### Hiperparametros\n",
        "\n",
        "***Grid Search***\n",
        "Esta técnica de optimización de hiperparámetros busca la combinación óptima de hiperparámetros que maximice el rendimiento del modelo en un conjunto de datos de prueba."
      ],
      "metadata": {
        "id": "egXtRCWqFapq"
      }
    },
    {
      "cell_type": "code",
      "source": [
        "from sklearn.model_selection import GridSearchCV\n",
        "from sklearn.metrics import mean_absolute_error\n",
        "import time"
      ],
      "metadata": {
        "id": "m4a5p0UsGA6O"
      },
      "execution_count": null,
      "outputs": []
    },
    {
      "cell_type": "markdown",
      "source": [
        "**XGBoost**"
      ],
      "metadata": {
        "id": "xeIghGqK0UUP"
      }
    },
    {
      "cell_type": "code",
      "source": [
        "param_grid = {\n",
        "    'n_estimators':[100,600],\n",
        "    'max_depth': [2,6],\n",
        "    'learning_rate':[0.1, 0.6]\n",
        "}\n",
        "# Crear modelo con GridSearchCV\n",
        "model_gridsearch_xgb = GridSearchCV(\n",
        "    estimator = xgb,\n",
        "    param_grid = param_grid,\n",
        "    scoring = 'neg_mean_absolute_error', \n",
        "    n_jobs = 8,\n",
        "    cv = 50, \n",
        "    refit= True,\n",
        "    return_train_score = True\n",
        ")"
      ],
      "metadata": {
        "id": "2BuXevyXsoGb"
      },
      "execution_count": null,
      "outputs": []
    },
    {
      "cell_type": "code",
      "source": [
        "start = time.time()\n",
        "# Ajustar el modelo\n",
        "model_gridsearch_xgb.fit(X_train, y_train)"
      ],
      "metadata": {
        "colab": {
          "base_uri": "https://localhost:8080/",
          "height": 116
        },
        "id": "5Ll27-Desx_S",
        "outputId": "fc179091-9bbb-49b5-e024-1f32ff5a4a9d"
      },
      "execution_count": null,
      "outputs": [
        {
          "output_type": "execute_result",
          "data": {
            "text/plain": [
              "GridSearchCV(cv=50,\n",
              "             estimator=XGBRegressor(base_score=None, booster='gbtree',\n",
              "                                    callbacks=None, colsample_bylevel=None,\n",
              "                                    colsample_bynode=None,\n",
              "                                    colsample_bytree=None,\n",
              "                                    early_stopping_rounds=None,\n",
              "                                    enable_categorical=False, eval_metric=None,\n",
              "                                    feature_types=None, gamma=None, gpu_id=None,\n",
              "                                    grow_policy=None, importance_type=None,\n",
              "                                    interaction_constraints=None,\n",
              "                                    learning_rate=N...\n",
              "                                    max_cat_to_onehot=None, max_delta_step=None,\n",
              "                                    max_depth=2, max_leaves=None,\n",
              "                                    min_child_weight=None, missing=nan,\n",
              "                                    monotone_constraints=None, n_estimators=100,\n",
              "                                    n_jobs=None, num_parallel_tree=None,\n",
              "                                    predictor=None, random_state=42, ...),\n",
              "             n_jobs=8,\n",
              "             param_grid={'learning_rate': [0.1, 0.6], 'max_depth': [2, 6],\n",
              "                         'n_estimators': [100, 600]},\n",
              "             return_train_score=True, scoring='neg_mean_absolute_error')"
            ],
            "text/html": [
              "<style>#sk-container-id-18 {color: black;background-color: white;}#sk-container-id-18 pre{padding: 0;}#sk-container-id-18 div.sk-toggleable {background-color: white;}#sk-container-id-18 label.sk-toggleable__label {cursor: pointer;display: block;width: 100%;margin-bottom: 0;padding: 0.3em;box-sizing: border-box;text-align: center;}#sk-container-id-18 label.sk-toggleable__label-arrow:before {content: \"▸\";float: left;margin-right: 0.25em;color: #696969;}#sk-container-id-18 label.sk-toggleable__label-arrow:hover:before {color: black;}#sk-container-id-18 div.sk-estimator:hover label.sk-toggleable__label-arrow:before {color: black;}#sk-container-id-18 div.sk-toggleable__content {max-height: 0;max-width: 0;overflow: hidden;text-align: left;background-color: #f0f8ff;}#sk-container-id-18 div.sk-toggleable__content pre {margin: 0.2em;color: black;border-radius: 0.25em;background-color: #f0f8ff;}#sk-container-id-18 input.sk-toggleable__control:checked~div.sk-toggleable__content {max-height: 200px;max-width: 100%;overflow: auto;}#sk-container-id-18 input.sk-toggleable__control:checked~label.sk-toggleable__label-arrow:before {content: \"▾\";}#sk-container-id-18 div.sk-estimator input.sk-toggleable__control:checked~label.sk-toggleable__label {background-color: #d4ebff;}#sk-container-id-18 div.sk-label input.sk-toggleable__control:checked~label.sk-toggleable__label {background-color: #d4ebff;}#sk-container-id-18 input.sk-hidden--visually {border: 0;clip: rect(1px 1px 1px 1px);clip: rect(1px, 1px, 1px, 1px);height: 1px;margin: -1px;overflow: hidden;padding: 0;position: absolute;width: 1px;}#sk-container-id-18 div.sk-estimator {font-family: monospace;background-color: #f0f8ff;border: 1px dotted black;border-radius: 0.25em;box-sizing: border-box;margin-bottom: 0.5em;}#sk-container-id-18 div.sk-estimator:hover {background-color: #d4ebff;}#sk-container-id-18 div.sk-parallel-item::after {content: \"\";width: 100%;border-bottom: 1px solid gray;flex-grow: 1;}#sk-container-id-18 div.sk-label:hover label.sk-toggleable__label {background-color: #d4ebff;}#sk-container-id-18 div.sk-serial::before {content: \"\";position: absolute;border-left: 1px solid gray;box-sizing: border-box;top: 0;bottom: 0;left: 50%;z-index: 0;}#sk-container-id-18 div.sk-serial {display: flex;flex-direction: column;align-items: center;background-color: white;padding-right: 0.2em;padding-left: 0.2em;position: relative;}#sk-container-id-18 div.sk-item {position: relative;z-index: 1;}#sk-container-id-18 div.sk-parallel {display: flex;align-items: stretch;justify-content: center;background-color: white;position: relative;}#sk-container-id-18 div.sk-item::before, #sk-container-id-18 div.sk-parallel-item::before {content: \"\";position: absolute;border-left: 1px solid gray;box-sizing: border-box;top: 0;bottom: 0;left: 50%;z-index: -1;}#sk-container-id-18 div.sk-parallel-item {display: flex;flex-direction: column;z-index: 1;position: relative;background-color: white;}#sk-container-id-18 div.sk-parallel-item:first-child::after {align-self: flex-end;width: 50%;}#sk-container-id-18 div.sk-parallel-item:last-child::after {align-self: flex-start;width: 50%;}#sk-container-id-18 div.sk-parallel-item:only-child::after {width: 0;}#sk-container-id-18 div.sk-dashed-wrapped {border: 1px dashed gray;margin: 0 0.4em 0.5em 0.4em;box-sizing: border-box;padding-bottom: 0.4em;background-color: white;}#sk-container-id-18 div.sk-label label {font-family: monospace;font-weight: bold;display: inline-block;line-height: 1.2em;}#sk-container-id-18 div.sk-label-container {text-align: center;}#sk-container-id-18 div.sk-container {/* jupyter's `normalize.less` sets `[hidden] { display: none; }` but bootstrap.min.css set `[hidden] { display: none !important; }` so we also need the `!important` here to be able to override the default hidden behavior on the sphinx rendered scikit-learn.org. See: https://github.com/scikit-learn/scikit-learn/issues/21755 */display: inline-block !important;position: relative;}#sk-container-id-18 div.sk-text-repr-fallback {display: none;}</style><div id=\"sk-container-id-18\" class=\"sk-top-container\"><div class=\"sk-text-repr-fallback\"><pre>GridSearchCV(cv=50,\n",
              "             estimator=XGBRegressor(base_score=None, booster=&#x27;gbtree&#x27;,\n",
              "                                    callbacks=None, colsample_bylevel=None,\n",
              "                                    colsample_bynode=None,\n",
              "                                    colsample_bytree=None,\n",
              "                                    early_stopping_rounds=None,\n",
              "                                    enable_categorical=False, eval_metric=None,\n",
              "                                    feature_types=None, gamma=None, gpu_id=None,\n",
              "                                    grow_policy=None, importance_type=None,\n",
              "                                    interaction_constraints=None,\n",
              "                                    learning_rate=N...\n",
              "                                    max_cat_to_onehot=None, max_delta_step=None,\n",
              "                                    max_depth=2, max_leaves=None,\n",
              "                                    min_child_weight=None, missing=nan,\n",
              "                                    monotone_constraints=None, n_estimators=100,\n",
              "                                    n_jobs=None, num_parallel_tree=None,\n",
              "                                    predictor=None, random_state=42, ...),\n",
              "             n_jobs=8,\n",
              "             param_grid={&#x27;learning_rate&#x27;: [0.1, 0.6], &#x27;max_depth&#x27;: [2, 6],\n",
              "                         &#x27;n_estimators&#x27;: [100, 600]},\n",
              "             return_train_score=True, scoring=&#x27;neg_mean_absolute_error&#x27;)</pre><b>In a Jupyter environment, please rerun this cell to show the HTML representation or trust the notebook. <br />On GitHub, the HTML representation is unable to render, please try loading this page with nbviewer.org.</b></div><div class=\"sk-container\" hidden><div class=\"sk-item sk-dashed-wrapped\"><div class=\"sk-label-container\"><div class=\"sk-label sk-toggleable\"><input class=\"sk-toggleable__control sk-hidden--visually\" id=\"sk-estimator-id-26\" type=\"checkbox\" ><label for=\"sk-estimator-id-26\" class=\"sk-toggleable__label sk-toggleable__label-arrow\">GridSearchCV</label><div class=\"sk-toggleable__content\"><pre>GridSearchCV(cv=50,\n",
              "             estimator=XGBRegressor(base_score=None, booster=&#x27;gbtree&#x27;,\n",
              "                                    callbacks=None, colsample_bylevel=None,\n",
              "                                    colsample_bynode=None,\n",
              "                                    colsample_bytree=None,\n",
              "                                    early_stopping_rounds=None,\n",
              "                                    enable_categorical=False, eval_metric=None,\n",
              "                                    feature_types=None, gamma=None, gpu_id=None,\n",
              "                                    grow_policy=None, importance_type=None,\n",
              "                                    interaction_constraints=None,\n",
              "                                    learning_rate=N...\n",
              "                                    max_cat_to_onehot=None, max_delta_step=None,\n",
              "                                    max_depth=2, max_leaves=None,\n",
              "                                    min_child_weight=None, missing=nan,\n",
              "                                    monotone_constraints=None, n_estimators=100,\n",
              "                                    n_jobs=None, num_parallel_tree=None,\n",
              "                                    predictor=None, random_state=42, ...),\n",
              "             n_jobs=8,\n",
              "             param_grid={&#x27;learning_rate&#x27;: [0.1, 0.6], &#x27;max_depth&#x27;: [2, 6],\n",
              "                         &#x27;n_estimators&#x27;: [100, 600]},\n",
              "             return_train_score=True, scoring=&#x27;neg_mean_absolute_error&#x27;)</pre></div></div></div><div class=\"sk-parallel\"><div class=\"sk-parallel-item\"><div class=\"sk-item\"><div class=\"sk-label-container\"><div class=\"sk-label sk-toggleable\"><input class=\"sk-toggleable__control sk-hidden--visually\" id=\"sk-estimator-id-27\" type=\"checkbox\" ><label for=\"sk-estimator-id-27\" class=\"sk-toggleable__label sk-toggleable__label-arrow\">estimator: XGBRegressor</label><div class=\"sk-toggleable__content\"><pre>XGBRegressor(base_score=None, booster=&#x27;gbtree&#x27;, callbacks=None,\n",
              "             colsample_bylevel=None, colsample_bynode=None,\n",
              "             colsample_bytree=None, early_stopping_rounds=None,\n",
              "             enable_categorical=False, eval_metric=None, feature_types=None,\n",
              "             gamma=None, gpu_id=None, grow_policy=None, importance_type=None,\n",
              "             interaction_constraints=None, learning_rate=None, max_bin=None,\n",
              "             max_cat_threshold=None, max_cat_to_onehot=None,\n",
              "             max_delta_step=None, max_depth=2, max_leaves=None,\n",
              "             min_child_weight=None, missing=nan, monotone_constraints=None,\n",
              "             n_estimators=100, n_jobs=None, num_parallel_tree=None,\n",
              "             predictor=None, random_state=42, ...)</pre></div></div></div><div class=\"sk-serial\"><div class=\"sk-item\"><div class=\"sk-estimator sk-toggleable\"><input class=\"sk-toggleable__control sk-hidden--visually\" id=\"sk-estimator-id-28\" type=\"checkbox\" ><label for=\"sk-estimator-id-28\" class=\"sk-toggleable__label sk-toggleable__label-arrow\">XGBRegressor</label><div class=\"sk-toggleable__content\"><pre>XGBRegressor(base_score=None, booster=&#x27;gbtree&#x27;, callbacks=None,\n",
              "             colsample_bylevel=None, colsample_bynode=None,\n",
              "             colsample_bytree=None, early_stopping_rounds=None,\n",
              "             enable_categorical=False, eval_metric=None, feature_types=None,\n",
              "             gamma=None, gpu_id=None, grow_policy=None, importance_type=None,\n",
              "             interaction_constraints=None, learning_rate=None, max_bin=None,\n",
              "             max_cat_threshold=None, max_cat_to_onehot=None,\n",
              "             max_delta_step=None, max_depth=2, max_leaves=None,\n",
              "             min_child_weight=None, missing=nan, monotone_constraints=None,\n",
              "             n_estimators=100, n_jobs=None, num_parallel_tree=None,\n",
              "             predictor=None, random_state=42, ...)</pre></div></div></div></div></div></div></div></div></div></div>"
            ]
          },
          "metadata": {},
          "execution_count": 455
        }
      ]
    },
    {
      "cell_type": "code",
      "source": [
        "y_pred_grid_xgb = model_gridsearch_xgb.predict(X_test)\n",
        "mae_grid_xgb = mean_absolute_error(y_test, y_pred_grid_xgb)\n",
        "mae_grid_xgb"
      ],
      "metadata": {
        "colab": {
          "base_uri": "https://localhost:8080/"
        },
        "id": "Z8fzt3-k0IVj",
        "outputId": "28e8996c-1643-4b41-a1fb-19de8b51a6a8"
      },
      "execution_count": null,
      "outputs": [
        {
          "output_type": "execute_result",
          "data": {
            "text/plain": [
              "202.00761665069496"
            ]
          },
          "metadata": {},
          "execution_count": 456
        }
      ]
    },
    {
      "cell_type": "code",
      "source": [
        "model_gridsearch_xgb.best_params_"
      ],
      "metadata": {
        "colab": {
          "base_uri": "https://localhost:8080/"
        },
        "id": "unmd0T_z0JpG",
        "outputId": "b0fe693b-1334-4d7f-f0e7-5d249e9ee262"
      },
      "execution_count": null,
      "outputs": [
        {
          "output_type": "execute_result",
          "data": {
            "text/plain": [
              "{'learning_rate': 0.1, 'max_depth': 6, 'n_estimators': 100}"
            ]
          },
          "metadata": {},
          "execution_count": 457
        }
      ]
    },
    {
      "cell_type": "code",
      "source": [
        "model_gridsearch_xgb.best_score_"
      ],
      "metadata": {
        "colab": {
          "base_uri": "https://localhost:8080/"
        },
        "id": "7lAlxym00NMd",
        "outputId": "7af6cc38-3f1f-47c5-e244-6b8e2ed50a85"
      },
      "execution_count": null,
      "outputs": [
        {
          "output_type": "execute_result",
          "data": {
            "text/plain": [
              "-208.34336059275563"
            ]
          },
          "metadata": {},
          "execution_count": 458
        }
      ]
    },
    {
      "cell_type": "code",
      "source": [
        "pred_xgb1 = pd.DataFrame(model_gridsearch_xgb.predict(X_test1),columns=['tiempo_entrega'],index=X_test2.index).reset_index()\n",
        "pred_xgb1.tiempo_entrega=pred_xgb1.tiempo_entrega.astype(int)"
      ],
      "metadata": {
        "id": "goToN-503FDY"
      },
      "execution_count": null,
      "outputs": []
    },
    {
      "cell_type": "code",
      "source": [
        "pred_xgb1.to_csv(\"prediccion_3.csv\",index=False)\n",
        "files.download(\"prediccion_3.csv\")"
      ],
      "metadata": {
        "colab": {
          "base_uri": "https://localhost:8080/",
          "height": 17
        },
        "id": "mZAUz9MN3SrF",
        "outputId": "84597a22-7eac-4498-c126-6044cf383f0e"
      },
      "execution_count": null,
      "outputs": [
        {
          "output_type": "display_data",
          "data": {
            "text/plain": [
              "<IPython.core.display.Javascript object>"
            ],
            "application/javascript": [
              "\n",
              "    async function download(id, filename, size) {\n",
              "      if (!google.colab.kernel.accessAllowed) {\n",
              "        return;\n",
              "      }\n",
              "      const div = document.createElement('div');\n",
              "      const label = document.createElement('label');\n",
              "      label.textContent = `Downloading \"${filename}\": `;\n",
              "      div.appendChild(label);\n",
              "      const progress = document.createElement('progress');\n",
              "      progress.max = size;\n",
              "      div.appendChild(progress);\n",
              "      document.body.appendChild(div);\n",
              "\n",
              "      const buffers = [];\n",
              "      let downloaded = 0;\n",
              "\n",
              "      const channel = await google.colab.kernel.comms.open(id);\n",
              "      // Send a message to notify the kernel that we're ready.\n",
              "      channel.send({})\n",
              "\n",
              "      for await (const message of channel.messages) {\n",
              "        // Send a message to notify the kernel that we're ready.\n",
              "        channel.send({})\n",
              "        if (message.buffers) {\n",
              "          for (const buffer of message.buffers) {\n",
              "            buffers.push(buffer);\n",
              "            downloaded += buffer.byteLength;\n",
              "            progress.value = downloaded;\n",
              "          }\n",
              "        }\n",
              "      }\n",
              "      const blob = new Blob(buffers, {type: 'application/binary'});\n",
              "      const a = document.createElement('a');\n",
              "      a.href = window.URL.createObjectURL(blob);\n",
              "      a.download = filename;\n",
              "      div.appendChild(a);\n",
              "      a.click();\n",
              "      div.remove();\n",
              "    }\n",
              "  "
            ]
          },
          "metadata": {}
        },
        {
          "output_type": "display_data",
          "data": {
            "text/plain": [
              "<IPython.core.display.Javascript object>"
            ],
            "application/javascript": [
              "download(\"download_633809de-f1a4-47bb-8017-8d8ddf66bc0a\", \"prediccion_3.csv\", 11659)"
            ]
          },
          "metadata": {}
        }
      ]
    },
    {
      "cell_type": "markdown",
      "source": [
        "**RF**"
      ],
      "metadata": {
        "id": "42QJDY3z0aKi"
      }
    },
    {
      "cell_type": "code",
      "source": [
        "param_grid = {\n",
        "    'n_estimators':[100,600],\n",
        "    'max_depth': [4,10],\n",
        "    'min_samples_leaf':[2,6,10]\n",
        "}\n",
        "\n",
        "model_gridsearch_rf = GridSearchCV(\n",
        "    estimator = modelo_rf,\n",
        "    param_grid = param_grid,\n",
        "    scoring = 'neg_mean_absolute_error',\n",
        "    n_jobs = 8,\n",
        "    cv = 50, \n",
        "    refit= True,\n",
        "    return_train_score = True\n",
        ")"
      ],
      "metadata": {
        "id": "oH3xV-UJ0gJH"
      },
      "execution_count": null,
      "outputs": []
    },
    {
      "cell_type": "code",
      "source": [
        "start = time.time()\n",
        "# Ajustar el modelo\n",
        "model_gridsearch_rf.fit(X_train, y_train)"
      ],
      "metadata": {
        "colab": {
          "base_uri": "https://localhost:8080/",
          "height": 171
        },
        "id": "rl6mkWvt0nFi",
        "outputId": "a9da4587-e07d-4b92-bbc0-f47766d8a93f"
      },
      "execution_count": null,
      "outputs": [
        {
          "output_type": "stream",
          "name": "stderr",
          "text": [
            "/usr/local/lib/python3.10/dist-packages/sklearn/model_selection/_search.py:909: DataConversionWarning: A column-vector y was passed when a 1d array was expected. Please change the shape of y to (n_samples,), for example using ravel().\n",
            "  self.best_estimator_.fit(X, y, **fit_params)\n"
          ]
        },
        {
          "output_type": "execute_result",
          "data": {
            "text/plain": [
              "GridSearchCV(cv=50,\n",
              "             estimator=RandomForestRegressor(max_depth=5, max_features=13,\n",
              "                                             min_samples_leaf=50,\n",
              "                                             min_samples_split=150,\n",
              "                                             random_state=44),\n",
              "             n_jobs=8,\n",
              "             param_grid={'max_depth': [4, 10], 'min_samples_leaf': [2, 6, 10],\n",
              "                         'n_estimators': [100, 600]},\n",
              "             return_train_score=True, scoring='neg_mean_absolute_error')"
            ],
            "text/html": [
              "<style>#sk-container-id-15 {color: black;background-color: white;}#sk-container-id-15 pre{padding: 0;}#sk-container-id-15 div.sk-toggleable {background-color: white;}#sk-container-id-15 label.sk-toggleable__label {cursor: pointer;display: block;width: 100%;margin-bottom: 0;padding: 0.3em;box-sizing: border-box;text-align: center;}#sk-container-id-15 label.sk-toggleable__label-arrow:before {content: \"▸\";float: left;margin-right: 0.25em;color: #696969;}#sk-container-id-15 label.sk-toggleable__label-arrow:hover:before {color: black;}#sk-container-id-15 div.sk-estimator:hover label.sk-toggleable__label-arrow:before {color: black;}#sk-container-id-15 div.sk-toggleable__content {max-height: 0;max-width: 0;overflow: hidden;text-align: left;background-color: #f0f8ff;}#sk-container-id-15 div.sk-toggleable__content pre {margin: 0.2em;color: black;border-radius: 0.25em;background-color: #f0f8ff;}#sk-container-id-15 input.sk-toggleable__control:checked~div.sk-toggleable__content {max-height: 200px;max-width: 100%;overflow: auto;}#sk-container-id-15 input.sk-toggleable__control:checked~label.sk-toggleable__label-arrow:before {content: \"▾\";}#sk-container-id-15 div.sk-estimator input.sk-toggleable__control:checked~label.sk-toggleable__label {background-color: #d4ebff;}#sk-container-id-15 div.sk-label input.sk-toggleable__control:checked~label.sk-toggleable__label {background-color: #d4ebff;}#sk-container-id-15 input.sk-hidden--visually {border: 0;clip: rect(1px 1px 1px 1px);clip: rect(1px, 1px, 1px, 1px);height: 1px;margin: -1px;overflow: hidden;padding: 0;position: absolute;width: 1px;}#sk-container-id-15 div.sk-estimator {font-family: monospace;background-color: #f0f8ff;border: 1px dotted black;border-radius: 0.25em;box-sizing: border-box;margin-bottom: 0.5em;}#sk-container-id-15 div.sk-estimator:hover {background-color: #d4ebff;}#sk-container-id-15 div.sk-parallel-item::after {content: \"\";width: 100%;border-bottom: 1px solid gray;flex-grow: 1;}#sk-container-id-15 div.sk-label:hover label.sk-toggleable__label {background-color: #d4ebff;}#sk-container-id-15 div.sk-serial::before {content: \"\";position: absolute;border-left: 1px solid gray;box-sizing: border-box;top: 0;bottom: 0;left: 50%;z-index: 0;}#sk-container-id-15 div.sk-serial {display: flex;flex-direction: column;align-items: center;background-color: white;padding-right: 0.2em;padding-left: 0.2em;position: relative;}#sk-container-id-15 div.sk-item {position: relative;z-index: 1;}#sk-container-id-15 div.sk-parallel {display: flex;align-items: stretch;justify-content: center;background-color: white;position: relative;}#sk-container-id-15 div.sk-item::before, #sk-container-id-15 div.sk-parallel-item::before {content: \"\";position: absolute;border-left: 1px solid gray;box-sizing: border-box;top: 0;bottom: 0;left: 50%;z-index: -1;}#sk-container-id-15 div.sk-parallel-item {display: flex;flex-direction: column;z-index: 1;position: relative;background-color: white;}#sk-container-id-15 div.sk-parallel-item:first-child::after {align-self: flex-end;width: 50%;}#sk-container-id-15 div.sk-parallel-item:last-child::after {align-self: flex-start;width: 50%;}#sk-container-id-15 div.sk-parallel-item:only-child::after {width: 0;}#sk-container-id-15 div.sk-dashed-wrapped {border: 1px dashed gray;margin: 0 0.4em 0.5em 0.4em;box-sizing: border-box;padding-bottom: 0.4em;background-color: white;}#sk-container-id-15 div.sk-label label {font-family: monospace;font-weight: bold;display: inline-block;line-height: 1.2em;}#sk-container-id-15 div.sk-label-container {text-align: center;}#sk-container-id-15 div.sk-container {/* jupyter's `normalize.less` sets `[hidden] { display: none; }` but bootstrap.min.css set `[hidden] { display: none !important; }` so we also need the `!important` here to be able to override the default hidden behavior on the sphinx rendered scikit-learn.org. See: https://github.com/scikit-learn/scikit-learn/issues/21755 */display: inline-block !important;position: relative;}#sk-container-id-15 div.sk-text-repr-fallback {display: none;}</style><div id=\"sk-container-id-15\" class=\"sk-top-container\"><div class=\"sk-text-repr-fallback\"><pre>GridSearchCV(cv=50,\n",
              "             estimator=RandomForestRegressor(max_depth=5, max_features=13,\n",
              "                                             min_samples_leaf=50,\n",
              "                                             min_samples_split=150,\n",
              "                                             random_state=44),\n",
              "             n_jobs=8,\n",
              "             param_grid={&#x27;max_depth&#x27;: [4, 10], &#x27;min_samples_leaf&#x27;: [2, 6, 10],\n",
              "                         &#x27;n_estimators&#x27;: [100, 600]},\n",
              "             return_train_score=True, scoring=&#x27;neg_mean_absolute_error&#x27;)</pre><b>In a Jupyter environment, please rerun this cell to show the HTML representation or trust the notebook. <br />On GitHub, the HTML representation is unable to render, please try loading this page with nbviewer.org.</b></div><div class=\"sk-container\" hidden><div class=\"sk-item sk-dashed-wrapped\"><div class=\"sk-label-container\"><div class=\"sk-label sk-toggleable\"><input class=\"sk-toggleable__control sk-hidden--visually\" id=\"sk-estimator-id-19\" type=\"checkbox\" ><label for=\"sk-estimator-id-19\" class=\"sk-toggleable__label sk-toggleable__label-arrow\">GridSearchCV</label><div class=\"sk-toggleable__content\"><pre>GridSearchCV(cv=50,\n",
              "             estimator=RandomForestRegressor(max_depth=5, max_features=13,\n",
              "                                             min_samples_leaf=50,\n",
              "                                             min_samples_split=150,\n",
              "                                             random_state=44),\n",
              "             n_jobs=8,\n",
              "             param_grid={&#x27;max_depth&#x27;: [4, 10], &#x27;min_samples_leaf&#x27;: [2, 6, 10],\n",
              "                         &#x27;n_estimators&#x27;: [100, 600]},\n",
              "             return_train_score=True, scoring=&#x27;neg_mean_absolute_error&#x27;)</pre></div></div></div><div class=\"sk-parallel\"><div class=\"sk-parallel-item\"><div class=\"sk-item\"><div class=\"sk-label-container\"><div class=\"sk-label sk-toggleable\"><input class=\"sk-toggleable__control sk-hidden--visually\" id=\"sk-estimator-id-20\" type=\"checkbox\" ><label for=\"sk-estimator-id-20\" class=\"sk-toggleable__label sk-toggleable__label-arrow\">estimator: RandomForestRegressor</label><div class=\"sk-toggleable__content\"><pre>RandomForestRegressor(max_depth=5, max_features=13, min_samples_leaf=50,\n",
              "                      min_samples_split=150, random_state=44)</pre></div></div></div><div class=\"sk-serial\"><div class=\"sk-item\"><div class=\"sk-estimator sk-toggleable\"><input class=\"sk-toggleable__control sk-hidden--visually\" id=\"sk-estimator-id-21\" type=\"checkbox\" ><label for=\"sk-estimator-id-21\" class=\"sk-toggleable__label sk-toggleable__label-arrow\">RandomForestRegressor</label><div class=\"sk-toggleable__content\"><pre>RandomForestRegressor(max_depth=5, max_features=13, min_samples_leaf=50,\n",
              "                      min_samples_split=150, random_state=44)</pre></div></div></div></div></div></div></div></div></div></div>"
            ]
          },
          "metadata": {},
          "execution_count": 429
        }
      ]
    },
    {
      "cell_type": "code",
      "source": [
        "y_pred_grid_rf = model_gridsearch_rf.predict(X_test)\n",
        "mean_absolute_error(y_test,y_pred_grid_rf)"
      ],
      "metadata": {
        "colab": {
          "base_uri": "https://localhost:8080/"
        },
        "id": "IOU3re4B0sHw",
        "outputId": "1253aef0-f5bd-4311-e354-3b0e722d8633"
      },
      "execution_count": null,
      "outputs": [
        {
          "output_type": "execute_result",
          "data": {
            "text/plain": [
              "207.52999718860104"
            ]
          },
          "metadata": {},
          "execution_count": 430
        }
      ]
    },
    {
      "cell_type": "code",
      "source": [
        "model_gridsearch_rf.best_params_"
      ],
      "metadata": {
        "colab": {
          "base_uri": "https://localhost:8080/"
        },
        "id": "MDCkvZte7mqi",
        "outputId": "2956e63c-a57e-4cd5-c3d2-701913f33c5e"
      },
      "execution_count": null,
      "outputs": [
        {
          "output_type": "execute_result",
          "data": {
            "text/plain": [
              "{'max_depth': 10, 'min_samples_leaf': 10, 'n_estimators': 100}"
            ]
          },
          "metadata": {},
          "execution_count": 431
        }
      ]
    },
    {
      "cell_type": "code",
      "source": [
        "model_gridsearch_rf.best_score_"
      ],
      "metadata": {
        "colab": {
          "base_uri": "https://localhost:8080/"
        },
        "id": "pxgnXqXD7rZw",
        "outputId": "ff8d0c1d-f4ce-4726-c2e5-9acb52cc123b"
      },
      "execution_count": null,
      "outputs": [
        {
          "output_type": "execute_result",
          "data": {
            "text/plain": [
              "-217.21740632792864"
            ]
          },
          "metadata": {},
          "execution_count": 432
        }
      ]
    },
    {
      "cell_type": "code",
      "source": [
        "pred_rf1 = pd.DataFrame(model_gridsearch_rf.predict(X_test1),columns=['tiempo_entrega'],index=X_test2.index).reset_index()\n",
        "pred_rf1.tiempo_entrega=pred_rf1.tiempo_entrega.astype(int)"
      ],
      "metadata": {
        "id": "5Gzr9pzn7wLd"
      },
      "execution_count": null,
      "outputs": []
    },
    {
      "cell_type": "code",
      "source": [
        "pred_rf1.to_csv(\"prediccion_3.csv\",index=False)\n",
        "files.download(\"prediccion_3.csv\")"
      ],
      "metadata": {
        "colab": {
          "base_uri": "https://localhost:8080/",
          "height": 17
        },
        "id": "Ft0Dy-zJ77iC",
        "outputId": "4531dfe7-878f-4f2d-cd7d-136582885f18"
      },
      "execution_count": null,
      "outputs": [
        {
          "output_type": "display_data",
          "data": {
            "text/plain": [
              "<IPython.core.display.Javascript object>"
            ],
            "application/javascript": [
              "\n",
              "    async function download(id, filename, size) {\n",
              "      if (!google.colab.kernel.accessAllowed) {\n",
              "        return;\n",
              "      }\n",
              "      const div = document.createElement('div');\n",
              "      const label = document.createElement('label');\n",
              "      label.textContent = `Downloading \"${filename}\": `;\n",
              "      div.appendChild(label);\n",
              "      const progress = document.createElement('progress');\n",
              "      progress.max = size;\n",
              "      div.appendChild(progress);\n",
              "      document.body.appendChild(div);\n",
              "\n",
              "      const buffers = [];\n",
              "      let downloaded = 0;\n",
              "\n",
              "      const channel = await google.colab.kernel.comms.open(id);\n",
              "      // Send a message to notify the kernel that we're ready.\n",
              "      channel.send({})\n",
              "\n",
              "      for await (const message of channel.messages) {\n",
              "        // Send a message to notify the kernel that we're ready.\n",
              "        channel.send({})\n",
              "        if (message.buffers) {\n",
              "          for (const buffer of message.buffers) {\n",
              "            buffers.push(buffer);\n",
              "            downloaded += buffer.byteLength;\n",
              "            progress.value = downloaded;\n",
              "          }\n",
              "        }\n",
              "      }\n",
              "      const blob = new Blob(buffers, {type: 'application/binary'});\n",
              "      const a = document.createElement('a');\n",
              "      a.href = window.URL.createObjectURL(blob);\n",
              "      a.download = filename;\n",
              "      div.appendChild(a);\n",
              "      a.click();\n",
              "      div.remove();\n",
              "    }\n",
              "  "
            ]
          },
          "metadata": {}
        },
        {
          "output_type": "display_data",
          "data": {
            "text/plain": [
              "<IPython.core.display.Javascript object>"
            ],
            "application/javascript": [
              "download(\"download_d8cb1fa6-b057-42ed-819a-f7162c8ea957\", \"prediccion_3.csv\", 11663)"
            ]
          },
          "metadata": {}
        }
      ]
    },
    {
      "cell_type": "markdown",
      "source": [
        "# Random Search"
      ],
      "metadata": {
        "id": "IQPJYvuV-3cu"
      }
    },
    {
      "cell_type": "markdown",
      "source": [
        "Continuando con el mejoramiento de los modelos, se utilizo la tecnica de ajuste de hiperparametros Random Search, con el principal objetuvo de encontrar la mejor combinación de hiperparámetros para el modelo establecido. El manejo de esta tecnica se centra en realizar una búsqueda aleatoria en el espacio de hiperparámetros para asi eligir combinaciones de hiperparámetros al azar que posteriormente seran evaluadas para determinar si estas pueden mejorar la prediccion de los modelos. \n",
        "\n"
      ],
      "metadata": {
        "id": "zqOLN-7qWKLS"
      }
    },
    {
      "cell_type": "code",
      "source": [
        "from sklearn.model_selection import RandomizedSearchCV"
      ],
      "metadata": {
        "id": "wBHDNsY48WlR"
      },
      "execution_count": null,
      "outputs": []
    },
    {
      "cell_type": "code",
      "source": [
        "param_dist ={\n",
        "    'n_estimators': list(range(160,220,10)),\n",
        "    'min_samples_leaf':list(range(3,10)),\n",
        "    'max_depth': list(range(4,10,2))\n",
        "}\n",
        "\n",
        "n_iter = 50\n",
        "\n",
        "# Crear modelo RandomizedSearchCV\n",
        "model_random_search = RandomizedSearchCV(\n",
        "    estimator = modelo_rf,\n",
        "    param_distributions = param_dist,\n",
        "    n_iter = n_iter,\n",
        "    n_jobs = 8\n",
        "\n",
        ")"
      ],
      "metadata": {
        "id": "9kYI2yLC8X1D"
      },
      "execution_count": null,
      "outputs": []
    },
    {
      "cell_type": "code",
      "source": [
        "start = time.time()\n",
        "# Ajustar el modelo\n",
        "model_random_search.fit(X_train, y_train)"
      ],
      "metadata": {
        "colab": {
          "base_uri": "https://localhost:8080/",
          "height": 171
        },
        "id": "StlMXLDj8aco",
        "outputId": "2af99195-e640-46e8-f095-9aaebe04af6a"
      },
      "execution_count": null,
      "outputs": [
        {
          "output_type": "stream",
          "name": "stderr",
          "text": [
            "/usr/local/lib/python3.10/dist-packages/sklearn/model_selection/_search.py:909: DataConversionWarning: A column-vector y was passed when a 1d array was expected. Please change the shape of y to (n_samples,), for example using ravel().\n",
            "  self.best_estimator_.fit(X, y, **fit_params)\n"
          ]
        },
        {
          "output_type": "execute_result",
          "data": {
            "text/plain": [
              "RandomizedSearchCV(estimator=RandomForestRegressor(max_depth=5, max_features=13,\n",
              "                                                   min_samples_leaf=50,\n",
              "                                                   min_samples_split=150,\n",
              "                                                   random_state=44),\n",
              "                   n_iter=50, n_jobs=8,\n",
              "                   param_distributions={'max_depth': [4, 6, 8],\n",
              "                                        'min_samples_leaf': [3, 4, 5, 6, 7, 8,\n",
              "                                                             9],\n",
              "                                        'n_estimators': [160, 170, 180, 190,\n",
              "                                                         200, 210]})"
            ],
            "text/html": [
              "<style>#sk-container-id-16 {color: black;background-color: white;}#sk-container-id-16 pre{padding: 0;}#sk-container-id-16 div.sk-toggleable {background-color: white;}#sk-container-id-16 label.sk-toggleable__label {cursor: pointer;display: block;width: 100%;margin-bottom: 0;padding: 0.3em;box-sizing: border-box;text-align: center;}#sk-container-id-16 label.sk-toggleable__label-arrow:before {content: \"▸\";float: left;margin-right: 0.25em;color: #696969;}#sk-container-id-16 label.sk-toggleable__label-arrow:hover:before {color: black;}#sk-container-id-16 div.sk-estimator:hover label.sk-toggleable__label-arrow:before {color: black;}#sk-container-id-16 div.sk-toggleable__content {max-height: 0;max-width: 0;overflow: hidden;text-align: left;background-color: #f0f8ff;}#sk-container-id-16 div.sk-toggleable__content pre {margin: 0.2em;color: black;border-radius: 0.25em;background-color: #f0f8ff;}#sk-container-id-16 input.sk-toggleable__control:checked~div.sk-toggleable__content {max-height: 200px;max-width: 100%;overflow: auto;}#sk-container-id-16 input.sk-toggleable__control:checked~label.sk-toggleable__label-arrow:before {content: \"▾\";}#sk-container-id-16 div.sk-estimator input.sk-toggleable__control:checked~label.sk-toggleable__label {background-color: #d4ebff;}#sk-container-id-16 div.sk-label input.sk-toggleable__control:checked~label.sk-toggleable__label {background-color: #d4ebff;}#sk-container-id-16 input.sk-hidden--visually {border: 0;clip: rect(1px 1px 1px 1px);clip: rect(1px, 1px, 1px, 1px);height: 1px;margin: -1px;overflow: hidden;padding: 0;position: absolute;width: 1px;}#sk-container-id-16 div.sk-estimator {font-family: monospace;background-color: #f0f8ff;border: 1px dotted black;border-radius: 0.25em;box-sizing: border-box;margin-bottom: 0.5em;}#sk-container-id-16 div.sk-estimator:hover {background-color: #d4ebff;}#sk-container-id-16 div.sk-parallel-item::after {content: \"\";width: 100%;border-bottom: 1px solid gray;flex-grow: 1;}#sk-container-id-16 div.sk-label:hover label.sk-toggleable__label {background-color: #d4ebff;}#sk-container-id-16 div.sk-serial::before {content: \"\";position: absolute;border-left: 1px solid gray;box-sizing: border-box;top: 0;bottom: 0;left: 50%;z-index: 0;}#sk-container-id-16 div.sk-serial {display: flex;flex-direction: column;align-items: center;background-color: white;padding-right: 0.2em;padding-left: 0.2em;position: relative;}#sk-container-id-16 div.sk-item {position: relative;z-index: 1;}#sk-container-id-16 div.sk-parallel {display: flex;align-items: stretch;justify-content: center;background-color: white;position: relative;}#sk-container-id-16 div.sk-item::before, #sk-container-id-16 div.sk-parallel-item::before {content: \"\";position: absolute;border-left: 1px solid gray;box-sizing: border-box;top: 0;bottom: 0;left: 50%;z-index: -1;}#sk-container-id-16 div.sk-parallel-item {display: flex;flex-direction: column;z-index: 1;position: relative;background-color: white;}#sk-container-id-16 div.sk-parallel-item:first-child::after {align-self: flex-end;width: 50%;}#sk-container-id-16 div.sk-parallel-item:last-child::after {align-self: flex-start;width: 50%;}#sk-container-id-16 div.sk-parallel-item:only-child::after {width: 0;}#sk-container-id-16 div.sk-dashed-wrapped {border: 1px dashed gray;margin: 0 0.4em 0.5em 0.4em;box-sizing: border-box;padding-bottom: 0.4em;background-color: white;}#sk-container-id-16 div.sk-label label {font-family: monospace;font-weight: bold;display: inline-block;line-height: 1.2em;}#sk-container-id-16 div.sk-label-container {text-align: center;}#sk-container-id-16 div.sk-container {/* jupyter's `normalize.less` sets `[hidden] { display: none; }` but bootstrap.min.css set `[hidden] { display: none !important; }` so we also need the `!important` here to be able to override the default hidden behavior on the sphinx rendered scikit-learn.org. See: https://github.com/scikit-learn/scikit-learn/issues/21755 */display: inline-block !important;position: relative;}#sk-container-id-16 div.sk-text-repr-fallback {display: none;}</style><div id=\"sk-container-id-16\" class=\"sk-top-container\"><div class=\"sk-text-repr-fallback\"><pre>RandomizedSearchCV(estimator=RandomForestRegressor(max_depth=5, max_features=13,\n",
              "                                                   min_samples_leaf=50,\n",
              "                                                   min_samples_split=150,\n",
              "                                                   random_state=44),\n",
              "                   n_iter=50, n_jobs=8,\n",
              "                   param_distributions={&#x27;max_depth&#x27;: [4, 6, 8],\n",
              "                                        &#x27;min_samples_leaf&#x27;: [3, 4, 5, 6, 7, 8,\n",
              "                                                             9],\n",
              "                                        &#x27;n_estimators&#x27;: [160, 170, 180, 190,\n",
              "                                                         200, 210]})</pre><b>In a Jupyter environment, please rerun this cell to show the HTML representation or trust the notebook. <br />On GitHub, the HTML representation is unable to render, please try loading this page with nbviewer.org.</b></div><div class=\"sk-container\" hidden><div class=\"sk-item sk-dashed-wrapped\"><div class=\"sk-label-container\"><div class=\"sk-label sk-toggleable\"><input class=\"sk-toggleable__control sk-hidden--visually\" id=\"sk-estimator-id-22\" type=\"checkbox\" ><label for=\"sk-estimator-id-22\" class=\"sk-toggleable__label sk-toggleable__label-arrow\">RandomizedSearchCV</label><div class=\"sk-toggleable__content\"><pre>RandomizedSearchCV(estimator=RandomForestRegressor(max_depth=5, max_features=13,\n",
              "                                                   min_samples_leaf=50,\n",
              "                                                   min_samples_split=150,\n",
              "                                                   random_state=44),\n",
              "                   n_iter=50, n_jobs=8,\n",
              "                   param_distributions={&#x27;max_depth&#x27;: [4, 6, 8],\n",
              "                                        &#x27;min_samples_leaf&#x27;: [3, 4, 5, 6, 7, 8,\n",
              "                                                             9],\n",
              "                                        &#x27;n_estimators&#x27;: [160, 170, 180, 190,\n",
              "                                                         200, 210]})</pre></div></div></div><div class=\"sk-parallel\"><div class=\"sk-parallel-item\"><div class=\"sk-item\"><div class=\"sk-label-container\"><div class=\"sk-label sk-toggleable\"><input class=\"sk-toggleable__control sk-hidden--visually\" id=\"sk-estimator-id-23\" type=\"checkbox\" ><label for=\"sk-estimator-id-23\" class=\"sk-toggleable__label sk-toggleable__label-arrow\">estimator: RandomForestRegressor</label><div class=\"sk-toggleable__content\"><pre>RandomForestRegressor(max_depth=5, max_features=13, min_samples_leaf=50,\n",
              "                      min_samples_split=150, random_state=44)</pre></div></div></div><div class=\"sk-serial\"><div class=\"sk-item\"><div class=\"sk-estimator sk-toggleable\"><input class=\"sk-toggleable__control sk-hidden--visually\" id=\"sk-estimator-id-24\" type=\"checkbox\" ><label for=\"sk-estimator-id-24\" class=\"sk-toggleable__label sk-toggleable__label-arrow\">RandomForestRegressor</label><div class=\"sk-toggleable__content\"><pre>RandomForestRegressor(max_depth=5, max_features=13, min_samples_leaf=50,\n",
              "                      min_samples_split=150, random_state=44)</pre></div></div></div></div></div></div></div></div></div></div>"
            ]
          },
          "metadata": {},
          "execution_count": 437
        }
      ]
    },
    {
      "cell_type": "code",
      "source": [
        "y_pred_grid_rs = model_random_search.predict(X_test)\n",
        "mean_absolute_error(y_test,y_pred_grid_rs)"
      ],
      "metadata": {
        "colab": {
          "base_uri": "https://localhost:8080/"
        },
        "id": "0adD7AVX_Iyy",
        "outputId": "3f9abfd7-3aa3-48a1-8694-1a492b824c7c"
      },
      "execution_count": null,
      "outputs": [
        {
          "output_type": "execute_result",
          "data": {
            "text/plain": [
              "208.35309419736038"
            ]
          },
          "metadata": {},
          "execution_count": 438
        }
      ]
    },
    {
      "cell_type": "code",
      "source": [
        "model_random_search.best_params_"
      ],
      "metadata": {
        "colab": {
          "base_uri": "https://localhost:8080/"
        },
        "id": "88i1u6z3AnAg",
        "outputId": "15986410-f92c-4db9-e79f-1aaba5dc8f21"
      },
      "execution_count": null,
      "outputs": [
        {
          "output_type": "execute_result",
          "data": {
            "text/plain": [
              "{'n_estimators': 200, 'min_samples_leaf': 4, 'max_depth': 8}"
            ]
          },
          "metadata": {},
          "execution_count": 442
        }
      ]
    },
    {
      "cell_type": "code",
      "source": [
        "model_random_search.best_score_"
      ],
      "metadata": {
        "colab": {
          "base_uri": "https://localhost:8080/"
        },
        "id": "87r57631AwkL",
        "outputId": "765d060d-8605-41f7-f317-b5a0348ec70c"
      },
      "execution_count": null,
      "outputs": [
        {
          "output_type": "execute_result",
          "data": {
            "text/plain": [
              "0.6478558606450842"
            ]
          },
          "metadata": {},
          "execution_count": 443
        }
      ]
    },
    {
      "cell_type": "code",
      "source": [
        "pred_rs = pd.DataFrame(model_random_search.predict(X_test1),columns=['tiempo_entrega'],index=X_test2.index).reset_index()\n",
        "pred_rs.tiempo_entrega=pred_rs.tiempo_entrega.astype(int)"
      ],
      "metadata": {
        "id": "W31o7LcnA5HE"
      },
      "execution_count": null,
      "outputs": []
    },
    {
      "cell_type": "code",
      "source": [
        "pred_rs.to_csv(\"prediccion_3.csv\",index=False)\n",
        "files.download(\"prediccion_3.csv\")"
      ],
      "metadata": {
        "colab": {
          "base_uri": "https://localhost:8080/",
          "height": 17
        },
        "id": "zBOzMdCWBDA3",
        "outputId": "c62a2680-6489-42c6-9012-df160d196c26"
      },
      "execution_count": null,
      "outputs": [
        {
          "output_type": "display_data",
          "data": {
            "text/plain": [
              "<IPython.core.display.Javascript object>"
            ],
            "application/javascript": [
              "\n",
              "    async function download(id, filename, size) {\n",
              "      if (!google.colab.kernel.accessAllowed) {\n",
              "        return;\n",
              "      }\n",
              "      const div = document.createElement('div');\n",
              "      const label = document.createElement('label');\n",
              "      label.textContent = `Downloading \"${filename}\": `;\n",
              "      div.appendChild(label);\n",
              "      const progress = document.createElement('progress');\n",
              "      progress.max = size;\n",
              "      div.appendChild(progress);\n",
              "      document.body.appendChild(div);\n",
              "\n",
              "      const buffers = [];\n",
              "      let downloaded = 0;\n",
              "\n",
              "      const channel = await google.colab.kernel.comms.open(id);\n",
              "      // Send a message to notify the kernel that we're ready.\n",
              "      channel.send({})\n",
              "\n",
              "      for await (const message of channel.messages) {\n",
              "        // Send a message to notify the kernel that we're ready.\n",
              "        channel.send({})\n",
              "        if (message.buffers) {\n",
              "          for (const buffer of message.buffers) {\n",
              "            buffers.push(buffer);\n",
              "            downloaded += buffer.byteLength;\n",
              "            progress.value = downloaded;\n",
              "          }\n",
              "        }\n",
              "      }\n",
              "      const blob = new Blob(buffers, {type: 'application/binary'});\n",
              "      const a = document.createElement('a');\n",
              "      a.href = window.URL.createObjectURL(blob);\n",
              "      a.download = filename;\n",
              "      div.appendChild(a);\n",
              "      a.click();\n",
              "      div.remove();\n",
              "    }\n",
              "  "
            ]
          },
          "metadata": {}
        },
        {
          "output_type": "display_data",
          "data": {
            "text/plain": [
              "<IPython.core.display.Javascript object>"
            ],
            "application/javascript": [
              "download(\"download_2d77f41f-b1d4-4294-85e9-c5445dc564af\", \"prediccion_3.csv\", 11666)"
            ]
          },
          "metadata": {}
        }
      ]
    }
  ]
}